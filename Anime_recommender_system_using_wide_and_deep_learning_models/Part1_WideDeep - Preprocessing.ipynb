{
 "cells": [
  {
   "cell_type": "markdown",
   "id": "2ded6ed8-322c-4cdc-9aff-e9a684a20470",
   "metadata": {},
   "source": [
    "## <font color='purple'> Data 255 - Lab 1 - Part 1"
   ]
  },
  {
   "cell_type": "markdown",
   "id": "ef04bbb3-859b-40be-abb6-6a2043fd00c7",
   "metadata": {
    "id": "ef04bbb3-859b-40be-abb6-6a2043fd00c7"
   },
   "source": [
    "<font color='purple'> Part 1: Deep Learning-Based Recommendation (10 Points)\n",
    "\n",
    "<font color='purple'> Read the paper Wide and Deep Learning for Recommender Systems.\n",
    "\n",
    "<font color='purple'> Download the files anime-dataset-2023.csv, users-details-2023.csv, users-score- 2023.csv from the following link: https://www.kaggle.com/datasets/dbdmobile/myanimelist-dataset\n",
    "\n",
    "<font color='purple'> Based on the architecture described in the paper, build your own Wide and Deep Recommender system for the Anime Dataset. Your model should learn the features of each user and anime, not just the associated ID numbers. Utilize an 80/20 train-test split and record your model’s prediction accuracy."
   ]
  },
  {
   "cell_type": "markdown",
   "id": "f65f43f8-7904-48c0-8d7f-370e01698e97",
   "metadata": {
    "id": "f65f43f8-7904-48c0-8d7f-370e01698e97"
   },
   "source": [
    "#### <font color='blue'> <b>Step 1:</b> Understanding the Wide & Deep Learning Paper"
   ]
  },
  {
   "cell_type": "markdown",
   "id": "88f7b939-b089-4fe1-b7f2-e8d612bf1584",
   "metadata": {
    "id": "88f7b939-b089-4fe1-b7f2-e8d612bf1584"
   },
   "source": [
    "#### <font color='blue'> <b>Step 2:</b> Preparing the Dataset"
   ]
  },
  {
   "cell_type": "code",
   "execution_count": 1,
   "id": "92282a37-f01b-4ba6-a446-89820557ef55",
   "metadata": {
    "id": "92282a37-f01b-4ba6-a446-89820557ef55"
   },
   "outputs": [],
   "source": [
    "import pandas as pd\n",
    "import numpy as np\n",
    "import gc\n",
    "import pandas as pd\n",
    "from sklearn.model_selection import StratifiedShuffleSplit"
   ]
  },
  {
   "cell_type": "markdown",
   "id": "4465831f-cbe8-4c76-86e7-93750983ad48",
   "metadata": {},
   "source": [
    "<font color='blue'> Load the datasets"
   ]
  },
  {
   "cell_type": "code",
   "execution_count": 2,
   "id": "f91c3946-daf6-4159-a420-879978d0de0d",
   "metadata": {
    "id": "f91c3946-daf6-4159-a420-879978d0de0d"
   },
   "outputs": [],
   "source": [
    "anime_data = pd.read_csv('anime-dataset-2023.csv')\n",
    "user_details = pd.read_csv('users-details-2023.csv')\n",
    "user_scores = pd.read_csv('users-score-2023.csv')"
   ]
  },
  {
   "cell_type": "code",
   "execution_count": 3,
   "id": "99d605e6-bc11-4350-9dfe-4eb4f3e65f4a",
   "metadata": {
    "colab": {
     "base_uri": "https://localhost:8080/",
     "height": 352
    },
    "id": "99d605e6-bc11-4350-9dfe-4eb4f3e65f4a",
    "outputId": "4be626b9-0620-40fa-a52c-22f75da70374"
   },
   "outputs": [
    {
     "data": {
      "text/html": [
       "<div>\n",
       "<style scoped>\n",
       "    .dataframe tbody tr th:only-of-type {\n",
       "        vertical-align: middle;\n",
       "    }\n",
       "\n",
       "    .dataframe tbody tr th {\n",
       "        vertical-align: top;\n",
       "    }\n",
       "\n",
       "    .dataframe thead th {\n",
       "        text-align: right;\n",
       "    }\n",
       "</style>\n",
       "<table border=\"1\" class=\"dataframe\">\n",
       "  <thead>\n",
       "    <tr style=\"text-align: right;\">\n",
       "      <th></th>\n",
       "      <th>anime_id</th>\n",
       "      <th>Name</th>\n",
       "      <th>English name</th>\n",
       "      <th>Other name</th>\n",
       "      <th>Score</th>\n",
       "      <th>Genres</th>\n",
       "      <th>Synopsis</th>\n",
       "      <th>Type</th>\n",
       "      <th>Episodes</th>\n",
       "      <th>Aired</th>\n",
       "      <th>...</th>\n",
       "      <th>Studios</th>\n",
       "      <th>Source</th>\n",
       "      <th>Duration</th>\n",
       "      <th>Rating</th>\n",
       "      <th>Rank</th>\n",
       "      <th>Popularity</th>\n",
       "      <th>Favorites</th>\n",
       "      <th>Scored By</th>\n",
       "      <th>Members</th>\n",
       "      <th>Image URL</th>\n",
       "    </tr>\n",
       "  </thead>\n",
       "  <tbody>\n",
       "    <tr>\n",
       "      <th>0</th>\n",
       "      <td>1</td>\n",
       "      <td>Cowboy Bebop</td>\n",
       "      <td>Cowboy Bebop</td>\n",
       "      <td>カウボーイビバップ</td>\n",
       "      <td>8.75</td>\n",
       "      <td>Action, Award Winning, Sci-Fi</td>\n",
       "      <td>Crime is timeless. By the year 2071, humanity ...</td>\n",
       "      <td>TV</td>\n",
       "      <td>26.0</td>\n",
       "      <td>Apr 3, 1998 to Apr 24, 1999</td>\n",
       "      <td>...</td>\n",
       "      <td>Sunrise</td>\n",
       "      <td>Original</td>\n",
       "      <td>24 min per ep</td>\n",
       "      <td>R - 17+ (violence &amp; profanity)</td>\n",
       "      <td>41.0</td>\n",
       "      <td>43</td>\n",
       "      <td>78525</td>\n",
       "      <td>914193.0</td>\n",
       "      <td>1771505</td>\n",
       "      <td>https://cdn.myanimelist.net/images/anime/4/196...</td>\n",
       "    </tr>\n",
       "    <tr>\n",
       "      <th>1</th>\n",
       "      <td>5</td>\n",
       "      <td>Cowboy Bebop: Tengoku no Tobira</td>\n",
       "      <td>Cowboy Bebop: The Movie</td>\n",
       "      <td>カウボーイビバップ 天国の扉</td>\n",
       "      <td>8.38</td>\n",
       "      <td>Action, Sci-Fi</td>\n",
       "      <td>Another day, another bounty—such is the life o...</td>\n",
       "      <td>Movie</td>\n",
       "      <td>1.0</td>\n",
       "      <td>Sep 1, 2001</td>\n",
       "      <td>...</td>\n",
       "      <td>Bones</td>\n",
       "      <td>Original</td>\n",
       "      <td>1 hr 55 min</td>\n",
       "      <td>R - 17+ (violence &amp; profanity)</td>\n",
       "      <td>189.0</td>\n",
       "      <td>602</td>\n",
       "      <td>1448</td>\n",
       "      <td>206248.0</td>\n",
       "      <td>360978</td>\n",
       "      <td>https://cdn.myanimelist.net/images/anime/1439/...</td>\n",
       "    </tr>\n",
       "  </tbody>\n",
       "</table>\n",
       "<p>2 rows × 24 columns</p>\n",
       "</div>"
      ],
      "text/plain": [
       "   anime_id                             Name             English name  \\\n",
       "0         1                     Cowboy Bebop             Cowboy Bebop   \n",
       "1         5  Cowboy Bebop: Tengoku no Tobira  Cowboy Bebop: The Movie   \n",
       "\n",
       "       Other name Score                         Genres  \\\n",
       "0       カウボーイビバップ  8.75  Action, Award Winning, Sci-Fi   \n",
       "1  カウボーイビバップ 天国の扉  8.38                 Action, Sci-Fi   \n",
       "\n",
       "                                            Synopsis   Type Episodes  \\\n",
       "0  Crime is timeless. By the year 2071, humanity ...     TV     26.0   \n",
       "1  Another day, another bounty—such is the life o...  Movie      1.0   \n",
       "\n",
       "                         Aired  ...  Studios    Source       Duration  \\\n",
       "0  Apr 3, 1998 to Apr 24, 1999  ...  Sunrise  Original  24 min per ep   \n",
       "1                  Sep 1, 2001  ...    Bones  Original    1 hr 55 min   \n",
       "\n",
       "                           Rating   Rank Popularity Favorites Scored By  \\\n",
       "0  R - 17+ (violence & profanity)   41.0         43     78525  914193.0   \n",
       "1  R - 17+ (violence & profanity)  189.0        602      1448  206248.0   \n",
       "\n",
       "   Members                                          Image URL  \n",
       "0  1771505  https://cdn.myanimelist.net/images/anime/4/196...  \n",
       "1   360978  https://cdn.myanimelist.net/images/anime/1439/...  \n",
       "\n",
       "[2 rows x 24 columns]"
      ]
     },
     "execution_count": 3,
     "metadata": {},
     "output_type": "execute_result"
    }
   ],
   "source": [
    "anime_data.head(2)"
   ]
  },
  {
   "cell_type": "code",
   "execution_count": 4,
   "id": "02f108b9-a708-47a2-9ba2-92d8af303a14",
   "metadata": {
    "colab": {
     "base_uri": "https://localhost:8080/"
    },
    "id": "02f108b9-a708-47a2-9ba2-92d8af303a14",
    "outputId": "c16992f3-37cb-4afc-b47c-b86d84d38011"
   },
   "outputs": [
    {
     "data": {
      "text/plain": [
       "Index(['anime_id', 'Name', 'English name', 'Other name', 'Score', 'Genres',\n",
       "       'Synopsis', 'Type', 'Episodes', 'Aired', 'Premiered', 'Status',\n",
       "       'Producers', 'Licensors', 'Studios', 'Source', 'Duration', 'Rating',\n",
       "       'Rank', 'Popularity', 'Favorites', 'Scored By', 'Members', 'Image URL'],\n",
       "      dtype='object')"
      ]
     },
     "execution_count": 4,
     "metadata": {},
     "output_type": "execute_result"
    }
   ],
   "source": [
    "anime_data.columns"
   ]
  },
  {
   "cell_type": "markdown",
   "id": "5285d6dc-23dd-4ba3-8f9f-d76e7982326d",
   "metadata": {},
   "source": [
    "<font color='blue'> Drop Irrelevant Columns"
   ]
  },
  {
   "cell_type": "code",
   "execution_count": 5,
   "id": "33f16a80-e6f4-42e6-9a5d-d4c88bc35dbd",
   "metadata": {
    "tags": []
   },
   "outputs": [],
   "source": [
    "anime_data = anime_data.drop(['English name', 'Other name', 'Synopsis', 'Premiered', 'Licensors', 'Scored By', \n",
    "                             'Members', 'Image URL'], axis=1)"
   ]
  },
  {
   "cell_type": "code",
   "execution_count": 6,
   "id": "604a15ca-cdea-4948-a9b5-2f1e848b8e7a",
   "metadata": {
    "tags": []
   },
   "outputs": [
    {
     "data": {
      "text/plain": [
       "Index(['anime_id', 'Name', 'Score', 'Genres', 'Type', 'Episodes', 'Aired',\n",
       "       'Status', 'Producers', 'Studios', 'Source', 'Duration', 'Rating',\n",
       "       'Rank', 'Popularity', 'Favorites'],\n",
       "      dtype='object')"
      ]
     },
     "execution_count": 6,
     "metadata": {},
     "output_type": "execute_result"
    }
   ],
   "source": [
    "anime_data.columns"
   ]
  },
  {
   "cell_type": "code",
   "execution_count": 7,
   "id": "752c4826-fe7e-4259-b6d3-0d054dec4fca",
   "metadata": {
    "colab": {
     "base_uri": "https://localhost:8080/"
    },
    "id": "752c4826-fe7e-4259-b6d3-0d054dec4fca",
    "outputId": "c2b17207-789e-4ba8-9f91-5e9dfba36081"
   },
   "outputs": [
    {
     "name": "stdout",
     "output_type": "stream",
     "text": [
      "<class 'pandas.core.frame.DataFrame'>\n",
      "RangeIndex: 24905 entries, 0 to 24904\n",
      "Data columns (total 16 columns):\n",
      " #   Column      Non-Null Count  Dtype \n",
      "---  ------      --------------  ----- \n",
      " 0   anime_id    24905 non-null  int64 \n",
      " 1   Name        24905 non-null  object\n",
      " 2   Score       24905 non-null  object\n",
      " 3   Genres      24905 non-null  object\n",
      " 4   Type        24905 non-null  object\n",
      " 5   Episodes    24905 non-null  object\n",
      " 6   Aired       24905 non-null  object\n",
      " 7   Status      24905 non-null  object\n",
      " 8   Producers   24905 non-null  object\n",
      " 9   Studios     24905 non-null  object\n",
      " 10  Source      24905 non-null  object\n",
      " 11  Duration    24905 non-null  object\n",
      " 12  Rating      24905 non-null  object\n",
      " 13  Rank        24905 non-null  object\n",
      " 14  Popularity  24905 non-null  int64 \n",
      " 15  Favorites   24905 non-null  int64 \n",
      "dtypes: int64(3), object(13)\n",
      "memory usage: 3.0+ MB\n"
     ]
    }
   ],
   "source": [
    "anime_data.info()"
   ]
  },
  {
   "cell_type": "markdown",
   "id": "5faeda4d-ba47-4b1c-add0-03e427938e9a",
   "metadata": {
    "id": "5faeda4d-ba47-4b1c-add0-03e427938e9a"
   },
   "source": [
    "<font color='blue'> Almost all columns are datatype object"
   ]
  },
  {
   "cell_type": "code",
   "execution_count": 8,
   "id": "39335d44-c884-43f7-a42a-04da3d518281",
   "metadata": {
    "tags": []
   },
   "outputs": [
    {
     "data": {
      "text/plain": [
       "anime_id      0\n",
       "Name          0\n",
       "Score         0\n",
       "Genres        0\n",
       "Type          0\n",
       "Episodes      0\n",
       "Aired         0\n",
       "Status        0\n",
       "Producers     0\n",
       "Studios       0\n",
       "Source        0\n",
       "Duration      0\n",
       "Rating        0\n",
       "Rank          0\n",
       "Popularity    0\n",
       "Favorites     0\n",
       "dtype: int64"
      ]
     },
     "execution_count": 8,
     "metadata": {},
     "output_type": "execute_result"
    }
   ],
   "source": [
    "anime_data.isna().sum()"
   ]
  },
  {
   "cell_type": "markdown",
   "id": "e626ff89-6380-4768-a7f8-77cd1b6d95b7",
   "metadata": {
    "id": "e626ff89-6380-4768-a7f8-77cd1b6d95b7"
   },
   "source": [
    "<font color='blue'> We see there are a lot of Unknown Values"
   ]
  },
  {
   "cell_type": "code",
   "execution_count": 9,
   "id": "4e8e0a4b-23ef-426b-b72a-58714452593e",
   "metadata": {
    "colab": {
     "base_uri": "https://localhost:8080/"
    },
    "id": "4e8e0a4b-23ef-426b-b72a-58714452593e",
    "outputId": "9ff1132c-69aa-4da7-b95c-f15b2a03bdc8"
   },
   "outputs": [
    {
     "name": "stdout",
     "output_type": "stream",
     "text": [
      "anime_id          0\n",
      "Name              0\n",
      "Score          9213\n",
      "Genres         4929\n",
      "Type             74\n",
      "Episodes        611\n",
      "Aired             0\n",
      "Status            0\n",
      "Producers     13350\n",
      "Studios       10526\n",
      "Source         3689\n",
      "Duration        663\n",
      "Rating          669\n",
      "Rank           4612\n",
      "Popularity        0\n",
      "Favorites         0\n",
      "dtype: int64\n"
     ]
    }
   ],
   "source": [
    "unknown_counts = (anime_data.applymap(lambda x: str(x).lower() == 'unknown')).sum()\n",
    "print(unknown_counts)"
   ]
  },
  {
   "cell_type": "markdown",
   "id": "132831c5-76c6-4849-a704-b56d7c6bfd4d",
   "metadata": {},
   "source": [
    "<font color='blue'> Change the Unknown Values for Numeric Columns to NaN"
   ]
  },
  {
   "cell_type": "code",
   "execution_count": 10,
   "id": "8d8dae5e-a3ee-49d1-9e70-ef912ec00a9b",
   "metadata": {
    "id": "8d8dae5e-a3ee-49d1-9e70-ef912ec00a9b"
   },
   "outputs": [],
   "source": [
    "columns_to_convert = ['Score', 'Episodes', 'Rank']\n",
    "\n",
    "anime_data[columns_to_convert] = anime_data[columns_to_convert].replace(\n",
    "    to_replace=['unknown', 'UNKNOWN', 'Unknown'], value=np.nan\n",
    ")\n",
    "anime_data[columns_to_convert] = anime_data[columns_to_convert].apply(pd.to_numeric, errors='coerce')"
   ]
  },
  {
   "cell_type": "markdown",
   "id": "98e35395-30c5-4bf8-a381-66591ebcbca5",
   "metadata": {},
   "source": [
    "<font color='blue'> Fill the NaN values with Mean or Median"
   ]
  },
  {
   "cell_type": "code",
   "execution_count": 11,
   "id": "08287383-b4d8-4647-bfcc-ab256ee18e27",
   "metadata": {
    "tags": []
   },
   "outputs": [],
   "source": [
    "mean_score = anime_data['Score'].mean()\n",
    "anime_data['Score'] = anime_data['Score'].fillna(mean_score)\n",
    "\n",
    "median_episodes = anime_data['Episodes'].median()\n",
    "anime_data['Episodes'] = anime_data['Episodes'].fillna(median_episodes)\n",
    "\n",
    "mean_rank = anime_data['Rank'].mean()\n",
    "anime_data['Rank'] = anime_data['Rank'].fillna(mean_rank)"
   ]
  },
  {
   "cell_type": "code",
   "execution_count": 12,
   "id": "598291ff-36fa-4e5e-aa08-7a6549a38f05",
   "metadata": {
    "colab": {
     "base_uri": "https://localhost:8080/",
     "height": 554
    },
    "id": "598291ff-36fa-4e5e-aa08-7a6549a38f05",
    "outputId": "d0d42c02-8b19-41ad-deca-ea525d69f932"
   },
   "outputs": [
    {
     "data": {
      "text/plain": [
       "anime_id        int64\n",
       "Name           object\n",
       "Score         float64\n",
       "Genres         object\n",
       "Type           object\n",
       "Episodes      float64\n",
       "Aired          object\n",
       "Status         object\n",
       "Producers      object\n",
       "Studios        object\n",
       "Source         object\n",
       "Duration       object\n",
       "Rating         object\n",
       "Rank          float64\n",
       "Popularity      int64\n",
       "Favorites       int64\n",
       "dtype: object"
      ]
     },
     "execution_count": 12,
     "metadata": {},
     "output_type": "execute_result"
    }
   ],
   "source": [
    "anime_data.dtypes"
   ]
  },
  {
   "cell_type": "code",
   "execution_count": 13,
   "id": "94415e57-07be-491f-b288-6af92433401c",
   "metadata": {
    "colab": {
     "base_uri": "https://localhost:8080/"
    },
    "id": "94415e57-07be-491f-b288-6af92433401c",
    "outputId": "4d757c57-3e72-419f-db80-8868f7032551"
   },
   "outputs": [
    {
     "name": "stdout",
     "output_type": "stream",
     "text": [
      "anime_id          0\n",
      "Name              0\n",
      "Score             0\n",
      "Genres         4929\n",
      "Type             74\n",
      "Episodes          0\n",
      "Aired             0\n",
      "Status            0\n",
      "Producers     13350\n",
      "Studios       10526\n",
      "Source         3689\n",
      "Duration        663\n",
      "Rating          669\n",
      "Rank              0\n",
      "Popularity        0\n",
      "Favorites         0\n",
      "dtype: int64\n"
     ]
    }
   ],
   "source": [
    "unknown_counts = (anime_data.applymap(lambda x: str(x).lower() == 'unknown')).sum()\n",
    "print(unknown_counts)"
   ]
  },
  {
   "cell_type": "markdown",
   "id": "94c36fa2-c86a-4cf7-bd1f-9a8bba7b66f6",
   "metadata": {},
   "source": [
    "<font color='blue'> Split the Aired column to Air Start and Air End"
   ]
  },
  {
   "cell_type": "code",
   "execution_count": 14,
   "id": "3874b690-93c6-4012-99bd-206d77c7be46",
   "metadata": {
    "id": "3874b690-93c6-4012-99bd-206d77c7be46"
   },
   "outputs": [],
   "source": [
    "anime_data[['Air Start', 'Air End']] = anime_data['Aired'].str.split(' to ', expand=True)\n",
    "\n",
    "anime_data['Air Start'] = pd.to_datetime(anime_data['Air Start'], format='%b %d, %Y', errors='coerce').dt.year\n",
    "anime_data['Air End'] = pd.to_datetime(anime_data['Air End'], format='%b %d, %Y', errors='coerce').dt.year\n",
    "\n",
    "anime_data.drop(columns=['Aired'], inplace=True)"
   ]
  },
  {
   "cell_type": "markdown",
   "id": "c2b786bd-f361-4d07-ae74-c64fd53398da",
   "metadata": {},
   "source": [
    "<font color='blue'> Fill Missing values for Air Start and End with median"
   ]
  },
  {
   "cell_type": "code",
   "execution_count": 15,
   "id": "cdaa46a1-6f15-41d0-88f5-5f88f2b02768",
   "metadata": {
    "colab": {
     "base_uri": "https://localhost:8080/"
    },
    "id": "cdaa46a1-6f15-41d0-88f5-5f88f2b02768",
    "outputId": "6baf15bc-8cfc-473c-fc77-35c4c1b61dc6"
   },
   "outputs": [],
   "source": [
    "anime_data['Air Start'].fillna(anime_data['Air Start'].median(), inplace=True)\n",
    "anime_data['Air End'].fillna(anime_data['Air End'].median(), inplace=True)"
   ]
  },
  {
   "cell_type": "markdown",
   "id": "52dcf359-37d0-469b-af3d-faad6c68669e",
   "metadata": {},
   "source": [
    "<font color='blue'> Convert Duration to Minutes"
   ]
  },
  {
   "cell_type": "code",
   "execution_count": 16,
   "id": "ace5f374-2580-45fd-b360-8fbe6448ca81",
   "metadata": {
    "id": "ace5f374-2580-45fd-b360-8fbe6448ca81"
   },
   "outputs": [],
   "source": [
    "def convert_duration_to_minutes(duration):\n",
    "    total_minutes = 0\n",
    "    if 'hr' in duration:\n",
    "        hours = int(duration.split('hr')[0].strip())\n",
    "        total_minutes += hours * 60\n",
    "\n",
    "    if 'min' in duration:\n",
    "        minutes = int(duration.split('min')[0].split()[-1].strip())\n",
    "        total_minutes += minutes\n",
    "\n",
    "    return total_minutes\n",
    "\n",
    "anime_data['Duration (min)'] = anime_data['Duration'].apply(convert_duration_to_minutes)"
   ]
  },
  {
   "cell_type": "code",
   "execution_count": 17,
   "id": "853f152a-0823-4f13-95cc-0404a13abe6d",
   "metadata": {
    "id": "853f152a-0823-4f13-95cc-0404a13abe6d"
   },
   "outputs": [],
   "source": [
    "anime_data.drop(columns=['Duration'], inplace=True)"
   ]
  },
  {
   "cell_type": "code",
   "execution_count": 18,
   "id": "f1133178-835c-44af-af76-290e0eca452d",
   "metadata": {
    "colab": {
     "base_uri": "https://localhost:8080/"
    },
    "id": "f1133178-835c-44af-af76-290e0eca452d",
    "outputId": "624216cd-1812-45af-deb4-a0ff61f91fd6"
   },
   "outputs": [
    {
     "name": "stdout",
     "output_type": "stream",
     "text": [
      "1268\n"
     ]
    }
   ],
   "source": [
    "print((anime_data['Duration (min)'] == 0).sum())"
   ]
  },
  {
   "cell_type": "code",
   "execution_count": 19,
   "id": "ab7f62dc-5107-44e2-8810-fac335021bc7",
   "metadata": {
    "id": "ab7f62dc-5107-44e2-8810-fac335021bc7"
   },
   "outputs": [],
   "source": [
    "mean_duration = anime_data['Duration (min)'].mean()\n",
    "anime_data['Duration (min)'].replace(0, mean_duration, inplace=True)"
   ]
  },
  {
   "cell_type": "code",
   "execution_count": 20,
   "id": "d40eb17e-390b-4692-865e-545056a79cfa",
   "metadata": {
    "tags": []
   },
   "outputs": [
    {
     "name": "stdout",
     "output_type": "stream",
     "text": [
      "anime_id              0\n",
      "Name                  0\n",
      "Score                 0\n",
      "Genres             4929\n",
      "Type                 74\n",
      "Episodes              0\n",
      "Status                0\n",
      "Producers         13350\n",
      "Studios           10526\n",
      "Source             3689\n",
      "Rating              669\n",
      "Rank                  0\n",
      "Popularity            0\n",
      "Favorites             0\n",
      "Air Start             0\n",
      "Air End               0\n",
      "Duration (min)        0\n",
      "dtype: int64\n"
     ]
    }
   ],
   "source": [
    "unknown_counts = (anime_data.applymap(lambda x: str(x).lower() == 'unknown')).sum()\n",
    "print(unknown_counts)"
   ]
  },
  {
   "cell_type": "code",
   "execution_count": 21,
   "id": "0784d4dd-5a21-4d48-b4ed-56861efad790",
   "metadata": {
    "tags": []
   },
   "outputs": [
    {
     "data": {
      "text/html": [
       "<div>\n",
       "<style scoped>\n",
       "    .dataframe tbody tr th:only-of-type {\n",
       "        vertical-align: middle;\n",
       "    }\n",
       "\n",
       "    .dataframe tbody tr th {\n",
       "        vertical-align: top;\n",
       "    }\n",
       "\n",
       "    .dataframe thead th {\n",
       "        text-align: right;\n",
       "    }\n",
       "</style>\n",
       "<table border=\"1\" class=\"dataframe\">\n",
       "  <thead>\n",
       "    <tr style=\"text-align: right;\">\n",
       "      <th></th>\n",
       "      <th>anime_id</th>\n",
       "      <th>Name</th>\n",
       "      <th>Score</th>\n",
       "      <th>Genres</th>\n",
       "      <th>Type</th>\n",
       "      <th>Episodes</th>\n",
       "      <th>Status</th>\n",
       "      <th>Producers</th>\n",
       "      <th>Studios</th>\n",
       "      <th>Source</th>\n",
       "      <th>Rating</th>\n",
       "      <th>Rank</th>\n",
       "      <th>Popularity</th>\n",
       "      <th>Favorites</th>\n",
       "      <th>Air Start</th>\n",
       "      <th>Air End</th>\n",
       "      <th>Duration (min)</th>\n",
       "    </tr>\n",
       "  </thead>\n",
       "  <tbody>\n",
       "    <tr>\n",
       "      <th>0</th>\n",
       "      <td>1</td>\n",
       "      <td>Cowboy Bebop</td>\n",
       "      <td>8.75</td>\n",
       "      <td>Action, Award Winning, Sci-Fi</td>\n",
       "      <td>TV</td>\n",
       "      <td>26.0</td>\n",
       "      <td>Finished Airing</td>\n",
       "      <td>Bandai Visual</td>\n",
       "      <td>Sunrise</td>\n",
       "      <td>Original</td>\n",
       "      <td>R - 17+ (violence &amp; profanity)</td>\n",
       "      <td>41.0</td>\n",
       "      <td>43</td>\n",
       "      <td>78525</td>\n",
       "      <td>1998.0</td>\n",
       "      <td>1999.0</td>\n",
       "      <td>24.0</td>\n",
       "    </tr>\n",
       "    <tr>\n",
       "      <th>1</th>\n",
       "      <td>5</td>\n",
       "      <td>Cowboy Bebop: Tengoku no Tobira</td>\n",
       "      <td>8.38</td>\n",
       "      <td>Action, Sci-Fi</td>\n",
       "      <td>Movie</td>\n",
       "      <td>1.0</td>\n",
       "      <td>Finished Airing</td>\n",
       "      <td>Sunrise, Bandai Visual</td>\n",
       "      <td>Bones</td>\n",
       "      <td>Original</td>\n",
       "      <td>R - 17+ (violence &amp; profanity)</td>\n",
       "      <td>189.0</td>\n",
       "      <td>602</td>\n",
       "      <td>1448</td>\n",
       "      <td>2001.0</td>\n",
       "      <td>2013.0</td>\n",
       "      <td>115.0</td>\n",
       "    </tr>\n",
       "    <tr>\n",
       "      <th>2</th>\n",
       "      <td>6</td>\n",
       "      <td>Trigun</td>\n",
       "      <td>8.22</td>\n",
       "      <td>Action, Adventure, Sci-Fi</td>\n",
       "      <td>TV</td>\n",
       "      <td>26.0</td>\n",
       "      <td>Finished Airing</td>\n",
       "      <td>Victor Entertainment</td>\n",
       "      <td>Madhouse</td>\n",
       "      <td>Manga</td>\n",
       "      <td>PG-13 - Teens 13 or older</td>\n",
       "      <td>328.0</td>\n",
       "      <td>246</td>\n",
       "      <td>15035</td>\n",
       "      <td>1998.0</td>\n",
       "      <td>1998.0</td>\n",
       "      <td>24.0</td>\n",
       "    </tr>\n",
       "    <tr>\n",
       "      <th>3</th>\n",
       "      <td>7</td>\n",
       "      <td>Witch Hunter Robin</td>\n",
       "      <td>7.25</td>\n",
       "      <td>Action, Drama, Mystery, Supernatural</td>\n",
       "      <td>TV</td>\n",
       "      <td>26.0</td>\n",
       "      <td>Finished Airing</td>\n",
       "      <td>Bandai Visual, Dentsu, Victor Entertainment, T...</td>\n",
       "      <td>Sunrise</td>\n",
       "      <td>Original</td>\n",
       "      <td>PG-13 - Teens 13 or older</td>\n",
       "      <td>2764.0</td>\n",
       "      <td>1795</td>\n",
       "      <td>613</td>\n",
       "      <td>2002.0</td>\n",
       "      <td>2002.0</td>\n",
       "      <td>25.0</td>\n",
       "    </tr>\n",
       "    <tr>\n",
       "      <th>4</th>\n",
       "      <td>8</td>\n",
       "      <td>Bouken Ou Beet</td>\n",
       "      <td>6.94</td>\n",
       "      <td>Adventure, Fantasy, Supernatural</td>\n",
       "      <td>TV</td>\n",
       "      <td>52.0</td>\n",
       "      <td>Finished Airing</td>\n",
       "      <td>TV Tokyo, Dentsu</td>\n",
       "      <td>Toei Animation</td>\n",
       "      <td>Manga</td>\n",
       "      <td>PG - Children</td>\n",
       "      <td>4240.0</td>\n",
       "      <td>5126</td>\n",
       "      <td>14</td>\n",
       "      <td>2004.0</td>\n",
       "      <td>2005.0</td>\n",
       "      <td>23.0</td>\n",
       "    </tr>\n",
       "    <tr>\n",
       "      <th>5</th>\n",
       "      <td>15</td>\n",
       "      <td>Eyeshield 21</td>\n",
       "      <td>7.92</td>\n",
       "      <td>Sports</td>\n",
       "      <td>TV</td>\n",
       "      <td>145.0</td>\n",
       "      <td>Finished Airing</td>\n",
       "      <td>TV Tokyo, Nihon Ad Systems, TV Tokyo Music, Sh...</td>\n",
       "      <td>Gallop</td>\n",
       "      <td>Manga</td>\n",
       "      <td>PG-13 - Teens 13 or older</td>\n",
       "      <td>688.0</td>\n",
       "      <td>1252</td>\n",
       "      <td>1997</td>\n",
       "      <td>2005.0</td>\n",
       "      <td>2008.0</td>\n",
       "      <td>23.0</td>\n",
       "    </tr>\n",
       "    <tr>\n",
       "      <th>6</th>\n",
       "      <td>16</td>\n",
       "      <td>Hachimitsu to Clover</td>\n",
       "      <td>8.00</td>\n",
       "      <td>Comedy, Drama, Romance</td>\n",
       "      <td>TV</td>\n",
       "      <td>24.0</td>\n",
       "      <td>Finished Airing</td>\n",
       "      <td>Dentsu, Genco, Fuji TV, Asmik Ace, Shueisha</td>\n",
       "      <td>J.C.Staff</td>\n",
       "      <td>Manga</td>\n",
       "      <td>PG-13 - Teens 13 or older</td>\n",
       "      <td>589.0</td>\n",
       "      <td>862</td>\n",
       "      <td>4136</td>\n",
       "      <td>2005.0</td>\n",
       "      <td>2005.0</td>\n",
       "      <td>23.0</td>\n",
       "    </tr>\n",
       "    <tr>\n",
       "      <th>7</th>\n",
       "      <td>17</td>\n",
       "      <td>Hungry Heart: Wild Striker</td>\n",
       "      <td>7.55</td>\n",
       "      <td>Comedy, Slice of Life, Sports</td>\n",
       "      <td>TV</td>\n",
       "      <td>52.0</td>\n",
       "      <td>Finished Airing</td>\n",
       "      <td>UNKNOWN</td>\n",
       "      <td>Nippon Animation</td>\n",
       "      <td>Manga</td>\n",
       "      <td>PG-13 - Teens 13 or older</td>\n",
       "      <td>1551.0</td>\n",
       "      <td>4212</td>\n",
       "      <td>237</td>\n",
       "      <td>2002.0</td>\n",
       "      <td>2003.0</td>\n",
       "      <td>23.0</td>\n",
       "    </tr>\n",
       "    <tr>\n",
       "      <th>8</th>\n",
       "      <td>18</td>\n",
       "      <td>Initial D Fourth Stage</td>\n",
       "      <td>8.16</td>\n",
       "      <td>Action, Drama</td>\n",
       "      <td>TV</td>\n",
       "      <td>24.0</td>\n",
       "      <td>Finished Airing</td>\n",
       "      <td>OB Planning, Studio Jack</td>\n",
       "      <td>A.C.G.T.</td>\n",
       "      <td>Manga</td>\n",
       "      <td>PG-13 - Teens 13 or older</td>\n",
       "      <td>393.0</td>\n",
       "      <td>1273</td>\n",
       "      <td>1237</td>\n",
       "      <td>2004.0</td>\n",
       "      <td>2006.0</td>\n",
       "      <td>27.0</td>\n",
       "    </tr>\n",
       "    <tr>\n",
       "      <th>9</th>\n",
       "      <td>19</td>\n",
       "      <td>Monster</td>\n",
       "      <td>8.87</td>\n",
       "      <td>Drama, Mystery, Suspense</td>\n",
       "      <td>TV</td>\n",
       "      <td>74.0</td>\n",
       "      <td>Finished Airing</td>\n",
       "      <td>VAP, Shogakukan-Shueisha Productions, Nippon T...</td>\n",
       "      <td>Madhouse</td>\n",
       "      <td>Manga</td>\n",
       "      <td>R+ - Mild Nudity</td>\n",
       "      <td>26.0</td>\n",
       "      <td>142</td>\n",
       "      <td>47235</td>\n",
       "      <td>2004.0</td>\n",
       "      <td>2005.0</td>\n",
       "      <td>24.0</td>\n",
       "    </tr>\n",
       "  </tbody>\n",
       "</table>\n",
       "</div>"
      ],
      "text/plain": [
       "   anime_id                             Name  Score  \\\n",
       "0         1                     Cowboy Bebop   8.75   \n",
       "1         5  Cowboy Bebop: Tengoku no Tobira   8.38   \n",
       "2         6                           Trigun   8.22   \n",
       "3         7               Witch Hunter Robin   7.25   \n",
       "4         8                   Bouken Ou Beet   6.94   \n",
       "5        15                     Eyeshield 21   7.92   \n",
       "6        16             Hachimitsu to Clover   8.00   \n",
       "7        17       Hungry Heart: Wild Striker   7.55   \n",
       "8        18           Initial D Fourth Stage   8.16   \n",
       "9        19                          Monster   8.87   \n",
       "\n",
       "                                 Genres   Type  Episodes           Status  \\\n",
       "0         Action, Award Winning, Sci-Fi     TV      26.0  Finished Airing   \n",
       "1                        Action, Sci-Fi  Movie       1.0  Finished Airing   \n",
       "2             Action, Adventure, Sci-Fi     TV      26.0  Finished Airing   \n",
       "3  Action, Drama, Mystery, Supernatural     TV      26.0  Finished Airing   \n",
       "4      Adventure, Fantasy, Supernatural     TV      52.0  Finished Airing   \n",
       "5                                Sports     TV     145.0  Finished Airing   \n",
       "6                Comedy, Drama, Romance     TV      24.0  Finished Airing   \n",
       "7         Comedy, Slice of Life, Sports     TV      52.0  Finished Airing   \n",
       "8                         Action, Drama     TV      24.0  Finished Airing   \n",
       "9              Drama, Mystery, Suspense     TV      74.0  Finished Airing   \n",
       "\n",
       "                                           Producers           Studios  \\\n",
       "0                                      Bandai Visual           Sunrise   \n",
       "1                             Sunrise, Bandai Visual             Bones   \n",
       "2                               Victor Entertainment          Madhouse   \n",
       "3  Bandai Visual, Dentsu, Victor Entertainment, T...           Sunrise   \n",
       "4                                   TV Tokyo, Dentsu    Toei Animation   \n",
       "5  TV Tokyo, Nihon Ad Systems, TV Tokyo Music, Sh...            Gallop   \n",
       "6        Dentsu, Genco, Fuji TV, Asmik Ace, Shueisha         J.C.Staff   \n",
       "7                                            UNKNOWN  Nippon Animation   \n",
       "8                           OB Planning, Studio Jack          A.C.G.T.   \n",
       "9  VAP, Shogakukan-Shueisha Productions, Nippon T...          Madhouse   \n",
       "\n",
       "     Source                          Rating    Rank  Popularity  Favorites  \\\n",
       "0  Original  R - 17+ (violence & profanity)    41.0          43      78525   \n",
       "1  Original  R - 17+ (violence & profanity)   189.0         602       1448   \n",
       "2     Manga       PG-13 - Teens 13 or older   328.0         246      15035   \n",
       "3  Original       PG-13 - Teens 13 or older  2764.0        1795        613   \n",
       "4     Manga                   PG - Children  4240.0        5126         14   \n",
       "5     Manga       PG-13 - Teens 13 or older   688.0        1252       1997   \n",
       "6     Manga       PG-13 - Teens 13 or older   589.0         862       4136   \n",
       "7     Manga       PG-13 - Teens 13 or older  1551.0        4212        237   \n",
       "8     Manga       PG-13 - Teens 13 or older   393.0        1273       1237   \n",
       "9     Manga                R+ - Mild Nudity    26.0         142      47235   \n",
       "\n",
       "   Air Start  Air End  Duration (min)  \n",
       "0     1998.0   1999.0            24.0  \n",
       "1     2001.0   2013.0           115.0  \n",
       "2     1998.0   1998.0            24.0  \n",
       "3     2002.0   2002.0            25.0  \n",
       "4     2004.0   2005.0            23.0  \n",
       "5     2005.0   2008.0            23.0  \n",
       "6     2005.0   2005.0            23.0  \n",
       "7     2002.0   2003.0            23.0  \n",
       "8     2004.0   2006.0            27.0  \n",
       "9     2004.0   2005.0            24.0  "
      ]
     },
     "execution_count": 21,
     "metadata": {},
     "output_type": "execute_result"
    }
   ],
   "source": [
    "anime_data.head(10)"
   ]
  },
  {
   "cell_type": "markdown",
   "id": "b6f65d4a-3382-4d00-b819-e8940f6b4a48",
   "metadata": {
    "id": "b6f65d4a-3382-4d00-b819-e8940f6b4a48"
   },
   "source": [
    "<font color='blue'> Preprocessing for dataset \"anime-dataset-2023.csv\" is done here"
   ]
  },
  {
   "cell_type": "code",
   "execution_count": 22,
   "id": "dd924b61-2a95-4ffc-9793-6915ec506274",
   "metadata": {
    "colab": {
     "base_uri": "https://localhost:8080/",
     "height": 348
    },
    "id": "dd924b61-2a95-4ffc-9793-6915ec506274",
    "outputId": "b9a48a6c-75ec-48d7-d4c7-2ae95881feb7"
   },
   "outputs": [
    {
     "data": {
      "text/html": [
       "<div>\n",
       "<style scoped>\n",
       "    .dataframe tbody tr th:only-of-type {\n",
       "        vertical-align: middle;\n",
       "    }\n",
       "\n",
       "    .dataframe tbody tr th {\n",
       "        vertical-align: top;\n",
       "    }\n",
       "\n",
       "    .dataframe thead th {\n",
       "        text-align: right;\n",
       "    }\n",
       "</style>\n",
       "<table border=\"1\" class=\"dataframe\">\n",
       "  <thead>\n",
       "    <tr style=\"text-align: right;\">\n",
       "      <th></th>\n",
       "      <th>Mal ID</th>\n",
       "      <th>Username</th>\n",
       "      <th>Gender</th>\n",
       "      <th>Birthday</th>\n",
       "      <th>Location</th>\n",
       "      <th>Joined</th>\n",
       "      <th>Days Watched</th>\n",
       "      <th>Mean Score</th>\n",
       "      <th>Watching</th>\n",
       "      <th>Completed</th>\n",
       "      <th>On Hold</th>\n",
       "      <th>Dropped</th>\n",
       "      <th>Plan to Watch</th>\n",
       "      <th>Total Entries</th>\n",
       "      <th>Rewatched</th>\n",
       "      <th>Episodes Watched</th>\n",
       "    </tr>\n",
       "  </thead>\n",
       "  <tbody>\n",
       "    <tr>\n",
       "      <th>0</th>\n",
       "      <td>1</td>\n",
       "      <td>Xinil</td>\n",
       "      <td>Male</td>\n",
       "      <td>1985-03-04T00:00:00+00:00</td>\n",
       "      <td>California</td>\n",
       "      <td>2004-11-05T00:00:00+00:00</td>\n",
       "      <td>142.3</td>\n",
       "      <td>7.37</td>\n",
       "      <td>1.0</td>\n",
       "      <td>233.0</td>\n",
       "      <td>8.0</td>\n",
       "      <td>93.0</td>\n",
       "      <td>64.0</td>\n",
       "      <td>399.0</td>\n",
       "      <td>60.0</td>\n",
       "      <td>8458.0</td>\n",
       "    </tr>\n",
       "    <tr>\n",
       "      <th>1</th>\n",
       "      <td>3</td>\n",
       "      <td>Aokaado</td>\n",
       "      <td>Male</td>\n",
       "      <td>NaN</td>\n",
       "      <td>Oslo, Norway</td>\n",
       "      <td>2004-11-11T00:00:00+00:00</td>\n",
       "      <td>68.6</td>\n",
       "      <td>7.34</td>\n",
       "      <td>23.0</td>\n",
       "      <td>137.0</td>\n",
       "      <td>99.0</td>\n",
       "      <td>44.0</td>\n",
       "      <td>40.0</td>\n",
       "      <td>343.0</td>\n",
       "      <td>15.0</td>\n",
       "      <td>4072.0</td>\n",
       "    </tr>\n",
       "    <tr>\n",
       "      <th>2</th>\n",
       "      <td>4</td>\n",
       "      <td>Crystal</td>\n",
       "      <td>Female</td>\n",
       "      <td>NaN</td>\n",
       "      <td>Melbourne, Australia</td>\n",
       "      <td>2004-11-13T00:00:00+00:00</td>\n",
       "      <td>212.8</td>\n",
       "      <td>6.68</td>\n",
       "      <td>16.0</td>\n",
       "      <td>636.0</td>\n",
       "      <td>303.0</td>\n",
       "      <td>0.0</td>\n",
       "      <td>45.0</td>\n",
       "      <td>1000.0</td>\n",
       "      <td>10.0</td>\n",
       "      <td>12781.0</td>\n",
       "    </tr>\n",
       "    <tr>\n",
       "      <th>3</th>\n",
       "      <td>9</td>\n",
       "      <td>Arcane</td>\n",
       "      <td>NaN</td>\n",
       "      <td>NaN</td>\n",
       "      <td>NaN</td>\n",
       "      <td>2004-12-05T00:00:00+00:00</td>\n",
       "      <td>30.0</td>\n",
       "      <td>7.71</td>\n",
       "      <td>5.0</td>\n",
       "      <td>54.0</td>\n",
       "      <td>4.0</td>\n",
       "      <td>3.0</td>\n",
       "      <td>0.0</td>\n",
       "      <td>66.0</td>\n",
       "      <td>0.0</td>\n",
       "      <td>1817.0</td>\n",
       "    </tr>\n",
       "    <tr>\n",
       "      <th>4</th>\n",
       "      <td>18</td>\n",
       "      <td>Mad</td>\n",
       "      <td>NaN</td>\n",
       "      <td>NaN</td>\n",
       "      <td>NaN</td>\n",
       "      <td>2005-01-03T00:00:00+00:00</td>\n",
       "      <td>52.0</td>\n",
       "      <td>6.27</td>\n",
       "      <td>1.0</td>\n",
       "      <td>114.0</td>\n",
       "      <td>10.0</td>\n",
       "      <td>5.0</td>\n",
       "      <td>23.0</td>\n",
       "      <td>153.0</td>\n",
       "      <td>42.0</td>\n",
       "      <td>3038.0</td>\n",
       "    </tr>\n",
       "  </tbody>\n",
       "</table>\n",
       "</div>"
      ],
      "text/plain": [
       "   Mal ID Username  Gender                   Birthday              Location  \\\n",
       "0       1    Xinil    Male  1985-03-04T00:00:00+00:00            California   \n",
       "1       3  Aokaado    Male                        NaN          Oslo, Norway   \n",
       "2       4  Crystal  Female                        NaN  Melbourne, Australia   \n",
       "3       9   Arcane     NaN                        NaN                   NaN   \n",
       "4      18      Mad     NaN                        NaN                   NaN   \n",
       "\n",
       "                      Joined  Days Watched  Mean Score  Watching  Completed  \\\n",
       "0  2004-11-05T00:00:00+00:00         142.3        7.37       1.0      233.0   \n",
       "1  2004-11-11T00:00:00+00:00          68.6        7.34      23.0      137.0   \n",
       "2  2004-11-13T00:00:00+00:00         212.8        6.68      16.0      636.0   \n",
       "3  2004-12-05T00:00:00+00:00          30.0        7.71       5.0       54.0   \n",
       "4  2005-01-03T00:00:00+00:00          52.0        6.27       1.0      114.0   \n",
       "\n",
       "   On Hold  Dropped  Plan to Watch  Total Entries  Rewatched  Episodes Watched  \n",
       "0      8.0     93.0           64.0          399.0       60.0            8458.0  \n",
       "1     99.0     44.0           40.0          343.0       15.0            4072.0  \n",
       "2    303.0      0.0           45.0         1000.0       10.0           12781.0  \n",
       "3      4.0      3.0            0.0           66.0        0.0            1817.0  \n",
       "4     10.0      5.0           23.0          153.0       42.0            3038.0  "
      ]
     },
     "execution_count": 22,
     "metadata": {},
     "output_type": "execute_result"
    }
   ],
   "source": [
    "user_details.head()"
   ]
  },
  {
   "cell_type": "code",
   "execution_count": 23,
   "id": "267206ba-f66a-4e79-8af6-d68aa23c12d5",
   "metadata": {
    "colab": {
     "base_uri": "https://localhost:8080/"
    },
    "id": "267206ba-f66a-4e79-8af6-d68aa23c12d5",
    "outputId": "6e9c4667-409a-4b30-8d06-69789cd83b5c"
   },
   "outputs": [
    {
     "data": {
      "text/plain": [
       "Index(['Mal ID', 'Username', 'Gender', 'Birthday', 'Location', 'Joined',\n",
       "       'Days Watched', 'Mean Score', 'Watching', 'Completed', 'On Hold',\n",
       "       'Dropped', 'Plan to Watch', 'Total Entries', 'Rewatched',\n",
       "       'Episodes Watched'],\n",
       "      dtype='object')"
      ]
     },
     "execution_count": 23,
     "metadata": {},
     "output_type": "execute_result"
    }
   ],
   "source": [
    "user_details.columns"
   ]
  },
  {
   "cell_type": "code",
   "execution_count": 24,
   "id": "84249806-1ec4-4f74-8c33-092ee9730428",
   "metadata": {
    "colab": {
     "base_uri": "https://localhost:8080/"
    },
    "id": "84249806-1ec4-4f74-8c33-092ee9730428",
    "outputId": "c3999b8f-c79c-4642-8b4c-e5b6e7e62bb6"
   },
   "outputs": [
    {
     "data": {
      "text/plain": [
       "(731290, 16)"
      ]
     },
     "execution_count": 24,
     "metadata": {},
     "output_type": "execute_result"
    }
   ],
   "source": [
    "user_details.shape"
   ]
  },
  {
   "cell_type": "code",
   "execution_count": 25,
   "id": "7d5f55ee-6aa8-48f2-9aef-3d4c512988a3",
   "metadata": {
    "tags": []
   },
   "outputs": [
    {
     "data": {
      "text/plain": [
       "Mal ID               0.000000\n",
       "Username             0.000137\n",
       "Gender              69.316824\n",
       "Birthday            77.017599\n",
       "Location            79.104733\n",
       "Joined               0.000000\n",
       "Days Watched         0.001094\n",
       "Mean Score           0.001094\n",
       "Watching             0.001094\n",
       "Completed            0.001094\n",
       "On Hold              0.001094\n",
       "Dropped              0.001094\n",
       "Plan to Watch        0.001094\n",
       "Total Entries        0.001094\n",
       "Rewatched            0.001094\n",
       "Episodes Watched     0.001094\n",
       "dtype: float64"
      ]
     },
     "execution_count": 25,
     "metadata": {},
     "output_type": "execute_result"
    }
   ],
   "source": [
    "user_details.isnull().mean() * 100"
   ]
  },
  {
   "cell_type": "code",
   "execution_count": 26,
   "id": "a1f588ca-e49a-4cea-9f5e-9244e09c60cb",
   "metadata": {
    "tags": []
   },
   "outputs": [
    {
     "data": {
      "text/plain": [
       "53285"
      ]
     },
     "execution_count": 26,
     "metadata": {},
     "output_type": "execute_result"
    }
   ],
   "source": [
    "user_details['Location'].nunique()"
   ]
  },
  {
   "cell_type": "markdown",
   "id": "25b576b8-b237-4759-82dd-0fe5062068e7",
   "metadata": {},
   "source": [
    "<font color='blue'> Drop Irrelevant Columns"
   ]
  },
  {
   "cell_type": "code",
   "execution_count": 27,
   "id": "e9fa7554-f6e9-4b79-8b74-4cdf92d2649d",
   "metadata": {
    "tags": []
   },
   "outputs": [],
   "source": [
    "user_details.drop(columns = ['Birthday', 'Watching', 'On Hold', 'Dropped', 'Joined', 'Rewatched',\n",
    "                            'Episodes Watched', 'Plan to Watch'], inplace = True)"
   ]
  },
  {
   "cell_type": "markdown",
   "id": "47707d4c-011d-46e3-ae94-b1aeda8403b1",
   "metadata": {},
   "source": [
    "<font color='blue'> Fill Missing Values with relevant columns \\\n",
    "    Gender - Fill with Mode \\\n",
    "    Location - Fill with Unknown \\\n",
    "    Username - Fill with Unknown \\\n",
    "    Days Watched - Fill with Median \\\n",
    "    Completed - Fill with Median \\\n",
    "    Total Entries - Fill with Median"
   ]
  },
  {
   "cell_type": "code",
   "execution_count": 28,
   "id": "1082f038-c7d9-4e3c-b2bd-911cd8d26a71",
   "metadata": {
    "tags": []
   },
   "outputs": [],
   "source": [
    "user_details['Gender'].fillna(user_details['Gender'].mode()[0], inplace=True)\n",
    "user_details['Location'].fillna('Unknown', inplace=True)\n",
    "user_details['Username'].fillna('Unknown', inplace=True)\n",
    "\n",
    "median_days_watched = user_details['Days Watched'].median()\n",
    "user_details['Days Watched'] = user_details['Days Watched'].fillna(median_days_watched)\n",
    "\n",
    "median_mean_score = user_details['Mean Score'].median()\n",
    "user_details['Mean Score'] = user_details['Mean Score'].fillna(median_mean_score)\n",
    "\n",
    "median_completed = user_details['Completed'].median()\n",
    "user_details['Completed'] = user_details['Completed'].fillna(median_completed)\n",
    "\n",
    "median_total_entries = user_details['Total Entries'].median()\n",
    "user_details['Total Entries'] = user_details['Total Entries'].fillna(median_total_entries)"
   ]
  },
  {
   "cell_type": "code",
   "execution_count": 29,
   "id": "cffc279d-607f-43c0-9871-645a6d178ece",
   "metadata": {
    "tags": []
   },
   "outputs": [
    {
     "data": {
      "text/html": [
       "<div>\n",
       "<style scoped>\n",
       "    .dataframe tbody tr th:only-of-type {\n",
       "        vertical-align: middle;\n",
       "    }\n",
       "\n",
       "    .dataframe tbody tr th {\n",
       "        vertical-align: top;\n",
       "    }\n",
       "\n",
       "    .dataframe thead th {\n",
       "        text-align: right;\n",
       "    }\n",
       "</style>\n",
       "<table border=\"1\" class=\"dataframe\">\n",
       "  <thead>\n",
       "    <tr style=\"text-align: right;\">\n",
       "      <th></th>\n",
       "      <th>Mal ID</th>\n",
       "      <th>Username</th>\n",
       "      <th>Gender</th>\n",
       "      <th>Location</th>\n",
       "      <th>Days Watched</th>\n",
       "      <th>Mean Score</th>\n",
       "      <th>Completed</th>\n",
       "      <th>Total Entries</th>\n",
       "    </tr>\n",
       "  </thead>\n",
       "  <tbody>\n",
       "    <tr>\n",
       "      <th>0</th>\n",
       "      <td>1</td>\n",
       "      <td>Xinil</td>\n",
       "      <td>Male</td>\n",
       "      <td>California</td>\n",
       "      <td>142.3</td>\n",
       "      <td>7.37</td>\n",
       "      <td>233.0</td>\n",
       "      <td>399.0</td>\n",
       "    </tr>\n",
       "    <tr>\n",
       "      <th>1</th>\n",
       "      <td>3</td>\n",
       "      <td>Aokaado</td>\n",
       "      <td>Male</td>\n",
       "      <td>Oslo, Norway</td>\n",
       "      <td>68.6</td>\n",
       "      <td>7.34</td>\n",
       "      <td>137.0</td>\n",
       "      <td>343.0</td>\n",
       "    </tr>\n",
       "    <tr>\n",
       "      <th>2</th>\n",
       "      <td>4</td>\n",
       "      <td>Crystal</td>\n",
       "      <td>Female</td>\n",
       "      <td>Melbourne, Australia</td>\n",
       "      <td>212.8</td>\n",
       "      <td>6.68</td>\n",
       "      <td>636.0</td>\n",
       "      <td>1000.0</td>\n",
       "    </tr>\n",
       "    <tr>\n",
       "      <th>3</th>\n",
       "      <td>9</td>\n",
       "      <td>Arcane</td>\n",
       "      <td>Male</td>\n",
       "      <td>Unknown</td>\n",
       "      <td>30.0</td>\n",
       "      <td>7.71</td>\n",
       "      <td>54.0</td>\n",
       "      <td>66.0</td>\n",
       "    </tr>\n",
       "    <tr>\n",
       "      <th>4</th>\n",
       "      <td>18</td>\n",
       "      <td>Mad</td>\n",
       "      <td>Male</td>\n",
       "      <td>Unknown</td>\n",
       "      <td>52.0</td>\n",
       "      <td>6.27</td>\n",
       "      <td>114.0</td>\n",
       "      <td>153.0</td>\n",
       "    </tr>\n",
       "  </tbody>\n",
       "</table>\n",
       "</div>"
      ],
      "text/plain": [
       "   Mal ID Username  Gender              Location  Days Watched  Mean Score  \\\n",
       "0       1    Xinil    Male            California         142.3        7.37   \n",
       "1       3  Aokaado    Male          Oslo, Norway          68.6        7.34   \n",
       "2       4  Crystal  Female  Melbourne, Australia         212.8        6.68   \n",
       "3       9   Arcane    Male               Unknown          30.0        7.71   \n",
       "4      18      Mad    Male               Unknown          52.0        6.27   \n",
       "\n",
       "   Completed  Total Entries  \n",
       "0      233.0          399.0  \n",
       "1      137.0          343.0  \n",
       "2      636.0         1000.0  \n",
       "3       54.0           66.0  \n",
       "4      114.0          153.0  "
      ]
     },
     "execution_count": 29,
     "metadata": {},
     "output_type": "execute_result"
    }
   ],
   "source": [
    "user_details.head()"
   ]
  },
  {
   "cell_type": "code",
   "execution_count": 30,
   "id": "b4106eef-c44a-4a07-9f54-75857fa20ec0",
   "metadata": {
    "tags": []
   },
   "outputs": [
    {
     "data": {
      "text/plain": [
       "Mal ID           0\n",
       "Username         0\n",
       "Gender           0\n",
       "Location         0\n",
       "Days Watched     0\n",
       "Mean Score       0\n",
       "Completed        0\n",
       "Total Entries    0\n",
       "dtype: int64"
      ]
     },
     "execution_count": 30,
     "metadata": {},
     "output_type": "execute_result"
    }
   ],
   "source": [
    "user_details.isna().sum()"
   ]
  },
  {
   "cell_type": "code",
   "execution_count": 31,
   "id": "6fb647fb-ec37-4cd9-b171-e9cfd13055a8",
   "metadata": {
    "tags": []
   },
   "outputs": [
    {
     "name": "stdout",
     "output_type": "stream",
     "text": [
      "Mal ID                0\n",
      "Username              2\n",
      "Gender                0\n",
      "Location         578558\n",
      "Days Watched          0\n",
      "Mean Score            0\n",
      "Completed             0\n",
      "Total Entries         0\n",
      "dtype: int64\n"
     ]
    }
   ],
   "source": [
    "unknown_counts = (user_details.applymap(lambda x: str(x).lower() == 'unknown')).sum()\n",
    "print(unknown_counts)"
   ]
  },
  {
   "cell_type": "markdown",
   "id": "eb4212e6-ddeb-4839-bd71-f561b6e97df8",
   "metadata": {
    "id": "eb4212e6-ddeb-4839-bd71-f561b6e97df8"
   },
   "source": [
    "<font color='blue'> In user_Details, columns Mal ID is same as unique ID for each user. Therefore we will rename the column \"Mal Id\" with \"User_id\""
   ]
  },
  {
   "cell_type": "code",
   "execution_count": 32,
   "id": "c76bb99b-2840-43fc-a8a9-4d13c266711f",
   "metadata": {
    "id": "c76bb99b-2840-43fc-a8a9-4d13c266711f"
   },
   "outputs": [],
   "source": [
    "user_details.rename(columns={\"Mal ID\": \"user_id\"}, inplace=True)"
   ]
  },
  {
   "cell_type": "code",
   "execution_count": 33,
   "id": "73028607-252f-4d0c-ad9a-d876689def9a",
   "metadata": {
    "tags": []
   },
   "outputs": [
    {
     "data": {
      "text/html": [
       "<div>\n",
       "<style scoped>\n",
       "    .dataframe tbody tr th:only-of-type {\n",
       "        vertical-align: middle;\n",
       "    }\n",
       "\n",
       "    .dataframe tbody tr th {\n",
       "        vertical-align: top;\n",
       "    }\n",
       "\n",
       "    .dataframe thead th {\n",
       "        text-align: right;\n",
       "    }\n",
       "</style>\n",
       "<table border=\"1\" class=\"dataframe\">\n",
       "  <thead>\n",
       "    <tr style=\"text-align: right;\">\n",
       "      <th></th>\n",
       "      <th>user_id</th>\n",
       "      <th>Username</th>\n",
       "      <th>anime_id</th>\n",
       "      <th>Anime Title</th>\n",
       "      <th>rating</th>\n",
       "    </tr>\n",
       "  </thead>\n",
       "  <tbody>\n",
       "    <tr>\n",
       "      <th>0</th>\n",
       "      <td>1</td>\n",
       "      <td>Xinil</td>\n",
       "      <td>21</td>\n",
       "      <td>One Piece</td>\n",
       "      <td>9</td>\n",
       "    </tr>\n",
       "    <tr>\n",
       "      <th>1</th>\n",
       "      <td>1</td>\n",
       "      <td>Xinil</td>\n",
       "      <td>48</td>\n",
       "      <td>.hack//Sign</td>\n",
       "      <td>7</td>\n",
       "    </tr>\n",
       "    <tr>\n",
       "      <th>2</th>\n",
       "      <td>1</td>\n",
       "      <td>Xinil</td>\n",
       "      <td>320</td>\n",
       "      <td>A Kite</td>\n",
       "      <td>5</td>\n",
       "    </tr>\n",
       "    <tr>\n",
       "      <th>3</th>\n",
       "      <td>1</td>\n",
       "      <td>Xinil</td>\n",
       "      <td>49</td>\n",
       "      <td>Aa! Megami-sama!</td>\n",
       "      <td>8</td>\n",
       "    </tr>\n",
       "    <tr>\n",
       "      <th>4</th>\n",
       "      <td>1</td>\n",
       "      <td>Xinil</td>\n",
       "      <td>304</td>\n",
       "      <td>Aa! Megami-sama! Movie</td>\n",
       "      <td>8</td>\n",
       "    </tr>\n",
       "  </tbody>\n",
       "</table>\n",
       "</div>"
      ],
      "text/plain": [
       "   user_id Username  anime_id             Anime Title  rating\n",
       "0        1    Xinil        21               One Piece       9\n",
       "1        1    Xinil        48             .hack//Sign       7\n",
       "2        1    Xinil       320                  A Kite       5\n",
       "3        1    Xinil        49        Aa! Megami-sama!       8\n",
       "4        1    Xinil       304  Aa! Megami-sama! Movie       8"
      ]
     },
     "execution_count": 33,
     "metadata": {},
     "output_type": "execute_result"
    }
   ],
   "source": [
    "user_scores.head()"
   ]
  },
  {
   "cell_type": "code",
   "execution_count": 34,
   "id": "47872c96-6adc-4bfc-8d7e-fcb307a0bcca",
   "metadata": {
    "tags": []
   },
   "outputs": [
    {
     "data": {
      "text/plain": [
       "user_id          0\n",
       "Username       232\n",
       "anime_id         0\n",
       "Anime Title      0\n",
       "rating           0\n",
       "dtype: int64"
      ]
     },
     "execution_count": 34,
     "metadata": {},
     "output_type": "execute_result"
    }
   ],
   "source": [
    "user_scores.isna().sum()"
   ]
  },
  {
   "cell_type": "code",
   "execution_count": 35,
   "id": "3a7d0e6c-92f1-4e6a-ab86-c42608662554",
   "metadata": {
    "id": "3a7d0e6c-92f1-4e6a-ab86-c42608662554"
   },
   "outputs": [],
   "source": [
    "user_scores.drop(columns = ['Username', ], inplace = True)"
   ]
  },
  {
   "cell_type": "code",
   "execution_count": 36,
   "id": "36d33a65-4f3a-4d5f-8223-f37e406f4b27",
   "metadata": {
    "colab": {
     "base_uri": "https://localhost:8080/"
    },
    "id": "36d33a65-4f3a-4d5f-8223-f37e406f4b27",
    "outputId": "41bf0407-80aa-46bb-ba8b-17221eeb5090"
   },
   "outputs": [
    {
     "data": {
      "text/plain": [
       "(24325191, 4)"
      ]
     },
     "execution_count": 36,
     "metadata": {},
     "output_type": "execute_result"
    }
   ],
   "source": [
    "user_scores.shape"
   ]
  },
  {
   "cell_type": "markdown",
   "id": "390a9d31-66b3-4726-a6f5-de174fc54680",
   "metadata": {
    "id": "390a9d31-66b3-4726-a6f5-de174fc54680"
   },
   "source": [
    "#### <font color='blue'> Step3: Merging the datasets"
   ]
  },
  {
   "cell_type": "markdown",
   "id": "952c1b61-a7e7-4691-8791-0eebe4b50caf",
   "metadata": {},
   "source": [
    "<font color='blue'> Using Garbage Collection for deleting the unwanted Dataframes to release memory"
   ]
  },
  {
   "cell_type": "code",
   "execution_count": 37,
   "id": "190beb2c-2077-4cb4-8c3a-4c13c2e4fd87",
   "metadata": {
    "id": "190beb2c-2077-4cb4-8c3a-4c13c2e4fd87"
   },
   "outputs": [
    {
     "data": {
      "text/plain": [
       "0"
      ]
     },
     "execution_count": 37,
     "metadata": {},
     "output_type": "execute_result"
    }
   ],
   "source": [
    "user_data = pd.merge(user_scores, user_details, on='user_id')\n",
    "\n",
    "del user_scores\n",
    "del user_details\n",
    "del unknown_counts\n",
    "\n",
    "gc.collect()\n",
    "gc.collect()\n",
    "gc.collect()\n",
    "\n",
    "merged_data = pd.merge(user_data, anime_data, on='anime_id')\n",
    "\n",
    "del user_data\n",
    "del anime_data\n",
    "\n",
    "gc.collect()\n",
    "gc.collect()\n",
    "gc.collect()"
   ]
  },
  {
   "cell_type": "code",
   "execution_count": 38,
   "id": "3d130c74-64cf-4ca5-ba06-d5df48994622",
   "metadata": {
    "id": "3d130c74-64cf-4ca5-ba06-d5df48994622"
   },
   "outputs": [
    {
     "data": {
      "text/html": [
       "<div>\n",
       "<style scoped>\n",
       "    .dataframe tbody tr th:only-of-type {\n",
       "        vertical-align: middle;\n",
       "    }\n",
       "\n",
       "    .dataframe tbody tr th {\n",
       "        vertical-align: top;\n",
       "    }\n",
       "\n",
       "    .dataframe thead th {\n",
       "        text-align: right;\n",
       "    }\n",
       "</style>\n",
       "<table border=\"1\" class=\"dataframe\">\n",
       "  <thead>\n",
       "    <tr style=\"text-align: right;\">\n",
       "      <th></th>\n",
       "      <th>user_id</th>\n",
       "      <th>anime_id</th>\n",
       "      <th>Anime Title</th>\n",
       "      <th>rating</th>\n",
       "      <th>Username</th>\n",
       "      <th>Gender</th>\n",
       "      <th>Location</th>\n",
       "      <th>Days Watched</th>\n",
       "      <th>Mean Score</th>\n",
       "      <th>Completed</th>\n",
       "      <th>...</th>\n",
       "      <th>Producers</th>\n",
       "      <th>Studios</th>\n",
       "      <th>Source</th>\n",
       "      <th>Rating</th>\n",
       "      <th>Rank</th>\n",
       "      <th>Popularity</th>\n",
       "      <th>Favorites</th>\n",
       "      <th>Air Start</th>\n",
       "      <th>Air End</th>\n",
       "      <th>Duration (min)</th>\n",
       "    </tr>\n",
       "  </thead>\n",
       "  <tbody>\n",
       "    <tr>\n",
       "      <th>0</th>\n",
       "      <td>1</td>\n",
       "      <td>21</td>\n",
       "      <td>One Piece</td>\n",
       "      <td>9</td>\n",
       "      <td>Xinil</td>\n",
       "      <td>Male</td>\n",
       "      <td>California</td>\n",
       "      <td>142.3</td>\n",
       "      <td>7.37</td>\n",
       "      <td>233.0</td>\n",
       "      <td>...</td>\n",
       "      <td>Fuji TV, TAP, Shueisha</td>\n",
       "      <td>Toei Animation</td>\n",
       "      <td>Manga</td>\n",
       "      <td>PG-13 - Teens 13 or older</td>\n",
       "      <td>55.0</td>\n",
       "      <td>20</td>\n",
       "      <td>198986</td>\n",
       "      <td>1999.0</td>\n",
       "      <td>2013.0</td>\n",
       "      <td>24.0</td>\n",
       "    </tr>\n",
       "    <tr>\n",
       "      <th>1</th>\n",
       "      <td>20</td>\n",
       "      <td>21</td>\n",
       "      <td>One Piece</td>\n",
       "      <td>9</td>\n",
       "      <td>vondur</td>\n",
       "      <td>Male</td>\n",
       "      <td>Bergen, Norway</td>\n",
       "      <td>73.1</td>\n",
       "      <td>8.06</td>\n",
       "      <td>94.0</td>\n",
       "      <td>...</td>\n",
       "      <td>Fuji TV, TAP, Shueisha</td>\n",
       "      <td>Toei Animation</td>\n",
       "      <td>Manga</td>\n",
       "      <td>PG-13 - Teens 13 or older</td>\n",
       "      <td>55.0</td>\n",
       "      <td>20</td>\n",
       "      <td>198986</td>\n",
       "      <td>1999.0</td>\n",
       "      <td>2013.0</td>\n",
       "      <td>24.0</td>\n",
       "    </tr>\n",
       "  </tbody>\n",
       "</table>\n",
       "<p>2 rows × 27 columns</p>\n",
       "</div>"
      ],
      "text/plain": [
       "   user_id  anime_id Anime Title  rating Username Gender        Location  \\\n",
       "0        1        21   One Piece       9    Xinil   Male      California   \n",
       "1       20        21   One Piece       9   vondur   Male  Bergen, Norway   \n",
       "\n",
       "   Days Watched  Mean Score  Completed  ...               Producers  \\\n",
       "0         142.3        7.37      233.0  ...  Fuji TV, TAP, Shueisha   \n",
       "1          73.1        8.06       94.0  ...  Fuji TV, TAP, Shueisha   \n",
       "\n",
       "          Studios  Source                     Rating  Rank  Popularity  \\\n",
       "0  Toei Animation   Manga  PG-13 - Teens 13 or older  55.0          20   \n",
       "1  Toei Animation   Manga  PG-13 - Teens 13 or older  55.0          20   \n",
       "\n",
       "  Favorites Air Start Air End Duration (min)  \n",
       "0    198986    1999.0  2013.0           24.0  \n",
       "1    198986    1999.0  2013.0           24.0  \n",
       "\n",
       "[2 rows x 27 columns]"
      ]
     },
     "execution_count": 38,
     "metadata": {},
     "output_type": "execute_result"
    }
   ],
   "source": [
    "merged_data.head(2)"
   ]
  },
  {
   "cell_type": "code",
   "execution_count": 39,
   "id": "41dc894e-6d33-42df-8767-c44c543d306b",
   "metadata": {
    "id": "41dc894e-6d33-42df-8767-c44c543d306b"
   },
   "outputs": [
    {
     "data": {
      "text/plain": [
       "(23803248, 27)"
      ]
     },
     "execution_count": 39,
     "metadata": {},
     "output_type": "execute_result"
    }
   ],
   "source": [
    "merged_data.shape"
   ]
  },
  {
   "cell_type": "code",
   "execution_count": 40,
   "id": "e4b362d7-db97-4763-8f9f-3158fe116400",
   "metadata": {
    "id": "e4b362d7-db97-4763-8f9f-3158fe116400"
   },
   "outputs": [
    {
     "data": {
      "text/plain": [
       "Index(['user_id', 'anime_id', 'Anime Title', 'rating', 'Username', 'Gender',\n",
       "       'Location', 'Days Watched', 'Mean Score', 'Completed', 'Total Entries',\n",
       "       'Name', 'Score', 'Genres', 'Type', 'Episodes', 'Status', 'Producers',\n",
       "       'Studios', 'Source', 'Rating', 'Rank', 'Popularity', 'Favorites',\n",
       "       'Air Start', 'Air End', 'Duration (min)'],\n",
       "      dtype='object')"
      ]
     },
     "execution_count": 40,
     "metadata": {},
     "output_type": "execute_result"
    }
   ],
   "source": [
    "merged_data.columns"
   ]
  },
  {
   "cell_type": "code",
   "execution_count": 41,
   "id": "5664ae64-9002-482e-be3a-fea121ad64a4",
   "metadata": {
    "id": "5664ae64-9002-482e-be3a-fea121ad64a4"
   },
   "outputs": [
    {
     "data": {
      "text/plain": [
       "user_id           0\n",
       "anime_id          0\n",
       "Anime Title       0\n",
       "rating            0\n",
       "Username          0\n",
       "Gender            0\n",
       "Location          0\n",
       "Days Watched      0\n",
       "Mean Score        0\n",
       "Completed         0\n",
       "Total Entries     0\n",
       "Name              0\n",
       "Score             0\n",
       "Genres            0\n",
       "Type              0\n",
       "Episodes          0\n",
       "Status            0\n",
       "Producers         0\n",
       "Studios           0\n",
       "Source            0\n",
       "Rating            0\n",
       "Rank              0\n",
       "Popularity        0\n",
       "Favorites         0\n",
       "Air Start         0\n",
       "Air End           0\n",
       "Duration (min)    0\n",
       "dtype: int64"
      ]
     },
     "execution_count": 41,
     "metadata": {},
     "output_type": "execute_result"
    }
   ],
   "source": [
    "merged_data.isna().sum()"
   ]
  },
  {
   "cell_type": "code",
   "execution_count": 42,
   "id": "b0d6fadd-0b3b-4355-af53-f86ae83f42b0",
   "metadata": {
    "id": "b0d6fadd-0b3b-4355-af53-f86ae83f42b0"
   },
   "outputs": [],
   "source": [
    "merged_data.drop(columns = ['Location'], inplace = True)"
   ]
  },
  {
   "cell_type": "code",
   "execution_count": 43,
   "id": "27934b29-55f5-4fd2-9da1-30a7fa960a6a",
   "metadata": {
    "id": "27934b29-55f5-4fd2-9da1-30a7fa960a6a"
   },
   "outputs": [
    {
     "data": {
      "text/plain": [
       "Index(['user_id', 'anime_id', 'Anime Title', 'rating', 'Username', 'Gender',\n",
       "       'Days Watched', 'Mean Score', 'Completed', 'Total Entries', 'Name',\n",
       "       'Score', 'Genres', 'Type', 'Episodes', 'Status', 'Producers', 'Studios',\n",
       "       'Source', 'Rating', 'Rank', 'Popularity', 'Favorites', 'Air Start',\n",
       "       'Air End', 'Duration (min)'],\n",
       "      dtype='object')"
      ]
     },
     "execution_count": 43,
     "metadata": {},
     "output_type": "execute_result"
    }
   ],
   "source": [
    "merged_data.columns"
   ]
  },
  {
   "cell_type": "code",
   "execution_count": 44,
   "id": "0986d110-5c30-4346-84df-e3a54bd866f4",
   "metadata": {
    "tags": []
   },
   "outputs": [
    {
     "data": {
      "text/plain": [
       "user_id             int64\n",
       "anime_id            int64\n",
       "Anime Title        object\n",
       "rating              int64\n",
       "Username           object\n",
       "Gender             object\n",
       "Days Watched      float64\n",
       "Mean Score        float64\n",
       "Completed         float64\n",
       "Total Entries     float64\n",
       "Name               object\n",
       "Score             float64\n",
       "Genres             object\n",
       "Type               object\n",
       "Episodes          float64\n",
       "Status             object\n",
       "Producers          object\n",
       "Studios            object\n",
       "Source             object\n",
       "Rating             object\n",
       "Rank              float64\n",
       "Popularity          int64\n",
       "Favorites           int64\n",
       "Air Start         float64\n",
       "Air End           float64\n",
       "Duration (min)    float64\n",
       "dtype: object"
      ]
     },
     "execution_count": 44,
     "metadata": {},
     "output_type": "execute_result"
    }
   ],
   "source": [
    "merged_data.dtypes"
   ]
  },
  {
   "cell_type": "markdown",
   "id": "96ae19d5-900d-409d-a3ad-c246d3927fe8",
   "metadata": {},
   "source": [
    "<font color='blue'> Perform Stratified Sampling using a combination of Gender and Type"
   ]
  },
  {
   "cell_type": "code",
   "execution_count": 45,
   "id": "fa5ee361-6b1f-440a-a42d-4cd2c83c6077",
   "metadata": {
    "tags": []
   },
   "outputs": [
    {
     "name": "stdout",
     "output_type": "stream",
     "text": [
      "Type_Gender\n",
      "TV_Male               12613597\n",
      "TV_Female              3644652\n",
      "Movie_Male             2472211\n",
      "OVA_Male               1748390\n",
      "Special_Male           1110570\n",
      "Movie_Female            785542\n",
      "OVA_Female              503125\n",
      "Special_Female          336095\n",
      "ONA_Male                287630\n",
      "ONA_Female              105359\n",
      "TV_Non-Binary            72276\n",
      "Music_Male               52390\n",
      "Music_Female             28941\n",
      "Movie_Non-Binary         18525\n",
      "OVA_Non-Binary           11468\n",
      "Special_Non-Binary        7860\n",
      "ONA_Non-Binary            3668\n",
      "Music_Non-Binary           945\n",
      "UNKNOWN_Male                 2\n",
      "UNKNOWN_Female               2\n",
      "Name: count, dtype: int64\n"
     ]
    }
   ],
   "source": [
    "merged_data['Type_Gender'] = merged_data['Type'].astype(str) + '_' + merged_data['Gender'].astype(str)\n",
    "\n",
    "print(merged_data['Type_Gender'].value_counts())"
   ]
  },
  {
   "cell_type": "code",
   "execution_count": 46,
   "id": "091d5a60-89b8-455d-b4fc-6c9afc98d81e",
   "metadata": {
    "tags": []
   },
   "outputs": [
    {
     "data": {
      "text/plain": [
       "(23803248, 27)"
      ]
     },
     "execution_count": 46,
     "metadata": {},
     "output_type": "execute_result"
    }
   ],
   "source": [
    "merged_data.shape"
   ]
  },
  {
   "cell_type": "code",
   "execution_count": 47,
   "id": "4a6240b7-b0d4-4eee-9bf9-b58fa443090e",
   "metadata": {},
   "outputs": [],
   "source": [
    "def stratified_sample(data, strat_col, frac=0.5, random_state=42):\n",
    "    data[strat_col] = data[strat_col].astype('category')\n",
    "    split = StratifiedShuffleSplit(n_splits=1, test_size=1-frac, random_state=random_state)\n",
    "    for train_index, _ in split.split(data, data[strat_col]):\n",
    "        stratified_data = data.iloc[train_index]\n",
    "    \n",
    "    return stratified_data"
   ]
  },
  {
   "cell_type": "markdown",
   "id": "cbe24918-fe5c-4185-9023-d558da01a609",
   "metadata": {},
   "source": [
    "<font color='blue'> Print the Distribution for the Stratified Splits"
   ]
  },
  {
   "cell_type": "code",
   "execution_count": 48,
   "id": "73b9365e-e2a7-4041-b343-b43914c5f403",
   "metadata": {
    "tags": []
   },
   "outputs": [
    {
     "name": "stdout",
     "output_type": "stream",
     "text": [
      "Original distribution:\n",
      "Type\n",
      "TV         6.860629e-01\n",
      "Movie      1.376400e-01\n",
      "OVA        9.507035e-02\n",
      "Special    6.110616e-02\n",
      "ONA        1.666399e-02\n",
      "Music      3.456503e-03\n",
      "UNKNOWN    1.680443e-07\n",
      "Name: proportion, dtype: float64\n",
      "\n",
      "Sampled distribution:\n",
      "Type\n",
      "TV         6.860628e-01\n",
      "Movie      1.376400e-01\n",
      "OVA        9.507039e-02\n",
      "Special    6.110620e-02\n",
      "ONA        1.666394e-02\n",
      "Music      3.456419e-03\n",
      "UNKNOWN    1.680443e-07\n",
      "Name: proportion, dtype: float64\n",
      "\n",
      "Original Gender distribution:\n",
      "Gender\n",
      "Male          0.768164\n",
      "Female        0.227016\n",
      "Non-Binary    0.004820\n",
      "Name: proportion, dtype: float64\n",
      "\n",
      "Sampled Gender distribution:\n",
      "Gender\n",
      "Male          0.768164\n",
      "Female        0.227016\n",
      "Non-Binary    0.004820\n",
      "Name: proportion, dtype: float64\n"
     ]
    }
   ],
   "source": [
    "data_sampled = stratified_sample(merged_data, strat_col='Type_Gender', frac=0.5, random_state=42)\n",
    "data_sampled2 = merged_data[~merged_data.index.isin(data_sampled.index)]\n",
    "\n",
    "print(\"Original distribution:\")\n",
    "print(merged_data['Type'].value_counts(normalize=True))\n",
    "print(\"\\nSampled distribution:\")\n",
    "print(data_sampled['Type'].value_counts(normalize=True))\n",
    "\n",
    "print(\"\\nOriginal Gender distribution:\")\n",
    "print(merged_data['Gender'].value_counts(normalize=True).head())\n",
    "print(\"\\nSampled Gender distribution:\")\n",
    "print(data_sampled['Gender'].value_counts(normalize=True).head())"
   ]
  },
  {
   "cell_type": "code",
   "execution_count": 49,
   "id": "59dcb045-9d38-4574-bc44-7ad538d6a7aa",
   "metadata": {
    "tags": []
   },
   "outputs": [
    {
     "data": {
      "text/plain": [
       "(23803248, 27)"
      ]
     },
     "execution_count": 49,
     "metadata": {},
     "output_type": "execute_result"
    }
   ],
   "source": [
    "merged_data.shape"
   ]
  },
  {
   "cell_type": "code",
   "execution_count": 50,
   "id": "0136fa0c-dcdd-46bd-90df-31bb80602f9c",
   "metadata": {},
   "outputs": [
    {
     "data": {
      "text/plain": [
       "(11901624, 27)"
      ]
     },
     "execution_count": 50,
     "metadata": {},
     "output_type": "execute_result"
    }
   ],
   "source": [
    "data_sampled.shape"
   ]
  },
  {
   "cell_type": "code",
   "execution_count": 51,
   "id": "b4a1f12d-f830-409d-8ca4-620c3fbd0247",
   "metadata": {},
   "outputs": [
    {
     "data": {
      "text/plain": [
       "(11901624, 27)"
      ]
     },
     "execution_count": 51,
     "metadata": {},
     "output_type": "execute_result"
    }
   ],
   "source": [
    "data_sampled2.shape"
   ]
  },
  {
   "cell_type": "markdown",
   "id": "35ebd27e-8da5-48aa-9c87-0d8d337a932f",
   "metadata": {},
   "source": [
    "<font color='blue'> Save the datasplits as pickle files to be used for training"
   ]
  },
  {
   "cell_type": "code",
   "execution_count": 52,
   "id": "72d04a16-a5c7-492f-81e7-05b4bc4bc5e5",
   "metadata": {},
   "outputs": [],
   "source": [
    "data_sampled.to_pickle('data_sampled.pkl')"
   ]
  },
  {
   "cell_type": "code",
   "execution_count": 53,
   "id": "081af9d9-bb5e-48bd-958d-6339d6f6fa39",
   "metadata": {},
   "outputs": [],
   "source": [
    "data_sampled2.to_pickle('data_sampled2.pkl')"
   ]
  },
  {
   "cell_type": "markdown",
   "id": "2a83ff13-6dd4-4c77-8b26-a145ba5e73d6",
   "metadata": {},
   "source": [
    "#### <font color='blue'> Training in a separate IPYNB"
   ]
  }
 ],
 "metadata": {
  "accelerator": "GPU",
  "colab": {
   "gpuType": "T4",
   "provenance": []
  },
  "kernelspec": {
   "display_name": "Python 3 (ipykernel)",
   "language": "python",
   "name": "python3"
  },
  "language_info": {
   "codemirror_mode": {
    "name": "ipython",
    "version": 3
   },
   "file_extension": ".py",
   "mimetype": "text/x-python",
   "name": "python",
   "nbconvert_exporter": "python",
   "pygments_lexer": "ipython3",
   "version": "3.11.5"
  }
 },
 "nbformat": 4,
 "nbformat_minor": 5
}
