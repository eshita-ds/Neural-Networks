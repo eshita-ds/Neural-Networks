{
 "cells": [
  {
   "cell_type": "markdown",
   "id": "6f702c15-e522-4a56-8a41-c21156d40dc2",
   "metadata": {},
   "source": [
    "## DATA 255- Lab 2- Part 2 - Modeling  (Follow up from the Pre-processing File)"
   ]
  },
  {
   "cell_type": "code",
   "execution_count": 1,
   "id": "953ad8f1-0717-4849-9b64-d8bdc6d11e70",
   "metadata": {
    "execution": {
     "iopub.execute_input": "2024-12-01T03:48:57.764493Z",
     "iopub.status.busy": "2024-12-01T03:48:57.764194Z",
     "iopub.status.idle": "2024-12-01T03:48:59.659991Z",
     "shell.execute_reply": "2024-12-01T03:48:59.659307Z",
     "shell.execute_reply.started": "2024-12-01T03:48:57.764466Z"
    },
    "tags": []
   },
   "outputs": [],
   "source": [
    "import pandas as pd\n",
    "\n",
    "import numpy as np\n",
    "\n",
    "import re\n",
    "\n",
    "from collections import Counter"
   ]
  },
  {
   "cell_type": "code",
   "execution_count": 2,
   "id": "26f2a187-2ce5-4719-8776-5c594259372c",
   "metadata": {
    "execution": {
     "iopub.execute_input": "2024-12-01T03:49:05.700513Z",
     "iopub.status.busy": "2024-12-01T03:49:05.699843Z",
     "iopub.status.idle": "2024-12-01T03:49:05.704204Z",
     "shell.execute_reply": "2024-12-01T03:49:05.703420Z",
     "shell.execute_reply.started": "2024-12-01T03:49:05.700479Z"
    }
   },
   "outputs": [],
   "source": [
    "labels = ['toxicity', 'severe_toxicity', 'obscene', 'threat', \n",
    "\n",
    "          'insult', 'identity_attack', 'sexual_explicit']"
   ]
  },
  {
   "cell_type": "markdown",
   "id": "116ff408-79fa-43a0-8054-0211b45a7374",
   "metadata": {},
   "source": [
    "**Importing the pre-processed data saved as pickle files**"
   ]
  },
  {
   "cell_type": "code",
   "execution_count": 3,
   "id": "b2dee5c3-d97a-4dae-89eb-2c7b118dfa99",
   "metadata": {
    "execution": {
     "iopub.execute_input": "2024-12-01T03:49:08.166134Z",
     "iopub.status.busy": "2024-12-01T03:49:08.165426Z",
     "iopub.status.idle": "2024-12-01T03:49:12.573186Z",
     "shell.execute_reply": "2024-12-01T03:49:12.572458Z",
     "shell.execute_reply.started": "2024-12-01T03:49:08.166103Z"
    }
   },
   "outputs": [],
   "source": [
    "import pickle\n",
    "with open('/kaggle/input/toxic-class-stemmed/cleaned_data_stemmed.pkl', 'rb') as f:\n",
    "   train_data = pickle.load(f)"
   ]
  },
  {
   "cell_type": "code",
   "execution_count": 4,
   "id": "07d4c0c3-3719-43e1-9aed-9000fa719c76",
   "metadata": {
    "execution": {
     "iopub.execute_input": "2024-12-01T03:49:14.182875Z",
     "iopub.status.busy": "2024-12-01T03:49:14.182546Z",
     "iopub.status.idle": "2024-12-01T03:49:14.366143Z",
     "shell.execute_reply": "2024-12-01T03:49:14.365288Z",
     "shell.execute_reply.started": "2024-12-01T03:49:14.182849Z"
    }
   },
   "outputs": [],
   "source": [
    "with open('/kaggle/input/toxic-class-stemmed/cleaned_testdata_stemmed.pkl', 'rb') as f:\n",
    "    test_data = pickle.load(f)"
   ]
  },
  {
   "cell_type": "code",
   "execution_count": 5,
   "id": "d2efeebb-06ba-4fec-9058-d484955b8142",
   "metadata": {
    "execution": {
     "iopub.execute_input": "2024-12-01T03:49:23.619953Z",
     "iopub.status.busy": "2024-12-01T03:49:23.619615Z",
     "iopub.status.idle": "2024-12-01T03:49:23.696884Z",
     "shell.execute_reply": "2024-12-01T03:49:23.695982Z",
     "shell.execute_reply.started": "2024-12-01T03:49:23.619923Z"
    },
    "tags": []
   },
   "outputs": [
    {
     "data": {
      "text/plain": [
       "toxicity           0\n",
       "severe_toxicity    0\n",
       "obscene            0\n",
       "threat             0\n",
       "insult             0\n",
       "identity_attack    0\n",
       "sexual_explicit    0\n",
       "dtype: int64"
      ]
     },
     "execution_count": 5,
     "metadata": {},
     "output_type": "execute_result"
    }
   ],
   "source": [
    "train_data[['toxicity', 'severe_toxicity', 'obscene', 'threat', 'insult', 'identity_attack', 'sexual_explicit']].isnull().sum()"
   ]
  },
  {
   "cell_type": "markdown",
   "id": "cdb3b067-b5fc-4cf0-93b1-dc3d4f6fde93",
   "metadata": {},
   "source": [
    "**Setting up the target variable**"
   ]
  },
  {
   "cell_type": "code",
   "execution_count": 6,
   "id": "f881d09e-477a-492c-9b52-db0fe7b76620",
   "metadata": {
    "execution": {
     "iopub.execute_input": "2024-12-01T03:49:25.908125Z",
     "iopub.status.busy": "2024-12-01T03:49:25.907323Z",
     "iopub.status.idle": "2024-12-01T03:49:25.945201Z",
     "shell.execute_reply": "2024-12-01T03:49:25.944267Z",
     "shell.execute_reply.started": "2024-12-01T03:49:25.908089Z"
    },
    "tags": []
   },
   "outputs": [],
   "source": [
    "y = train_data[['toxicity', 'severe_toxicity', 'obscene', 'threat', 'insult', 'identity_attack', 'sexual_explicit']].to_numpy()"
   ]
  },
  {
   "cell_type": "code",
   "execution_count": 7,
   "id": "bbe7caea-1808-4de5-9ab2-e09dc9ab9194",
   "metadata": {
    "execution": {
     "iopub.execute_input": "2024-12-01T03:49:29.373582Z",
     "iopub.status.busy": "2024-12-01T03:49:29.372999Z",
     "iopub.status.idle": "2024-12-01T03:49:29.379475Z",
     "shell.execute_reply": "2024-12-01T03:49:29.378601Z",
     "shell.execute_reply.started": "2024-12-01T03:49:29.373544Z"
    },
    "tags": []
   },
   "outputs": [
    {
     "data": {
      "text/plain": [
       "array([[0.        , 0.        , 0.        , ..., 0.        , 0.        ,\n",
       "        0.        ],\n",
       "       [0.        , 0.        , 0.        , ..., 0.        , 0.        ,\n",
       "        0.        ],\n",
       "       [0.        , 0.        , 0.        , ..., 0.        , 0.        ,\n",
       "        0.        ],\n",
       "       ...,\n",
       "       [0.        , 0.        , 0.        , ..., 0.        , 0.        ,\n",
       "        0.        ],\n",
       "       [0.6212121 , 0.03030303, 0.03030303, ..., 0.6212121 , 0.04545455,\n",
       "        0.        ],\n",
       "       [0.        , 0.        , 0.        , ..., 0.        , 0.        ,\n",
       "        0.        ]])"
      ]
     },
     "execution_count": 7,
     "metadata": {},
     "output_type": "execute_result"
    }
   ],
   "source": [
    "y"
   ]
  },
  {
   "cell_type": "markdown",
   "id": "2a9fa590-b3a2-4c88-9af2-4b92a1777dbb",
   "metadata": {},
   "source": [
    "**Setting up the parameters for tokenization and modeling**"
   ]
  },
  {
   "cell_type": "code",
   "execution_count": 8,
   "id": "c2665454-ec5c-440c-b193-b6dee35efffb",
   "metadata": {
    "execution": {
     "iopub.execute_input": "2024-12-01T03:49:31.832625Z",
     "iopub.status.busy": "2024-12-01T03:49:31.832030Z",
     "iopub.status.idle": "2024-12-01T03:49:31.836674Z",
     "shell.execute_reply": "2024-12-01T03:49:31.835685Z",
     "shell.execute_reply.started": "2024-12-01T03:49:31.832589Z"
    },
    "tags": []
   },
   "outputs": [],
   "source": [
    "max_features=100000      \n",
    "\n",
    "maxpadlen = 200\n",
    "\n",
    "embedding_dim = 300"
   ]
  },
  {
   "cell_type": "code",
   "execution_count": 9,
   "id": "1043a5b2-fc35-4511-a11c-aafb134ca202",
   "metadata": {
    "execution": {
     "iopub.execute_input": "2024-12-01T03:49:35.597657Z",
     "iopub.status.busy": "2024-12-01T03:49:35.596878Z",
     "iopub.status.idle": "2024-12-01T03:49:35.653620Z",
     "shell.execute_reply": "2024-12-01T03:49:35.652888Z",
     "shell.execute_reply.started": "2024-12-01T03:49:35.597620Z"
    },
    "tags": []
   },
   "outputs": [],
   "source": [
    "processed_train_data = train_data['text'].tolist()\n",
    "\n",
    "processed_test_data = test_data['text'].tolist()"
   ]
  },
  {
   "cell_type": "code",
   "execution_count": 10,
   "id": "d3821637-1ecb-47b3-b525-507a53ae8f4f",
   "metadata": {
    "execution": {
     "iopub.execute_input": "2024-12-01T03:49:38.294384Z",
     "iopub.status.busy": "2024-12-01T03:49:38.293822Z",
     "iopub.status.idle": "2024-12-01T03:49:57.817879Z",
     "shell.execute_reply": "2024-12-01T03:49:57.817136Z",
     "shell.execute_reply.started": "2024-12-01T03:49:38.294349Z"
    },
    "tags": []
   },
   "outputs": [],
   "source": [
    "from tensorflow import keras\n",
    "\n",
    "from tensorflow.keras.preprocessing.text import Tokenizer\n",
    "\n",
    "from keras.preprocessing.sequence import pad_sequences"
   ]
  },
  {
   "cell_type": "markdown",
   "id": "e8a8993a-327d-4a1c-aea8-d2d3cee0206b",
   "metadata": {},
   "source": [
    "**Performing Tokenization**"
   ]
  },
  {
   "cell_type": "code",
   "execution_count": 11,
   "id": "2f03250d-b39f-46fa-888c-8b5d12c718f0",
   "metadata": {
    "execution": {
     "iopub.execute_input": "2024-12-01T03:49:59.911767Z",
     "iopub.status.busy": "2024-12-01T03:49:59.911186Z",
     "iopub.status.idle": "2024-12-01T03:51:37.646337Z",
     "shell.execute_reply": "2024-12-01T03:51:37.645569Z",
     "shell.execute_reply.started": "2024-12-01T03:49:59.911735Z"
    },
    "tags": []
   },
   "outputs": [],
   "source": [
    "tokenizer = Tokenizer(num_words=max_features)\n",
    "\n",
    "tokenizer.fit_on_texts(list(processed_train_data))\n",
    "\n",
    "list_tokenized_train = tokenizer.texts_to_sequences(processed_train_data)\n",
    "\n",
    "list_tokenized_test = tokenizer.texts_to_sequences(processed_test_data)"
   ]
  },
  {
   "cell_type": "code",
   "execution_count": 12,
   "id": "1f2bdd99-62da-4c5e-a655-2802526cf47d",
   "metadata": {
    "execution": {
     "iopub.execute_input": "2024-12-01T03:51:59.101432Z",
     "iopub.status.busy": "2024-12-01T03:51:59.100619Z",
     "iopub.status.idle": "2024-12-01T03:51:59.106145Z",
     "shell.execute_reply": "2024-12-01T03:51:59.105291Z",
     "shell.execute_reply.started": "2024-12-01T03:51:59.101399Z"
    },
    "tags": []
   },
   "outputs": [
    {
     "name": "stdout",
     "output_type": "stream",
     "text": [
      "Words in Vocabulary:  494342\n"
     ]
    }
   ],
   "source": [
    "word_index=tokenizer.word_index\n",
    "\n",
    "print(\"Words in Vocabulary: \",len(word_index))"
   ]
  },
  {
   "cell_type": "markdown",
   "id": "2dd75555-338e-4c2a-a740-71051c1cd00d",
   "metadata": {},
   "source": [
    "**Ensuring all input sequences have the same length by padding shorter sequences and truncating longer ones**"
   ]
  },
  {
   "cell_type": "code",
   "execution_count": 13,
   "id": "50d9c93d-0c6c-4a13-ae80-bb4b108613bd",
   "metadata": {
    "execution": {
     "iopub.execute_input": "2024-12-01T03:52:01.285464Z",
     "iopub.status.busy": "2024-12-01T03:52:01.284776Z",
     "iopub.status.idle": "2024-12-01T03:52:07.856944Z",
     "shell.execute_reply": "2024-12-01T03:52:07.856223Z",
     "shell.execute_reply.started": "2024-12-01T03:52:01.285430Z"
    },
    "tags": []
   },
   "outputs": [],
   "source": [
    "X_t=pad_sequences(list_tokenized_train, maxlen=maxpadlen, padding = 'post')\n",
    "\n",
    "X_te=pad_sequences(list_tokenized_test, maxlen=maxpadlen, padding = 'post')"
   ]
  },
  {
   "cell_type": "code",
   "execution_count": 15,
   "id": "a088ef2a-375d-4d8a-982e-9f3b1a6eb463",
   "metadata": {
    "execution": {
     "iopub.execute_input": "2024-12-01T03:52:37.915428Z",
     "iopub.status.busy": "2024-12-01T03:52:37.915086Z",
     "iopub.status.idle": "2024-12-01T03:52:37.920944Z",
     "shell.execute_reply": "2024-12-01T03:52:37.920025Z",
     "shell.execute_reply.started": "2024-12-01T03:52:37.915399Z"
    },
    "tags": []
   },
   "outputs": [
    {
     "name": "stdout",
     "output_type": "stream",
     "text": [
      "Tokenized sentences: \n",
      " [871   3 416 179   0   0   0   0   0   0   0   0   0   0   0   0   0   0\n",
      "   0   0   0   0   0   0   0   0   0   0   0   0   0   0   0   0   0   0\n",
      "   0   0   0   0   0   0   0   0   0   0   0   0   0   0   0   0   0   0\n",
      "   0   0   0   0   0   0   0   0   0   0   0   0   0   0   0   0   0   0\n",
      "   0   0   0   0   0   0   0   0   0   0   0   0   0   0   0   0   0   0\n",
      "   0   0   0   0   0   0   0   0   0   0   0   0   0   0   0   0   0   0\n",
      "   0   0   0   0   0   0   0   0   0   0   0   0   0   0   0   0   0   0\n",
      "   0   0   0   0   0   0   0   0   0   0   0   0   0   0   0   0   0   0\n",
      "   0   0   0   0   0   0   0   0   0   0   0   0   0   0   0   0   0   0\n",
      "   0   0   0   0   0   0   0   0   0   0   0   0   0   0   0   0   0   0\n",
      "   0   0   0   0   0   0   0   0   0   0   0   0   0   0   0   0   0   0\n",
      "   0   0]\n",
      "One hot label: \n",
      " [0. 0. 0. 0. 0. 0. 0.]\n"
     ]
    }
   ],
   "source": [
    "print('Tokenized sentences: \\n', X_t[10])\n",
    "\n",
    "print('One hot label: \\n', y[10])"
   ]
  },
  {
   "cell_type": "code",
   "execution_count": 16,
   "id": "8a2975da-2365-4486-b24f-ab7970075f8d",
   "metadata": {
    "execution": {
     "iopub.execute_input": "2024-12-01T03:52:40.548011Z",
     "iopub.status.busy": "2024-12-01T03:52:40.547706Z",
     "iopub.status.idle": "2024-12-01T03:52:40.591113Z",
     "shell.execute_reply": "2024-12-01T03:52:40.590483Z",
     "shell.execute_reply.started": "2024-12-01T03:52:40.547986Z"
    },
    "tags": []
   },
   "outputs": [],
   "source": [
    "indices = np.arange(X_t.shape[0])\n",
    "\n",
    "np.random.shuffle(indices)"
   ]
  },
  {
   "cell_type": "code",
   "execution_count": 17,
   "id": "176ccaf5-ec45-4705-9b76-c79aadb2be2d",
   "metadata": {
    "execution": {
     "iopub.execute_input": "2024-12-01T03:52:46.167523Z",
     "iopub.status.busy": "2024-12-01T03:52:46.166738Z",
     "iopub.status.idle": "2024-12-01T03:52:46.956964Z",
     "shell.execute_reply": "2024-12-01T03:52:46.956257Z",
     "shell.execute_reply.started": "2024-12-01T03:52:46.167489Z"
    },
    "tags": []
   },
   "outputs": [],
   "source": [
    "X_t = X_t[indices]\n",
    "\n",
    "labels = y[indices]"
   ]
  },
  {
   "cell_type": "markdown",
   "id": "92e7fa2a-c41d-4ef9-bce9-de41aefa58fe",
   "metadata": {},
   "source": [
    "**Splitting the train set into train and validation set**"
   ]
  },
  {
   "cell_type": "code",
   "execution_count": 18,
   "id": "3afa2f84-2cea-4470-9a33-8690a55d0cfa",
   "metadata": {
    "execution": {
     "iopub.execute_input": "2024-12-01T03:52:55.827660Z",
     "iopub.status.busy": "2024-12-01T03:52:55.827009Z",
     "iopub.status.idle": "2024-12-01T03:52:55.831794Z",
     "shell.execute_reply": "2024-12-01T03:52:55.830977Z",
     "shell.execute_reply.started": "2024-12-01T03:52:55.827626Z"
    },
    "tags": []
   },
   "outputs": [],
   "source": [
    "num_validation_samples = int(0.1*X_t.shape[0])\n",
    "\n",
    "x_train = X_t[: -num_validation_samples]\n",
    "\n",
    "y_train = labels[: -num_validation_samples]\n",
    "\n",
    "x_val = X_t[-num_validation_samples: ]\n",
    "\n",
    "y_val = labels[-num_validation_samples: ]"
   ]
  },
  {
   "cell_type": "code",
   "execution_count": 19,
   "id": "7f6cadb3-04ef-47b6-b194-cb9919b62014",
   "metadata": {
    "execution": {
     "iopub.execute_input": "2024-12-01T03:52:58.461538Z",
     "iopub.status.busy": "2024-12-01T03:52:58.460924Z",
     "iopub.status.idle": "2024-12-01T03:52:58.500625Z",
     "shell.execute_reply": "2024-12-01T03:52:58.499780Z",
     "shell.execute_reply.started": "2024-12-01T03:52:58.461501Z"
    },
    "tags": []
   },
   "outputs": [
    {
     "name": "stdout",
     "output_type": "stream",
     "text": [
      "Number of entries in each category:\n",
      "training:  [167338.58942525   7428.59912898  22532.20269267  15135.91872203\n",
      " 131853.58218503  36765.44823257  10725.00810806]\n",
      "validation:  [18594.64483177   841.51189412  2514.41148111  1669.75293831\n",
      " 14616.87802179  4089.16120737  1197.94193788]\n"
     ]
    }
   ],
   "source": [
    "print('Number of entries in each category:')\n",
    "\n",
    "print('training: ', y_train.sum(axis=0))\n",
    "\n",
    "print('validation: ', y_val.sum(axis=0))"
   ]
  },
  {
   "cell_type": "markdown",
   "id": "e01a06db-543b-43d6-bcc3-e1215df06a6e",
   "metadata": {},
   "source": [
    "**Fast Text Embeddings**"
   ]
  },
  {
   "cell_type": "code",
   "execution_count": 20,
   "id": "7dd985d2-c96c-4847-98d4-d6153d794b08",
   "metadata": {
    "execution": {
     "iopub.execute_input": "2024-12-01T03:54:19.122809Z",
     "iopub.status.busy": "2024-12-01T03:54:19.122445Z",
     "iopub.status.idle": "2024-12-01T03:56:41.625183Z",
     "shell.execute_reply": "2024-12-01T03:56:41.624401Z",
     "shell.execute_reply.started": "2024-12-01T03:54:19.122781Z"
    },
    "tags": []
   },
   "outputs": [],
   "source": [
    "embeddings_index_fasttext = {}\n",
    "\n",
    "f = open('/kaggle/input/fasttext-crawl-300d-2m/crawl-300d-2M.vec', encoding='utf8')\n",
    "\n",
    "for line in f:\n",
    "\n",
    "    values = line.split()\n",
    "\n",
    "    word = values[0]\n",
    "\n",
    "    embeddings_index_fasttext[word] = np.asarray(values[1:], dtype='float32')\n",
    "\n",
    "f.close()"
   ]
  },
  {
   "cell_type": "code",
   "execution_count": 21,
   "id": "b5322359-c08e-4e0d-9a5c-d2c13e440183",
   "metadata": {
    "execution": {
     "iopub.execute_input": "2024-12-01T03:56:48.156492Z",
     "iopub.status.busy": "2024-12-01T03:56:48.155826Z",
     "iopub.status.idle": "2024-12-01T03:56:49.742791Z",
     "shell.execute_reply": "2024-12-01T03:56:49.741820Z",
     "shell.execute_reply.started": "2024-12-01T03:56:48.156459Z"
    },
    "tags": []
   },
   "outputs": [
    {
     "name": "stdout",
     "output_type": "stream",
     "text": [
      " Completed!\n"
     ]
    }
   ],
   "source": [
    "embedding_matrix_fasttext = np.random.random((len(word_index) + 1, embedding_dim))\n",
    "\n",
    "for word, i in word_index.items():\n",
    "\n",
    "    embedding_vector = embeddings_index_fasttext.get(word)\n",
    "\n",
    "    if embedding_vector is not None:\n",
    "\n",
    "        embedding_matrix_fasttext[i] = embedding_vector\n",
    "\n",
    "print(\" Completed!\")"
   ]
  },
  {
   "cell_type": "code",
   "execution_count": 22,
   "id": "9e929096-1dd4-4477-be7f-29858708f734",
   "metadata": {
    "execution": {
     "iopub.execute_input": "2024-12-01T03:56:52.879384Z",
     "iopub.status.busy": "2024-12-01T03:56:52.878635Z",
     "iopub.status.idle": "2024-12-01T03:56:52.885625Z",
     "shell.execute_reply": "2024-12-01T03:56:52.884840Z",
     "shell.execute_reply.started": "2024-12-01T03:56:52.879349Z"
    },
    "tags": []
   },
   "outputs": [],
   "source": [
    "from keras.layers import Dense, Input, LSTM, Embedding, Dropout, Activation\n",
    "\n",
    "from keras.layers import Bidirectional, GlobalMaxPool1D\n",
    "\n",
    "from keras.models import Model\n",
    "\n",
    "from keras.models import Sequential\n",
    "\n",
    "from keras.layers import Conv1D, MaxPooling1D\n",
    "\n",
    "from keras.layers import BatchNormalization\n",
    "\n",
    "from keras import initializers, regularizers, constraints, optimizers, layers"
   ]
  },
  {
   "cell_type": "markdown",
   "id": "25e0aa3a-5411-4b83-9d7d-f7201f33564c",
   "metadata": {},
   "source": [
    "**Model Building - BiLSTM**"
   ]
  },
  {
   "cell_type": "code",
   "execution_count": 23,
   "id": "21716060-db75-4c92-b2dc-ffb100767b17",
   "metadata": {
    "execution": {
     "iopub.execute_input": "2024-12-01T03:56:58.869874Z",
     "iopub.status.busy": "2024-12-01T03:56:58.869537Z",
     "iopub.status.idle": "2024-12-01T03:57:02.397373Z",
     "shell.execute_reply": "2024-12-01T03:57:02.396482Z",
     "shell.execute_reply.started": "2024-12-01T03:56:58.869847Z"
    },
    "tags": []
   },
   "outputs": [
    {
     "name": "stderr",
     "output_type": "stream",
     "text": [
      "/opt/conda/lib/python3.10/site-packages/keras/src/layers/core/embedding.py:90: UserWarning: Argument `input_length` is deprecated. Just remove it.\n",
      "  warnings.warn(\n"
     ]
    },
    {
     "data": {
      "text/html": [
       "<pre style=\"white-space:pre;overflow-x:auto;line-height:normal;font-family:Menlo,'DejaVu Sans Mono',consolas,'Courier New',monospace\"><span style=\"font-weight: bold\">Model: \"functional_1\"</span>\n",
       "</pre>\n"
      ],
      "text/plain": [
       "\u001b[1mModel: \"functional_1\"\u001b[0m\n"
      ]
     },
     "metadata": {},
     "output_type": "display_data"
    },
    {
     "data": {
      "text/html": [
       "<pre style=\"white-space:pre;overflow-x:auto;line-height:normal;font-family:Menlo,'DejaVu Sans Mono',consolas,'Courier New',monospace\">┏━━━━━━━━━━━━━━━━━━━━━━━━━━━━━━━━━┳━━━━━━━━━━━━━━━━━━━━━━━━┳━━━━━━━━━━━━━━━┓\n",
       "┃<span style=\"font-weight: bold\"> Layer (type)                    </span>┃<span style=\"font-weight: bold\"> Output Shape           </span>┃<span style=\"font-weight: bold\">       Param # </span>┃\n",
       "┡━━━━━━━━━━━━━━━━━━━━━━━━━━━━━━━━━╇━━━━━━━━━━━━━━━━━━━━━━━━╇━━━━━━━━━━━━━━━┩\n",
       "│ input_layer (<span style=\"color: #0087ff; text-decoration-color: #0087ff\">InputLayer</span>)        │ (<span style=\"color: #00d7ff; text-decoration-color: #00d7ff\">None</span>, <span style=\"color: #00af00; text-decoration-color: #00af00\">200</span>)            │             <span style=\"color: #00af00; text-decoration-color: #00af00\">0</span> │\n",
       "├─────────────────────────────────┼────────────────────────┼───────────────┤\n",
       "│ embedding (<span style=\"color: #0087ff; text-decoration-color: #0087ff\">Embedding</span>)           │ (<span style=\"color: #00d7ff; text-decoration-color: #00d7ff\">None</span>, <span style=\"color: #00af00; text-decoration-color: #00af00\">200</span>, <span style=\"color: #00af00; text-decoration-color: #00af00\">300</span>)       │   <span style=\"color: #00af00; text-decoration-color: #00af00\">148,302,900</span> │\n",
       "├─────────────────────────────────┼────────────────────────┼───────────────┤\n",
       "│ bidirectional (<span style=\"color: #0087ff; text-decoration-color: #0087ff\">Bidirectional</span>)   │ (<span style=\"color: #00d7ff; text-decoration-color: #00d7ff\">None</span>, <span style=\"color: #00af00; text-decoration-color: #00af00\">200</span>, <span style=\"color: #00af00; text-decoration-color: #00af00\">200</span>)       │       <span style=\"color: #00af00; text-decoration-color: #00af00\">320,800</span> │\n",
       "├─────────────────────────────────┼────────────────────────┼───────────────┤\n",
       "│ global_max_pooling1d            │ (<span style=\"color: #00d7ff; text-decoration-color: #00d7ff\">None</span>, <span style=\"color: #00af00; text-decoration-color: #00af00\">200</span>)            │             <span style=\"color: #00af00; text-decoration-color: #00af00\">0</span> │\n",
       "│ (<span style=\"color: #0087ff; text-decoration-color: #0087ff\">GlobalMaxPooling1D</span>)            │                        │               │\n",
       "├─────────────────────────────────┼────────────────────────┼───────────────┤\n",
       "│ dense (<span style=\"color: #0087ff; text-decoration-color: #0087ff\">Dense</span>)                   │ (<span style=\"color: #00d7ff; text-decoration-color: #00d7ff\">None</span>, <span style=\"color: #00af00; text-decoration-color: #00af00\">75</span>)             │        <span style=\"color: #00af00; text-decoration-color: #00af00\">15,075</span> │\n",
       "├─────────────────────────────────┼────────────────────────┼───────────────┤\n",
       "│ dropout (<span style=\"color: #0087ff; text-decoration-color: #0087ff\">Dropout</span>)               │ (<span style=\"color: #00d7ff; text-decoration-color: #00d7ff\">None</span>, <span style=\"color: #00af00; text-decoration-color: #00af00\">75</span>)             │             <span style=\"color: #00af00; text-decoration-color: #00af00\">0</span> │\n",
       "├─────────────────────────────────┼────────────────────────┼───────────────┤\n",
       "│ dense_1 (<span style=\"color: #0087ff; text-decoration-color: #0087ff\">Dense</span>)                 │ (<span style=\"color: #00d7ff; text-decoration-color: #00d7ff\">None</span>, <span style=\"color: #00af00; text-decoration-color: #00af00\">7</span>)              │           <span style=\"color: #00af00; text-decoration-color: #00af00\">532</span> │\n",
       "└─────────────────────────────────┴────────────────────────┴───────────────┘\n",
       "</pre>\n"
      ],
      "text/plain": [
       "┏━━━━━━━━━━━━━━━━━━━━━━━━━━━━━━━━━┳━━━━━━━━━━━━━━━━━━━━━━━━┳━━━━━━━━━━━━━━━┓\n",
       "┃\u001b[1m \u001b[0m\u001b[1mLayer (type)                   \u001b[0m\u001b[1m \u001b[0m┃\u001b[1m \u001b[0m\u001b[1mOutput Shape          \u001b[0m\u001b[1m \u001b[0m┃\u001b[1m \u001b[0m\u001b[1m      Param #\u001b[0m\u001b[1m \u001b[0m┃\n",
       "┡━━━━━━━━━━━━━━━━━━━━━━━━━━━━━━━━━╇━━━━━━━━━━━━━━━━━━━━━━━━╇━━━━━━━━━━━━━━━┩\n",
       "│ input_layer (\u001b[38;5;33mInputLayer\u001b[0m)        │ (\u001b[38;5;45mNone\u001b[0m, \u001b[38;5;34m200\u001b[0m)            │             \u001b[38;5;34m0\u001b[0m │\n",
       "├─────────────────────────────────┼────────────────────────┼───────────────┤\n",
       "│ embedding (\u001b[38;5;33mEmbedding\u001b[0m)           │ (\u001b[38;5;45mNone\u001b[0m, \u001b[38;5;34m200\u001b[0m, \u001b[38;5;34m300\u001b[0m)       │   \u001b[38;5;34m148,302,900\u001b[0m │\n",
       "├─────────────────────────────────┼────────────────────────┼───────────────┤\n",
       "│ bidirectional (\u001b[38;5;33mBidirectional\u001b[0m)   │ (\u001b[38;5;45mNone\u001b[0m, \u001b[38;5;34m200\u001b[0m, \u001b[38;5;34m200\u001b[0m)       │       \u001b[38;5;34m320,800\u001b[0m │\n",
       "├─────────────────────────────────┼────────────────────────┼───────────────┤\n",
       "│ global_max_pooling1d            │ (\u001b[38;5;45mNone\u001b[0m, \u001b[38;5;34m200\u001b[0m)            │             \u001b[38;5;34m0\u001b[0m │\n",
       "│ (\u001b[38;5;33mGlobalMaxPooling1D\u001b[0m)            │                        │               │\n",
       "├─────────────────────────────────┼────────────────────────┼───────────────┤\n",
       "│ dense (\u001b[38;5;33mDense\u001b[0m)                   │ (\u001b[38;5;45mNone\u001b[0m, \u001b[38;5;34m75\u001b[0m)             │        \u001b[38;5;34m15,075\u001b[0m │\n",
       "├─────────────────────────────────┼────────────────────────┼───────────────┤\n",
       "│ dropout (\u001b[38;5;33mDropout\u001b[0m)               │ (\u001b[38;5;45mNone\u001b[0m, \u001b[38;5;34m75\u001b[0m)             │             \u001b[38;5;34m0\u001b[0m │\n",
       "├─────────────────────────────────┼────────────────────────┼───────────────┤\n",
       "│ dense_1 (\u001b[38;5;33mDense\u001b[0m)                 │ (\u001b[38;5;45mNone\u001b[0m, \u001b[38;5;34m7\u001b[0m)              │           \u001b[38;5;34m532\u001b[0m │\n",
       "└─────────────────────────────────┴────────────────────────┴───────────────┘\n"
      ]
     },
     "metadata": {},
     "output_type": "display_data"
    },
    {
     "data": {
      "text/html": [
       "<pre style=\"white-space:pre;overflow-x:auto;line-height:normal;font-family:Menlo,'DejaVu Sans Mono',consolas,'Courier New',monospace\"><span style=\"font-weight: bold\"> Total params: </span><span style=\"color: #00af00; text-decoration-color: #00af00\">148,639,307</span> (567.01 MB)\n",
       "</pre>\n"
      ],
      "text/plain": [
       "\u001b[1m Total params: \u001b[0m\u001b[38;5;34m148,639,307\u001b[0m (567.01 MB)\n"
      ]
     },
     "metadata": {},
     "output_type": "display_data"
    },
    {
     "data": {
      "text/html": [
       "<pre style=\"white-space:pre;overflow-x:auto;line-height:normal;font-family:Menlo,'DejaVu Sans Mono',consolas,'Courier New',monospace\"><span style=\"font-weight: bold\"> Trainable params: </span><span style=\"color: #00af00; text-decoration-color: #00af00\">148,639,307</span> (567.01 MB)\n",
       "</pre>\n"
      ],
      "text/plain": [
       "\u001b[1m Trainable params: \u001b[0m\u001b[38;5;34m148,639,307\u001b[0m (567.01 MB)\n"
      ]
     },
     "metadata": {},
     "output_type": "display_data"
    },
    {
     "data": {
      "text/html": [
       "<pre style=\"white-space:pre;overflow-x:auto;line-height:normal;font-family:Menlo,'DejaVu Sans Mono',consolas,'Courier New',monospace\"><span style=\"font-weight: bold\"> Non-trainable params: </span><span style=\"color: #00af00; text-decoration-color: #00af00\">0</span> (0.00 B)\n",
       "</pre>\n"
      ],
      "text/plain": [
       "\u001b[1m Non-trainable params: \u001b[0m\u001b[38;5;34m0\u001b[0m (0.00 B)\n"
      ]
     },
     "metadata": {},
     "output_type": "display_data"
    }
   ],
   "source": [
    "inp_text = Input(shape=(maxpadlen, ))\n",
    "\n",
    "x = Embedding(len(word_index) + 1, embedding_dim, weights=[embedding_matrix_fasttext], input_length=maxpadlen)(inp_text)\n",
    "\n",
    "x = Bidirectional(LSTM(100, return_sequences=True))(x)  \n",
    "\n",
    "x = GlobalMaxPool1D()(x)\n",
    "\n",
    "x = Dense(75, activation=\"relu\")(x)\n",
    "\n",
    "x = Dropout(0.1)(x)\n",
    "\n",
    "x = Dense(7, activation=\"sigmoid\")(x)\n",
    "\n",
    "model = Model(inputs=[inp_text], outputs=x)\n",
    "\n",
    "model.compile(loss='binary_crossentropy', optimizer='adam', metrics=['accuracy'])\n",
    "\n",
    "model.summary()"
   ]
  },
  {
   "cell_type": "markdown",
   "id": "34a61634-4328-4d51-b060-e6cd5020971f",
   "metadata": {},
   "source": [
    "**Define the early stopping Criteria**"
   ]
  },
  {
   "cell_type": "code",
   "execution_count": 24,
   "id": "04a3d5d6-d64d-4d19-b1f2-4c95de9b8ed4",
   "metadata": {
    "execution": {
     "iopub.execute_input": "2024-12-01T03:57:35.818972Z",
     "iopub.status.busy": "2024-12-01T03:57:35.818137Z",
     "iopub.status.idle": "2024-12-01T03:57:35.827535Z",
     "shell.execute_reply": "2024-12-01T03:57:35.826597Z",
     "shell.execute_reply.started": "2024-12-01T03:57:35.818935Z"
    }
   },
   "outputs": [],
   "source": [
    "from tensorflow.keras.callbacks import EarlyStopping\n",
    "\n",
    "early_stopping = EarlyStopping(\n",
    "    monitor='val_loss',        \n",
    "    patience=3,                \n",
    "    restore_best_weights=True  \n",
    ")"
   ]
  },
  {
   "cell_type": "markdown",
   "id": "c8a1dd0c-9219-4062-9f27-15b2e91ac87c",
   "metadata": {},
   "source": [
    "**Model Training**"
   ]
  },
  {
   "cell_type": "code",
   "execution_count": 25,
   "id": "d0e85f00-f131-4c48-a8d3-61aa37654168",
   "metadata": {
    "execution": {
     "iopub.execute_input": "2024-12-01T03:57:59.322685Z",
     "iopub.status.busy": "2024-12-01T03:57:59.321826Z",
     "iopub.status.idle": "2024-12-01T05:12:02.449102Z",
     "shell.execute_reply": "2024-12-01T05:12:02.448323Z",
     "shell.execute_reply.started": "2024-12-01T03:57:59.322635Z"
    },
    "tags": []
   },
   "outputs": [
    {
     "name": "stdout",
     "output_type": "stream",
     "text": [
      "Epoch 1/10\n"
     ]
    },
    {
     "name": "stderr",
     "output_type": "stream",
     "text": [
      "/opt/conda/lib/python3.10/site-packages/tensorflow/python/framework/indexed_slices.py:446: UserWarning: Converting sparse IndexedSlices to a dense Tensor with 148302900 elements. This may consume a large amount of memory.\n",
      "  warnings.warn(\n"
     ]
    },
    {
     "name": "stdout",
     "output_type": "stream",
     "text": [
      "\u001b[1m6346/6346\u001b[0m \u001b[32m━━━━━━━━━━━━━━━━━━━━\u001b[0m\u001b[37m\u001b[0m \u001b[1m892s\u001b[0m 140ms/step - accuracy: 0.8010 - loss: 0.1030 - val_accuracy: 0.9249 - val_loss: 0.0924\n",
      "Epoch 2/10\n",
      "\u001b[1m6346/6346\u001b[0m \u001b[32m━━━━━━━━━━━━━━━━━━━━\u001b[0m\u001b[37m\u001b[0m \u001b[1m884s\u001b[0m 139ms/step - accuracy: 0.9185 - loss: 0.0922 - val_accuracy: 0.9406 - val_loss: 0.0919\n",
      "Epoch 3/10\n",
      "\u001b[1m6346/6346\u001b[0m \u001b[32m━━━━━━━━━━━━━━━━━━━━\u001b[0m\u001b[37m\u001b[0m \u001b[1m884s\u001b[0m 139ms/step - accuracy: 0.9254 - loss: 0.0905 - val_accuracy: 0.9400 - val_loss: 0.0920\n",
      "Epoch 4/10\n",
      "\u001b[1m6346/6346\u001b[0m \u001b[32m━━━━━━━━━━━━━━━━━━━━\u001b[0m\u001b[37m\u001b[0m \u001b[1m890s\u001b[0m 140ms/step - accuracy: 0.9258 - loss: 0.0887 - val_accuracy: 0.9538 - val_loss: 0.0926\n",
      "Epoch 5/10\n",
      "\u001b[1m6346/6346\u001b[0m \u001b[32m━━━━━━━━━━━━━━━━━━━━\u001b[0m\u001b[37m\u001b[0m \u001b[1m890s\u001b[0m 140ms/step - accuracy: 0.9245 - loss: 0.0872 - val_accuracy: 0.9474 - val_loss: 0.0933\n"
     ]
    }
   ],
   "source": [
    "history = model.fit(x_train, y_train,\n",
    "\n",
    "                    epochs=10,  \n",
    "\n",
    "                    batch_size=256,  \n",
    "\n",
    "                    validation_data=(x_val, y_val),\n",
    "\n",
    "                    verbose=1,\n",
    "                    \n",
    "                    callbacks=[early_stopping])"
   ]
  },
  {
   "cell_type": "code",
   "execution_count": 26,
   "id": "dd8d5db6-b2ae-4aea-acd7-38440c731b03",
   "metadata": {
    "execution": {
     "iopub.execute_input": "2024-12-01T05:16:14.596032Z",
     "iopub.status.busy": "2024-12-01T05:16:14.595685Z",
     "iopub.status.idle": "2024-12-01T05:16:14.600228Z",
     "shell.execute_reply": "2024-12-01T05:16:14.599458Z",
     "shell.execute_reply.started": "2024-12-01T05:16:14.596004Z"
    }
   },
   "outputs": [],
   "source": [
    "X_test = X_te"
   ]
  },
  {
   "cell_type": "markdown",
   "id": "7c464b4d-378f-40d3-8a08-65bf4999c4fa",
   "metadata": {},
   "source": [
    "**Getting Predictions on Test Set on the vectors**"
   ]
  },
  {
   "cell_type": "code",
   "execution_count": 27,
   "id": "9fdb9715-f2cd-4fe8-9962-c4b9ac6db1bb",
   "metadata": {
    "execution": {
     "iopub.execute_input": "2024-12-01T05:16:22.720994Z",
     "iopub.status.busy": "2024-12-01T05:16:22.720212Z",
     "iopub.status.idle": "2024-12-01T05:16:31.119994Z",
     "shell.execute_reply": "2024-12-01T05:16:31.119072Z",
     "shell.execute_reply.started": "2024-12-01T05:16:22.720965Z"
    }
   },
   "outputs": [
    {
     "name": "stdout",
     "output_type": "stream",
     "text": [
      "\u001b[1m191/191\u001b[0m \u001b[32m━━━━━━━━━━━━━━━━━━━━\u001b[0m\u001b[37m\u001b[0m \u001b[1m8s\u001b[0m 41ms/step\n",
      "[[0 0 0 ... 0 0 0]\n",
      " [0 0 0 ... 0 0 0]\n",
      " [0 0 0 ... 0 0 0]\n",
      " ...\n",
      " [1 0 0 ... 1 0 0]\n",
      " [0 0 0 ... 0 0 0]\n",
      " [0 0 0 ... 0 0 0]]\n"
     ]
    }
   ],
   "source": [
    "predictions = model.predict(X_test, batch_size=512)\n",
    "\n",
    "binary_predictions = (predictions >= 0.5).astype(int)\n",
    "\n",
    "print(binary_predictions)"
   ]
  },
  {
   "cell_type": "markdown",
   "id": "30071834-28dd-49f1-a654-0810383c4446",
   "metadata": {},
   "source": [
    "**Getting actual text of the test set**"
   ]
  },
  {
   "cell_type": "code",
   "execution_count": 28,
   "id": "4e1c77c6-5c9a-4f6e-97b4-aef7a4045077",
   "metadata": {
    "execution": {
     "iopub.execute_input": "2024-12-01T05:16:36.424619Z",
     "iopub.status.busy": "2024-12-01T05:16:36.424262Z",
     "iopub.status.idle": "2024-12-01T05:16:37.260198Z",
     "shell.execute_reply": "2024-12-01T05:16:37.259108Z",
     "shell.execute_reply.started": "2024-12-01T05:16:36.424588Z"
    }
   },
   "outputs": [],
   "source": [
    "test=pd.read_csv('/kaggle/input/toxicity-classification/test.csv')"
   ]
  },
  {
   "cell_type": "code",
   "execution_count": 29,
   "id": "9cdcd4f9-75a2-4e71-bc92-c985127c857b",
   "metadata": {
    "execution": {
     "iopub.execute_input": "2024-12-01T05:16:42.167769Z",
     "iopub.status.busy": "2024-12-01T05:16:42.166856Z",
     "iopub.status.idle": "2024-12-01T05:16:42.173767Z",
     "shell.execute_reply": "2024-12-01T05:16:42.172957Z",
     "shell.execute_reply.started": "2024-12-01T05:16:42.167719Z"
    }
   },
   "outputs": [
    {
     "data": {
      "text/plain": [
       "(97320, 2)"
      ]
     },
     "execution_count": 29,
     "metadata": {},
     "output_type": "execute_result"
    }
   ],
   "source": [
    "test.shape"
   ]
  },
  {
   "cell_type": "code",
   "execution_count": 30,
   "id": "b3a432e1-bc87-4a3b-a416-38fe0485ffc5",
   "metadata": {
    "execution": {
     "iopub.execute_input": "2024-12-01T05:16:48.317217Z",
     "iopub.status.busy": "2024-12-01T05:16:48.316758Z",
     "iopub.status.idle": "2024-12-01T05:16:48.323518Z",
     "shell.execute_reply": "2024-12-01T05:16:48.322290Z",
     "shell.execute_reply.started": "2024-12-01T05:16:48.317134Z"
    }
   },
   "outputs": [
    {
     "data": {
      "text/plain": [
       "(97320, 7)"
      ]
     },
     "execution_count": 30,
     "metadata": {},
     "output_type": "execute_result"
    }
   ],
   "source": [
    "binary_predictions.shape"
   ]
  },
  {
   "cell_type": "code",
   "execution_count": 31,
   "id": "0e888b93-62e1-4bf3-a941-18c17d7196b8",
   "metadata": {
    "execution": {
     "iopub.execute_input": "2024-12-01T05:16:56.108348Z",
     "iopub.status.busy": "2024-12-01T05:16:56.107642Z",
     "iopub.status.idle": "2024-12-01T05:16:56.116844Z",
     "shell.execute_reply": "2024-12-01T05:16:56.116040Z",
     "shell.execute_reply.started": "2024-12-01T05:16:56.108295Z"
    }
   },
   "outputs": [],
   "source": [
    "for i in range(binary_predictions.shape[1]):\n",
    "    test[f'prediction_label_{i}'] = binary_predictions[:, i]"
   ]
  },
  {
   "cell_type": "code",
   "execution_count": 32,
   "id": "d054507c-d048-46bf-9c02-68406c200556",
   "metadata": {
    "execution": {
     "iopub.execute_input": "2024-12-01T05:17:01.820997Z",
     "iopub.status.busy": "2024-12-01T05:17:01.820689Z",
     "iopub.status.idle": "2024-12-01T05:17:01.842066Z",
     "shell.execute_reply": "2024-12-01T05:17:01.841291Z",
     "shell.execute_reply.started": "2024-12-01T05:17:01.820973Z"
    }
   },
   "outputs": [
    {
     "data": {
      "text/html": [
       "<div>\n",
       "<style scoped>\n",
       "    .dataframe tbody tr th:only-of-type {\n",
       "        vertical-align: middle;\n",
       "    }\n",
       "\n",
       "    .dataframe tbody tr th {\n",
       "        vertical-align: top;\n",
       "    }\n",
       "\n",
       "    .dataframe thead th {\n",
       "        text-align: right;\n",
       "    }\n",
       "</style>\n",
       "<table border=\"1\" class=\"dataframe\">\n",
       "  <thead>\n",
       "    <tr style=\"text-align: right;\">\n",
       "      <th></th>\n",
       "      <th>id</th>\n",
       "      <th>text</th>\n",
       "      <th>prediction_label_0</th>\n",
       "      <th>prediction_label_1</th>\n",
       "      <th>prediction_label_2</th>\n",
       "      <th>prediction_label_3</th>\n",
       "      <th>prediction_label_4</th>\n",
       "      <th>prediction_label_5</th>\n",
       "      <th>prediction_label_6</th>\n",
       "    </tr>\n",
       "  </thead>\n",
       "  <tbody>\n",
       "    <tr>\n",
       "      <th>0</th>\n",
       "      <td>0</td>\n",
       "      <td>[ Integrity means that you pay your debts.]\\n\\...</td>\n",
       "      <td>0</td>\n",
       "      <td>0</td>\n",
       "      <td>0</td>\n",
       "      <td>0</td>\n",
       "      <td>0</td>\n",
       "      <td>0</td>\n",
       "      <td>0</td>\n",
       "    </tr>\n",
       "    <tr>\n",
       "      <th>1</th>\n",
       "      <td>1</td>\n",
       "      <td>This is malfeasance by the Administrator and t...</td>\n",
       "      <td>0</td>\n",
       "      <td>0</td>\n",
       "      <td>0</td>\n",
       "      <td>0</td>\n",
       "      <td>0</td>\n",
       "      <td>0</td>\n",
       "      <td>0</td>\n",
       "    </tr>\n",
       "    <tr>\n",
       "      <th>2</th>\n",
       "      <td>2</td>\n",
       "      <td>@Rmiller101 - Spoken like a true elitist. But ...</td>\n",
       "      <td>0</td>\n",
       "      <td>0</td>\n",
       "      <td>0</td>\n",
       "      <td>0</td>\n",
       "      <td>0</td>\n",
       "      <td>0</td>\n",
       "      <td>0</td>\n",
       "    </tr>\n",
       "    <tr>\n",
       "      <th>3</th>\n",
       "      <td>3</td>\n",
       "      <td>Paul: Thank you for your kind words.  I do, in...</td>\n",
       "      <td>0</td>\n",
       "      <td>0</td>\n",
       "      <td>0</td>\n",
       "      <td>0</td>\n",
       "      <td>0</td>\n",
       "      <td>0</td>\n",
       "      <td>0</td>\n",
       "    </tr>\n",
       "    <tr>\n",
       "      <th>4</th>\n",
       "      <td>4</td>\n",
       "      <td>Sorry you missed high school. Eisenhower sent ...</td>\n",
       "      <td>0</td>\n",
       "      <td>0</td>\n",
       "      <td>0</td>\n",
       "      <td>0</td>\n",
       "      <td>0</td>\n",
       "      <td>0</td>\n",
       "      <td>0</td>\n",
       "    </tr>\n",
       "  </tbody>\n",
       "</table>\n",
       "</div>"
      ],
      "text/plain": [
       "   id                                               text  prediction_label_0  \\\n",
       "0   0  [ Integrity means that you pay your debts.]\\n\\...                   0   \n",
       "1   1  This is malfeasance by the Administrator and t...                   0   \n",
       "2   2  @Rmiller101 - Spoken like a true elitist. But ...                   0   \n",
       "3   3  Paul: Thank you for your kind words.  I do, in...                   0   \n",
       "4   4  Sorry you missed high school. Eisenhower sent ...                   0   \n",
       "\n",
       "   prediction_label_1  prediction_label_2  prediction_label_3  \\\n",
       "0                   0                   0                   0   \n",
       "1                   0                   0                   0   \n",
       "2                   0                   0                   0   \n",
       "3                   0                   0                   0   \n",
       "4                   0                   0                   0   \n",
       "\n",
       "   prediction_label_4  prediction_label_5  prediction_label_6  \n",
       "0                   0                   0                   0  \n",
       "1                   0                   0                   0  \n",
       "2                   0                   0                   0  \n",
       "3                   0                   0                   0  \n",
       "4                   0                   0                   0  "
      ]
     },
     "execution_count": 32,
     "metadata": {},
     "output_type": "execute_result"
    }
   ],
   "source": [
    "test.head()"
   ]
  },
  {
   "cell_type": "code",
   "execution_count": 33,
   "id": "b5e2b16e-8361-47b5-954d-d05b375663e0",
   "metadata": {
    "execution": {
     "iopub.execute_input": "2024-12-01T05:17:14.954921Z",
     "iopub.status.busy": "2024-12-01T05:17:14.954101Z",
     "iopub.status.idle": "2024-12-01T05:17:14.959040Z",
     "shell.execute_reply": "2024-12-01T05:17:14.958181Z",
     "shell.execute_reply.started": "2024-12-01T05:17:14.954886Z"
    }
   },
   "outputs": [],
   "source": [
    "test.columns = ['id', 'text', 'toxicity', 'severe_toxicity', 'obscene', 'threat', 'insult', 'identity_attack','sexual_explicit']"
   ]
  },
  {
   "cell_type": "code",
   "execution_count": 34,
   "id": "dca1ae17-6bc4-4199-83d5-06c9c4a68e41",
   "metadata": {
    "execution": {
     "iopub.execute_input": "2024-12-01T05:17:20.681639Z",
     "iopub.status.busy": "2024-12-01T05:17:20.681306Z",
     "iopub.status.idle": "2024-12-01T05:17:20.691603Z",
     "shell.execute_reply": "2024-12-01T05:17:20.690647Z",
     "shell.execute_reply.started": "2024-12-01T05:17:20.681612Z"
    }
   },
   "outputs": [
    {
     "data": {
      "text/html": [
       "<div>\n",
       "<style scoped>\n",
       "    .dataframe tbody tr th:only-of-type {\n",
       "        vertical-align: middle;\n",
       "    }\n",
       "\n",
       "    .dataframe tbody tr th {\n",
       "        vertical-align: top;\n",
       "    }\n",
       "\n",
       "    .dataframe thead th {\n",
       "        text-align: right;\n",
       "    }\n",
       "</style>\n",
       "<table border=\"1\" class=\"dataframe\">\n",
       "  <thead>\n",
       "    <tr style=\"text-align: right;\">\n",
       "      <th></th>\n",
       "      <th>id</th>\n",
       "      <th>text</th>\n",
       "      <th>toxicity</th>\n",
       "      <th>severe_toxicity</th>\n",
       "      <th>obscene</th>\n",
       "      <th>threat</th>\n",
       "      <th>insult</th>\n",
       "      <th>identity_attack</th>\n",
       "      <th>sexual_explicit</th>\n",
       "    </tr>\n",
       "  </thead>\n",
       "  <tbody>\n",
       "    <tr>\n",
       "      <th>0</th>\n",
       "      <td>0</td>\n",
       "      <td>[ Integrity means that you pay your debts.]\\n\\...</td>\n",
       "      <td>0</td>\n",
       "      <td>0</td>\n",
       "      <td>0</td>\n",
       "      <td>0</td>\n",
       "      <td>0</td>\n",
       "      <td>0</td>\n",
       "      <td>0</td>\n",
       "    </tr>\n",
       "    <tr>\n",
       "      <th>1</th>\n",
       "      <td>1</td>\n",
       "      <td>This is malfeasance by the Administrator and t...</td>\n",
       "      <td>0</td>\n",
       "      <td>0</td>\n",
       "      <td>0</td>\n",
       "      <td>0</td>\n",
       "      <td>0</td>\n",
       "      <td>0</td>\n",
       "      <td>0</td>\n",
       "    </tr>\n",
       "    <tr>\n",
       "      <th>2</th>\n",
       "      <td>2</td>\n",
       "      <td>@Rmiller101 - Spoken like a true elitist. But ...</td>\n",
       "      <td>0</td>\n",
       "      <td>0</td>\n",
       "      <td>0</td>\n",
       "      <td>0</td>\n",
       "      <td>0</td>\n",
       "      <td>0</td>\n",
       "      <td>0</td>\n",
       "    </tr>\n",
       "    <tr>\n",
       "      <th>3</th>\n",
       "      <td>3</td>\n",
       "      <td>Paul: Thank you for your kind words.  I do, in...</td>\n",
       "      <td>0</td>\n",
       "      <td>0</td>\n",
       "      <td>0</td>\n",
       "      <td>0</td>\n",
       "      <td>0</td>\n",
       "      <td>0</td>\n",
       "      <td>0</td>\n",
       "    </tr>\n",
       "    <tr>\n",
       "      <th>4</th>\n",
       "      <td>4</td>\n",
       "      <td>Sorry you missed high school. Eisenhower sent ...</td>\n",
       "      <td>0</td>\n",
       "      <td>0</td>\n",
       "      <td>0</td>\n",
       "      <td>0</td>\n",
       "      <td>0</td>\n",
       "      <td>0</td>\n",
       "      <td>0</td>\n",
       "    </tr>\n",
       "  </tbody>\n",
       "</table>\n",
       "</div>"
      ],
      "text/plain": [
       "   id                                               text  toxicity  \\\n",
       "0   0  [ Integrity means that you pay your debts.]\\n\\...         0   \n",
       "1   1  This is malfeasance by the Administrator and t...         0   \n",
       "2   2  @Rmiller101 - Spoken like a true elitist. But ...         0   \n",
       "3   3  Paul: Thank you for your kind words.  I do, in...         0   \n",
       "4   4  Sorry you missed high school. Eisenhower sent ...         0   \n",
       "\n",
       "   severe_toxicity  obscene  threat  insult  identity_attack  sexual_explicit  \n",
       "0                0        0       0       0                0                0  \n",
       "1                0        0       0       0                0                0  \n",
       "2                0        0       0       0                0                0  \n",
       "3                0        0       0       0                0                0  \n",
       "4                0        0       0       0                0                0  "
      ]
     },
     "execution_count": 34,
     "metadata": {},
     "output_type": "execute_result"
    }
   ],
   "source": [
    "test.head()"
   ]
  },
  {
   "cell_type": "code",
   "execution_count": 35,
   "id": "a13d481b-b1f4-4218-b30c-d8c21752aee6",
   "metadata": {
    "execution": {
     "iopub.execute_input": "2024-12-01T05:17:31.257666Z",
     "iopub.status.busy": "2024-12-01T05:17:31.257076Z",
     "iopub.status.idle": "2024-12-01T05:17:32.139174Z",
     "shell.execute_reply": "2024-12-01T05:17:32.138212Z",
     "shell.execute_reply.started": "2024-12-01T05:17:31.257630Z"
    }
   },
   "outputs": [],
   "source": [
    "test.to_csv('predictions_lstm5.csv')"
   ]
  },
  {
   "cell_type": "markdown",
   "id": "29b2356f-50f2-44c9-8abf-5b43004bdab1",
   "metadata": {},
   "source": [
    "**With this model training, we recieved 97.73 accuracy on the available dataset on Kaggle public leaderboard.**"
   ]
  },
  {
   "cell_type": "markdown",
   "id": "3b2c4680-b3c5-4175-b6b7-caf6a88531a4",
   "metadata": {},
   "source": [
    "## Thank you"
   ]
  }
 ],
 "metadata": {
  "kaggle": {
   "accelerator": "nvidiaTeslaT4",
   "dataSources": [
    {
     "datasetId": 14154,
     "sourceId": 19053,
     "sourceType": "datasetVersion"
    },
    {
     "datasetId": 6151804,
     "sourceId": 9995110,
     "sourceType": "datasetVersion"
    },
    {
     "datasetId": 6201625,
     "sourceId": 10063255,
     "sourceType": "datasetVersion"
    }
   ],
   "dockerImageVersionId": 30787,
   "isGpuEnabled": true,
   "isInternetEnabled": true,
   "language": "python",
   "sourceType": "notebook"
  },
  "kernelspec": {
   "display_name": "Python 3 (ipykernel)",
   "language": "python",
   "name": "python3"
  },
  "language_info": {
   "codemirror_mode": {
    "name": "ipython",
    "version": 3
   },
   "file_extension": ".py",
   "mimetype": "text/x-python",
   "name": "python",
   "nbconvert_exporter": "python",
   "pygments_lexer": "ipython3",
   "version": "3.12.3"
  }
 },
 "nbformat": 4,
 "nbformat_minor": 5
}
