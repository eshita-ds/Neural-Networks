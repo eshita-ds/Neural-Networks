{
 "cells": [
  {
   "cell_type": "markdown",
   "id": "559c093c-1ab0-4296-ba09-5ad0a8185243",
   "metadata": {},
   "source": [
    "## DATA 255- Lab 2- Part 2 - Modeling PyTorch  (Follow up from the Pre-processing File)"
   ]
  },
  {
   "cell_type": "code",
   "execution_count": 1,
   "id": "953ad8f1-0717-4849-9b64-d8bdc6d11e70",
   "metadata": {
    "execution": {
     "iopub.execute_input": "2024-12-05T06:21:56.611289Z",
     "iopub.status.busy": "2024-12-05T06:21:56.610335Z",
     "iopub.status.idle": "2024-12-05T06:21:56.943960Z",
     "shell.execute_reply": "2024-12-05T06:21:56.943068Z",
     "shell.execute_reply.started": "2024-12-05T06:21:56.611247Z"
    },
    "tags": []
   },
   "outputs": [],
   "source": [
    "import pandas as pd\n",
    "\n",
    "import numpy as np\n",
    "\n",
    "import re\n",
    "\n",
    "from collections import Counter"
   ]
  },
  {
   "cell_type": "code",
   "execution_count": 2,
   "id": "26f2a187-2ce5-4719-8776-5c594259372c",
   "metadata": {
    "execution": {
     "iopub.execute_input": "2024-12-05T06:21:56.945777Z",
     "iopub.status.busy": "2024-12-05T06:21:56.945441Z",
     "iopub.status.idle": "2024-12-05T06:21:56.950087Z",
     "shell.execute_reply": "2024-12-05T06:21:56.949253Z",
     "shell.execute_reply.started": "2024-12-05T06:21:56.945749Z"
    }
   },
   "outputs": [],
   "source": [
    "labels = ['toxicity', 'severe_toxicity', 'obscene', 'threat', \n",
    "\n",
    "          'insult', 'identity_attack', 'sexual_explicit']"
   ]
  },
  {
   "cell_type": "markdown",
   "id": "16ecda87-e382-46f0-881c-050411f9f94e",
   "metadata": {},
   "source": [
    "**Importing the pre-processed data saved as pickle files**"
   ]
  },
  {
   "cell_type": "code",
   "execution_count": 3,
   "id": "b2dee5c3-d97a-4dae-89eb-2c7b118dfa99",
   "metadata": {
    "execution": {
     "iopub.execute_input": "2024-12-05T06:21:56.951417Z",
     "iopub.status.busy": "2024-12-05T06:21:56.951112Z",
     "iopub.status.idle": "2024-12-05T06:21:57.936081Z",
     "shell.execute_reply": "2024-12-05T06:21:57.934864Z",
     "shell.execute_reply.started": "2024-12-05T06:21:56.951388Z"
    }
   },
   "outputs": [],
   "source": [
    "import pickle\n",
    "with open('/kaggle/input/toxic-class-stemmed/cleaned_data_stemmed.pkl', 'rb') as f:\n",
    "   train_data = pickle.load(f)"
   ]
  },
  {
   "cell_type": "code",
   "execution_count": 4,
   "id": "07d4c0c3-3719-43e1-9aed-9000fa719c76",
   "metadata": {
    "execution": {
     "iopub.execute_input": "2024-12-05T06:21:57.938765Z",
     "iopub.status.busy": "2024-12-05T06:21:57.938300Z",
     "iopub.status.idle": "2024-12-05T06:21:58.027152Z",
     "shell.execute_reply": "2024-12-05T06:21:58.026154Z",
     "shell.execute_reply.started": "2024-12-05T06:21:57.938711Z"
    }
   },
   "outputs": [],
   "source": [
    "with open('/kaggle/input/toxic-class-stemmed/cleaned_testdata_stemmed.pkl', 'rb') as f:\n",
    "    test_data = pickle.load(f)"
   ]
  },
  {
   "cell_type": "code",
   "execution_count": 5,
   "id": "d2efeebb-06ba-4fec-9058-d484955b8142",
   "metadata": {
    "execution": {
     "iopub.execute_input": "2024-12-05T06:21:58.029172Z",
     "iopub.status.busy": "2024-12-05T06:21:58.028780Z",
     "iopub.status.idle": "2024-12-05T06:21:58.092612Z",
     "shell.execute_reply": "2024-12-05T06:21:58.091571Z",
     "shell.execute_reply.started": "2024-12-05T06:21:58.029120Z"
    },
    "tags": []
   },
   "outputs": [
    {
     "data": {
      "text/plain": [
       "toxicity           0\n",
       "severe_toxicity    0\n",
       "obscene            0\n",
       "threat             0\n",
       "insult             0\n",
       "identity_attack    0\n",
       "sexual_explicit    0\n",
       "dtype: int64"
      ]
     },
     "execution_count": 5,
     "metadata": {},
     "output_type": "execute_result"
    }
   ],
   "source": [
    "train_data[['toxicity', 'severe_toxicity', 'obscene', 'threat', 'insult', 'identity_attack', 'sexual_explicit']].isnull().sum()"
   ]
  },
  {
   "cell_type": "markdown",
   "id": "8e82ea6e-72de-40a2-8712-f189078a97d3",
   "metadata": {},
   "source": [
    "**Setting up the target variable**"
   ]
  },
  {
   "cell_type": "code",
   "execution_count": 6,
   "id": "f881d09e-477a-492c-9b52-db0fe7b76620",
   "metadata": {
    "execution": {
     "iopub.execute_input": "2024-12-05T06:21:58.094213Z",
     "iopub.status.busy": "2024-12-05T06:21:58.093824Z",
     "iopub.status.idle": "2024-12-05T06:21:58.132428Z",
     "shell.execute_reply": "2024-12-05T06:21:58.131401Z",
     "shell.execute_reply.started": "2024-12-05T06:21:58.094179Z"
    },
    "tags": []
   },
   "outputs": [],
   "source": [
    "y = train_data[['toxicity', 'severe_toxicity', 'obscene', 'threat', 'insult', 'identity_attack', 'sexual_explicit']].to_numpy()"
   ]
  },
  {
   "cell_type": "code",
   "execution_count": 7,
   "id": "bbe7caea-1808-4de5-9ab2-e09dc9ab9194",
   "metadata": {
    "execution": {
     "iopub.execute_input": "2024-12-05T06:21:58.133978Z",
     "iopub.status.busy": "2024-12-05T06:21:58.133589Z",
     "iopub.status.idle": "2024-12-05T06:21:58.142291Z",
     "shell.execute_reply": "2024-12-05T06:21:58.141365Z",
     "shell.execute_reply.started": "2024-12-05T06:21:58.133932Z"
    },
    "tags": []
   },
   "outputs": [
    {
     "data": {
      "text/plain": [
       "array([[0.        , 0.        , 0.        , ..., 0.        , 0.        ,\n",
       "        0.        ],\n",
       "       [0.        , 0.        , 0.        , ..., 0.        , 0.        ,\n",
       "        0.        ],\n",
       "       [0.        , 0.        , 0.        , ..., 0.        , 0.        ,\n",
       "        0.        ],\n",
       "       ...,\n",
       "       [0.        , 0.        , 0.        , ..., 0.        , 0.        ,\n",
       "        0.        ],\n",
       "       [0.6212121 , 0.03030303, 0.03030303, ..., 0.6212121 , 0.04545455,\n",
       "        0.        ],\n",
       "       [0.        , 0.        , 0.        , ..., 0.        , 0.        ,\n",
       "        0.        ]])"
      ]
     },
     "execution_count": 7,
     "metadata": {},
     "output_type": "execute_result"
    }
   ],
   "source": [
    "y"
   ]
  },
  {
   "cell_type": "markdown",
   "id": "7c36a4b4-78b7-4d41-9685-5230ca6ed2bd",
   "metadata": {},
   "source": [
    "**Setting up the parameters for tokenization and modeling**"
   ]
  },
  {
   "cell_type": "code",
   "execution_count": 8,
   "id": "c2665454-ec5c-440c-b193-b6dee35efffb",
   "metadata": {
    "execution": {
     "iopub.execute_input": "2024-12-05T06:21:58.143690Z",
     "iopub.status.busy": "2024-12-05T06:21:58.143386Z",
     "iopub.status.idle": "2024-12-05T06:21:58.151069Z",
     "shell.execute_reply": "2024-12-05T06:21:58.150251Z",
     "shell.execute_reply.started": "2024-12-05T06:21:58.143656Z"
    },
    "tags": []
   },
   "outputs": [],
   "source": [
    "max_features=100000      \n",
    "\n",
    "maxpadlen = 200\n",
    "\n",
    "embedding_dim = 300"
   ]
  },
  {
   "cell_type": "code",
   "execution_count": 9,
   "id": "1043a5b2-fc35-4511-a11c-aafb134ca202",
   "metadata": {
    "execution": {
     "iopub.execute_input": "2024-12-05T06:21:58.152552Z",
     "iopub.status.busy": "2024-12-05T06:21:58.152212Z",
     "iopub.status.idle": "2024-12-05T06:21:58.234350Z",
     "shell.execute_reply": "2024-12-05T06:21:58.233327Z",
     "shell.execute_reply.started": "2024-12-05T06:21:58.152513Z"
    },
    "tags": []
   },
   "outputs": [],
   "source": [
    "processed_train_data = train_data['text'].tolist()\n",
    "\n",
    "processed_test_data = test_data['text'].tolist()"
   ]
  },
  {
   "cell_type": "markdown",
   "id": "6ae030ae-2254-4c59-898c-2afa2c561b9c",
   "metadata": {},
   "source": [
    "**Performing Tokenization**"
   ]
  },
  {
   "cell_type": "code",
   "execution_count": 10,
   "id": "d3821637-1ecb-47b3-b525-507a53ae8f4f",
   "metadata": {
    "execution": {
     "iopub.execute_input": "2024-12-05T06:21:58.238008Z",
     "iopub.status.busy": "2024-12-05T06:21:58.237703Z",
     "iopub.status.idle": "2024-12-05T06:22:01.271831Z",
     "shell.execute_reply": "2024-12-05T06:22:01.271103Z",
     "shell.execute_reply.started": "2024-12-05T06:21:58.237979Z"
    },
    "tags": []
   },
   "outputs": [],
   "source": [
    "from tensorflow import keras\n",
    "\n",
    "from tensorflow.keras.preprocessing.text import Tokenizer\n",
    "\n",
    "from keras.preprocessing.sequence import pad_sequences"
   ]
  },
  {
   "cell_type": "code",
   "execution_count": 11,
   "id": "2f03250d-b39f-46fa-888c-8b5d12c718f0",
   "metadata": {
    "execution": {
     "iopub.execute_input": "2024-12-05T06:22:01.273349Z",
     "iopub.status.busy": "2024-12-05T06:22:01.272868Z",
     "iopub.status.idle": "2024-12-05T06:23:39.571304Z",
     "shell.execute_reply": "2024-12-05T06:23:39.570302Z",
     "shell.execute_reply.started": "2024-12-05T06:22:01.273318Z"
    },
    "tags": []
   },
   "outputs": [],
   "source": [
    "tokenizer = Tokenizer(num_words=max_features)\n",
    "\n",
    "tokenizer.fit_on_texts(list(processed_train_data))\n",
    "\n",
    "list_tokenized_train = tokenizer.texts_to_sequences(processed_train_data)\n",
    "\n",
    "list_tokenized_test = tokenizer.texts_to_sequences(processed_test_data)"
   ]
  },
  {
   "cell_type": "code",
   "execution_count": 12,
   "id": "1f2bdd99-62da-4c5e-a655-2802526cf47d",
   "metadata": {
    "execution": {
     "iopub.execute_input": "2024-12-05T06:23:39.572992Z",
     "iopub.status.busy": "2024-12-05T06:23:39.572563Z",
     "iopub.status.idle": "2024-12-05T06:23:39.578336Z",
     "shell.execute_reply": "2024-12-05T06:23:39.577453Z",
     "shell.execute_reply.started": "2024-12-05T06:23:39.572945Z"
    },
    "tags": []
   },
   "outputs": [
    {
     "name": "stdout",
     "output_type": "stream",
     "text": [
      "Words in Vocabulary:  494342\n"
     ]
    }
   ],
   "source": [
    "word_index=tokenizer.word_index\n",
    "\n",
    "print(\"Words in Vocabulary: \",len(word_index))"
   ]
  },
  {
   "cell_type": "markdown",
   "id": "8d6c6421-471d-4cfd-a4cf-a3e0362dda36",
   "metadata": {},
   "source": [
    "**Ensuring all input sequences have the same length by padding shorter sequences and truncating longer ones**"
   ]
  },
  {
   "cell_type": "code",
   "execution_count": 13,
   "id": "50d9c93d-0c6c-4a13-ae80-bb4b108613bd",
   "metadata": {
    "execution": {
     "iopub.execute_input": "2024-12-05T06:23:39.579913Z",
     "iopub.status.busy": "2024-12-05T06:23:39.579657Z",
     "iopub.status.idle": "2024-12-05T06:23:46.071460Z",
     "shell.execute_reply": "2024-12-05T06:23:46.070497Z",
     "shell.execute_reply.started": "2024-12-05T06:23:39.579880Z"
    },
    "tags": []
   },
   "outputs": [],
   "source": [
    "X_t=pad_sequences(list_tokenized_train, maxlen=maxpadlen, padding = 'post')\n",
    "\n",
    "X_te=pad_sequences(list_tokenized_test, maxlen=maxpadlen, padding = 'post')"
   ]
  },
  {
   "cell_type": "code",
   "execution_count": 14,
   "id": "a088ef2a-375d-4d8a-982e-9f3b1a6eb463",
   "metadata": {
    "execution": {
     "iopub.execute_input": "2024-12-05T06:23:46.073221Z",
     "iopub.status.busy": "2024-12-05T06:23:46.072802Z",
     "iopub.status.idle": "2024-12-05T06:23:46.079060Z",
     "shell.execute_reply": "2024-12-05T06:23:46.078142Z",
     "shell.execute_reply.started": "2024-12-05T06:23:46.073173Z"
    },
    "tags": []
   },
   "outputs": [
    {
     "name": "stdout",
     "output_type": "stream",
     "text": [
      "Tokenized sentences: \n",
      " [871   3 416 179   0   0   0   0   0   0   0   0   0   0   0   0   0   0\n",
      "   0   0   0   0   0   0   0   0   0   0   0   0   0   0   0   0   0   0\n",
      "   0   0   0   0   0   0   0   0   0   0   0   0   0   0   0   0   0   0\n",
      "   0   0   0   0   0   0   0   0   0   0   0   0   0   0   0   0   0   0\n",
      "   0   0   0   0   0   0   0   0   0   0   0   0   0   0   0   0   0   0\n",
      "   0   0   0   0   0   0   0   0   0   0   0   0   0   0   0   0   0   0\n",
      "   0   0   0   0   0   0   0   0   0   0   0   0   0   0   0   0   0   0\n",
      "   0   0   0   0   0   0   0   0   0   0   0   0   0   0   0   0   0   0\n",
      "   0   0   0   0   0   0   0   0   0   0   0   0   0   0   0   0   0   0\n",
      "   0   0   0   0   0   0   0   0   0   0   0   0   0   0   0   0   0   0\n",
      "   0   0   0   0   0   0   0   0   0   0   0   0   0   0   0   0   0   0\n",
      "   0   0]\n",
      "One hot label: \n",
      " [0. 0. 0. 0. 0. 0. 0.]\n"
     ]
    }
   ],
   "source": [
    "print('Tokenized sentences: \\n', X_t[10])\n",
    "\n",
    "print('One hot label: \\n', y[10])"
   ]
  },
  {
   "cell_type": "code",
   "execution_count": 15,
   "id": "8a2975da-2365-4486-b24f-ab7970075f8d",
   "metadata": {
    "execution": {
     "iopub.execute_input": "2024-12-05T06:23:46.080298Z",
     "iopub.status.busy": "2024-12-05T06:23:46.080056Z",
     "iopub.status.idle": "2024-12-05T06:23:46.134646Z",
     "shell.execute_reply": "2024-12-05T06:23:46.134018Z",
     "shell.execute_reply.started": "2024-12-05T06:23:46.080273Z"
    },
    "tags": []
   },
   "outputs": [],
   "source": [
    "indices = np.arange(X_t.shape[0])\n",
    "\n",
    "np.random.shuffle(indices)"
   ]
  },
  {
   "cell_type": "code",
   "execution_count": 16,
   "id": "176ccaf5-ec45-4705-9b76-c79aadb2be2d",
   "metadata": {
    "execution": {
     "iopub.execute_input": "2024-12-05T06:23:46.135829Z",
     "iopub.status.busy": "2024-12-05T06:23:46.135583Z",
     "iopub.status.idle": "2024-12-05T06:23:46.910252Z",
     "shell.execute_reply": "2024-12-05T06:23:46.909224Z",
     "shell.execute_reply.started": "2024-12-05T06:23:46.135804Z"
    },
    "tags": []
   },
   "outputs": [],
   "source": [
    "X_t = X_t[indices]\n",
    "\n",
    "labels = y[indices]"
   ]
  },
  {
   "cell_type": "markdown",
   "id": "cca3b3d6-66e8-4e6e-b0ad-36feeddaf556",
   "metadata": {},
   "source": [
    "**Splitting the train set into train and validation set**"
   ]
  },
  {
   "cell_type": "code",
   "execution_count": 17,
   "id": "3afa2f84-2cea-4470-9a33-8690a55d0cfa",
   "metadata": {
    "execution": {
     "iopub.execute_input": "2024-12-05T06:23:46.912051Z",
     "iopub.status.busy": "2024-12-05T06:23:46.911722Z",
     "iopub.status.idle": "2024-12-05T06:23:46.916913Z",
     "shell.execute_reply": "2024-12-05T06:23:46.916101Z",
     "shell.execute_reply.started": "2024-12-05T06:23:46.912011Z"
    },
    "tags": []
   },
   "outputs": [],
   "source": [
    "num_validation_samples = int(0.1*X_t.shape[0])\n",
    "\n",
    "x_train = X_t[: -num_validation_samples]\n",
    "\n",
    "y_train = labels[: -num_validation_samples]\n",
    "\n",
    "x_val = X_t[-num_validation_samples: ]\n",
    "\n",
    "y_val = labels[-num_validation_samples: ]"
   ]
  },
  {
   "cell_type": "code",
   "execution_count": 18,
   "id": "7f6cadb3-04ef-47b6-b194-cb9919b62014",
   "metadata": {
    "execution": {
     "iopub.execute_input": "2024-12-05T06:23:46.918183Z",
     "iopub.status.busy": "2024-12-05T06:23:46.917946Z",
     "iopub.status.idle": "2024-12-05T06:23:46.963896Z",
     "shell.execute_reply": "2024-12-05T06:23:46.963086Z",
     "shell.execute_reply.started": "2024-12-05T06:23:46.918158Z"
    },
    "tags": []
   },
   "outputs": [
    {
     "name": "stdout",
     "output_type": "stream",
     "text": [
      "Number of entries in each category:\n",
      "training:  [167287.07053601   7459.65449701  22524.66422764  15152.66360899\n",
      " 131780.33927305  36696.50232994  10711.73198483]\n",
      "validation:  [18646.16372101   810.45652608  2521.94994614  1653.00805135\n",
      " 14690.12093377  4158.10711     1211.21806111]\n"
     ]
    }
   ],
   "source": [
    "print('Number of entries in each category:')\n",
    "\n",
    "print('training: ', y_train.sum(axis=0))\n",
    "\n",
    "print('validation: ', y_val.sum(axis=0))"
   ]
  },
  {
   "cell_type": "markdown",
   "id": "5a5ba54d-8116-4d8f-aa2c-90ebb2cdf033",
   "metadata": {},
   "source": [
    "**Converting training and validation data to PyTorch tensors**"
   ]
  },
  {
   "cell_type": "code",
   "execution_count": 19,
   "id": "f5000851-4ee7-4c31-83cb-a75aad68be41",
   "metadata": {
    "execution": {
     "iopub.execute_input": "2024-12-05T06:23:46.965596Z",
     "iopub.status.busy": "2024-12-05T06:23:46.964953Z",
     "iopub.status.idle": "2024-12-05T06:23:49.547739Z",
     "shell.execute_reply": "2024-12-05T06:23:49.546824Z",
     "shell.execute_reply.started": "2024-12-05T06:23:46.965555Z"
    }
   },
   "outputs": [],
   "source": [
    "import torch\n",
    "import torch.nn as nn\n",
    "\n",
    "x_train_tensor = torch.tensor(x_train, dtype=torch.long)\n",
    "y_train_tensor = torch.tensor(y_train, dtype=torch.float)\n",
    "x_val_tensor = torch.tensor(x_val, dtype=torch.long)\n",
    "y_val_tensor = torch.tensor(y_val, dtype=torch.float)"
   ]
  },
  {
   "cell_type": "markdown",
   "id": "6efbd1b6-2034-40e7-ae4d-b802ded27322",
   "metadata": {},
   "source": [
    "**Creating TensorDataset objects**"
   ]
  },
  {
   "cell_type": "code",
   "execution_count": 20,
   "id": "22e1c8ca-a628-42b6-b0fd-70ad42b3a3e1",
   "metadata": {
    "execution": {
     "iopub.execute_input": "2024-12-05T06:23:49.549334Z",
     "iopub.status.busy": "2024-12-05T06:23:49.549007Z",
     "iopub.status.idle": "2024-12-05T06:23:49.554156Z",
     "shell.execute_reply": "2024-12-05T06:23:49.553210Z",
     "shell.execute_reply.started": "2024-12-05T06:23:49.549300Z"
    }
   },
   "outputs": [],
   "source": [
    "from torch.utils.data import TensorDataset, DataLoader\n",
    "\n",
    "train_dataset = TensorDataset(x_train_tensor, y_train_tensor)\n",
    "val_dataset = TensorDataset(x_val_tensor, y_val_tensor)"
   ]
  },
  {
   "cell_type": "markdown",
   "id": "c5b1a3b4-9b33-4fff-a5d2-df1f1c1e8eab",
   "metadata": {},
   "source": [
    "**Creating Data Loaders**"
   ]
  },
  {
   "cell_type": "code",
   "execution_count": 21,
   "id": "ebca942a-6ef5-478b-ab10-0be6e5b31d14",
   "metadata": {
    "execution": {
     "iopub.execute_input": "2024-12-05T06:23:49.556136Z",
     "iopub.status.busy": "2024-12-05T06:23:49.555443Z",
     "iopub.status.idle": "2024-12-05T06:23:49.564642Z",
     "shell.execute_reply": "2024-12-05T06:23:49.563899Z",
     "shell.execute_reply.started": "2024-12-05T06:23:49.556098Z"
    }
   },
   "outputs": [],
   "source": [
    "batch_size = 64\n",
    "train_loader = DataLoader(train_dataset, batch_size=batch_size, shuffle=True)\n",
    "val_loader = DataLoader(val_dataset, batch_size=batch_size, shuffle=False)"
   ]
  },
  {
   "cell_type": "markdown",
   "id": "83697570-cec8-41ca-b7d1-b7b8b70570a0",
   "metadata": {},
   "source": [
    "**Fast Text Embeddings**"
   ]
  },
  {
   "cell_type": "code",
   "execution_count": 23,
   "id": "7dd985d2-c96c-4847-98d4-d6153d794b08",
   "metadata": {
    "execution": {
     "iopub.execute_input": "2024-12-05T06:24:10.470333Z",
     "iopub.status.busy": "2024-12-05T06:24:10.469960Z",
     "iopub.status.idle": "2024-12-05T06:25:58.933655Z",
     "shell.execute_reply": "2024-12-05T06:25:58.932917Z",
     "shell.execute_reply.started": "2024-12-05T06:24:10.470298Z"
    },
    "tags": []
   },
   "outputs": [],
   "source": [
    "embeddings_index_fasttext = {}\n",
    "\n",
    "f = open('/kaggle/input/fasttext-crawl-300d-2m/crawl-300d-2M.vec', encoding='utf8')\n",
    "\n",
    "for line in f:\n",
    "\n",
    "    values = line.split()\n",
    "\n",
    "    word = values[0]\n",
    "\n",
    "    embeddings_index_fasttext[word] = np.asarray(values[1:], dtype='float32')\n",
    "\n",
    "f.close()"
   ]
  },
  {
   "cell_type": "code",
   "execution_count": 24,
   "id": "b5322359-c08e-4e0d-9a5c-d2c13e440183",
   "metadata": {
    "execution": {
     "iopub.execute_input": "2024-12-05T06:26:02.278863Z",
     "iopub.status.busy": "2024-12-05T06:26:02.278481Z",
     "iopub.status.idle": "2024-12-05T06:26:03.858539Z",
     "shell.execute_reply": "2024-12-05T06:26:03.857662Z",
     "shell.execute_reply.started": "2024-12-05T06:26:02.278814Z"
    },
    "tags": []
   },
   "outputs": [
    {
     "name": "stdout",
     "output_type": "stream",
     "text": [
      " Completed!\n"
     ]
    }
   ],
   "source": [
    "embedding_matrix_fasttext = np.random.random((len(word_index) + 1, embedding_dim))\n",
    "\n",
    "for word, i in word_index.items():\n",
    "\n",
    "    embedding_vector = embeddings_index_fasttext.get(word)\n",
    "\n",
    "    if embedding_vector is not None:\n",
    "\n",
    "        embedding_matrix_fasttext[i] = embedding_vector\n",
    "\n",
    "print(\" Completed!\")"
   ]
  },
  {
   "cell_type": "code",
   "execution_count": 25,
   "id": "c2f652ac-1104-4449-a68e-787142abd213",
   "metadata": {
    "execution": {
     "iopub.execute_input": "2024-12-05T06:26:05.705151Z",
     "iopub.status.busy": "2024-12-05T06:26:05.704765Z",
     "iopub.status.idle": "2024-12-05T06:26:17.087424Z",
     "shell.execute_reply": "2024-12-05T06:26:17.086446Z",
     "shell.execute_reply.started": "2024-12-05T06:26:05.705115Z"
    }
   },
   "outputs": [],
   "source": [
    "import torch\n",
    "import torch.nn as nn\n",
    "import torch.optim as optim\n",
    "import numpy as np\n",
    "import gensim.downloader as api\n",
    "from sklearn.metrics import accuracy_score, classification_report"
   ]
  },
  {
   "cell_type": "markdown",
   "id": "4a465cff-2e5e-422d-b562-38772bef6e1e",
   "metadata": {},
   "source": [
    "**BiLSTM Model Architecure**"
   ]
  },
  {
   "cell_type": "code",
   "execution_count": 26,
   "id": "8688971c-d12e-4ef0-b3a7-dae16c69cb3d",
   "metadata": {
    "execution": {
     "iopub.execute_input": "2024-12-05T06:26:18.826676Z",
     "iopub.status.busy": "2024-12-05T06:26:18.825458Z",
     "iopub.status.idle": "2024-12-05T06:26:18.835350Z",
     "shell.execute_reply": "2024-12-05T06:26:18.834391Z",
     "shell.execute_reply.started": "2024-12-05T06:26:18.826634Z"
    }
   },
   "outputs": [],
   "source": [
    "class BiLSTMMultiLabelModel(nn.Module):\n",
    "    def __init__(self, vocab_size, embedding_dim, lstm_units, num_classes, \n",
    "                 embedding_weights=None, dropout_rate=0.1):\n",
    "        super(BiLSTMMultiLabelModel, self).__init__()\n",
    "\n",
    "        if embedding_weights is not None:\n",
    "            self.embedding = nn.Embedding.from_pretrained(\n",
    "                torch.FloatTensor(embedding_weights), \n",
    "                padding_idx=0, \n",
    "                freeze=False\n",
    "            )\n",
    "        else:\n",
    "            self.embedding = nn.Embedding(vocab_size, embedding_dim, padding_idx=0)\n",
    "\n",
    "        self.bilstm = nn.LSTM(\n",
    "            input_size=embedding_dim, \n",
    "            hidden_size=lstm_units, \n",
    "            num_layers=1, \n",
    "            bidirectional=True,\n",
    "            batch_first=True\n",
    "        )\n",
    "\n",
    "        lstm_output_dim = lstm_units * 2\n",
    "        \n",
    "\n",
    "        self.classifier = nn.Sequential(\n",
    "            # Global Max Pooling is handled in forward method\n",
    "            nn.Linear(lstm_output_dim, 75),\n",
    "            nn.ReLU(),\n",
    "            nn.Dropout(dropout_rate),\n",
    "            nn.Linear(75, num_classes),\n",
    "            nn.Sigmoid()  #for multi-label probability output\n",
    "        )\n",
    "        \n",
    "    def forward(self, x):\n",
    "        embedded = self.embedding(x)\n",
    "\n",
    "        lstm_out, _ = self.bilstm(embedded)\n",
    "\n",
    "        if self.bilstm.bidirectional:\n",
    "            # Split forward and backward outputs\n",
    "            forward = lstm_out[:, :, :self.bilstm.hidden_size]\n",
    "            backward = lstm_out[:, :, self.bilstm.hidden_size:]\n",
    "            \n",
    "            # Concatenate forward and backward\n",
    "            lstm_out = torch.cat((forward, backward), dim=-1)\n",
    "        \n",
    "        # Global Max Pooling\n",
    "        pooled, _ = torch.max(lstm_out, dim=1)\n",
    "\n",
    "        output = self.classifier(pooled)\n",
    "        \n",
    "        return output"
   ]
  },
  {
   "cell_type": "markdown",
   "id": "0b8bbc39-a203-4496-8b5a-393d075037c7",
   "metadata": {},
   "source": [
    "**Model Training and Validation Phase**"
   ]
  },
  {
   "cell_type": "code",
   "execution_count": 42,
   "id": "b26deb73-6714-44b0-910f-d40bf6364373",
   "metadata": {
    "execution": {
     "iopub.execute_input": "2024-12-05T07:33:52.972507Z",
     "iopub.status.busy": "2024-12-05T07:33:52.971732Z",
     "iopub.status.idle": "2024-12-05T07:33:52.984726Z",
     "shell.execute_reply": "2024-12-05T07:33:52.983932Z",
     "shell.execute_reply.started": "2024-12-05T07:33:52.972468Z"
    }
   },
   "outputs": [],
   "source": [
    "import tqdm\n",
    "import torch\n",
    "import torch.nn.functional as F\n",
    "\n",
    "def train_model(model, train_loader, val_loader, criterion, optimizer, \n",
    "                device, num_epochs=10):\n",
    "    training_metrics = {\n",
    "        'train_loss': [],\n",
    "        'train_accuracy': [],\n",
    "        'val_loss': [],\n",
    "        'val_accuracy': []\n",
    "    }\n",
    "    \n",
    "    for epoch in range(num_epochs):\n",
    "        model.train()\n",
    "        train_loss = 0.0\n",
    "        train_correct = 0\n",
    "        train_total = 0\n",
    "        \n",
    "        with tqdm.tqdm(train_loader, desc=f\"Epoch {epoch + 1} Train\", leave=False) as tepoch:\n",
    "            for batch_x, batch_y in tepoch:\n",
    "                batch_x, batch_y = batch_x.to(device), batch_y.to(device)\n",
    "                \n",
    "                optimizer.zero_grad()\n",
    "\n",
    "                outputs = model(batch_x)\n",
    "                loss = criterion(outputs, batch_y)  # BCE loss\n",
    "                \n",
    "                loss.backward()\n",
    "                optimizer.step()\n",
    "                \n",
    "                train_loss += loss.item()\n",
    "\n",
    "                predicted = (torch.sigmoid(outputs) > 0.5).float()\n",
    "\n",
    "                train_correct += (predicted == batch_y).float().sum().item()\n",
    "                train_total += batch_y.numel()\n",
    "\n",
    "                tepoch.set_postfix({\n",
    "                    'Loss': f'{loss.item():.4f}',\n",
    "                    'Acc': f'{(train_correct/train_total)*100:.2f}%'\n",
    "                })\n",
    "\n",
    "        model.eval()\n",
    "        val_loss = 0.0\n",
    "        val_correct = 0\n",
    "        val_total = 0\n",
    "        \n",
    "        with torch.no_grad():\n",
    "            with tqdm.tqdm(val_loader, desc=f\"Epoch {epoch + 1} Validation\", leave=False) as tepoch:\n",
    "                for batch_x, batch_y in tepoch:\n",
    "                    batch_x, batch_y = batch_x.to(device), batch_y.to(device)\n",
    "                    \n",
    "                    # Forward pass\n",
    "                    outputs = model(batch_x)\n",
    "                    loss = criterion(outputs, batch_y)  \n",
    "                    \n",
    "                    val_loss += loss.item()\n",
    "s\n",
    "                    predicted = (torch.sigmoid(outputs) > 0.5).float()\n",
    "\n",
    "                    val_correct += (predicted == batch_y).float().sum().item()\n",
    "                    val_total += batch_y.numel()\n",
    "\n",
    "                    tepoch.set_postfix({\n",
    "                        'Loss': f'{loss.item():.4f}',\n",
    "                        'Acc': f'{(val_correct/val_total)*100:.2f}%'\n",
    "                    })\n",
    "        \n",
    "        train_epoch_loss = train_loss / len(train_loader)\n",
    "        train_epoch_accuracy = 100 * train_correct / train_total\n",
    "        val_epoch_loss = val_loss / len(val_loader)\n",
    "        val_epoch_accuracy = 100 * val_correct / val_total\n",
    "\n",
    "        training_metrics['train_loss'].append(train_epoch_loss)\n",
    "        training_metrics['train_accuracy'].append(train_epoch_accuracy)\n",
    "        training_metrics['val_loss'].append(val_epoch_loss)\n",
    "        training_metrics['val_accuracy'].append(val_epoch_accuracy)\n",
    "\n",
    "        print(f\"Epoch {epoch + 1}: Train Loss: {train_epoch_loss:.4f}, \"\n",
    "                   f\"Train Acc: {train_epoch_accuracy:.2f}%, \"\n",
    "                   f\"Val Loss: {val_epoch_loss:.4f}, \"\n",
    "                   f\"Val Acc: {val_epoch_accuracy:.2f}%\")\n",
    "    \n",
    "    return training_metrics"
   ]
  },
  {
   "cell_type": "markdown",
   "id": "ecce1f76-a7b1-40bb-b3ff-dcf2782f29a5",
   "metadata": {},
   "source": [
    "**Defining the parameters for Model Training**"
   ]
  },
  {
   "cell_type": "code",
   "execution_count": 29,
   "id": "357131bc-d85a-494e-8617-763edfe1b548",
   "metadata": {
    "execution": {
     "iopub.execute_input": "2024-12-05T06:26:42.717701Z",
     "iopub.status.busy": "2024-12-05T06:26:42.717044Z",
     "iopub.status.idle": "2024-12-05T06:26:42.721672Z",
     "shell.execute_reply": "2024-12-05T06:26:42.720696Z",
     "shell.execute_reply.started": "2024-12-05T06:26:42.717662Z"
    }
   },
   "outputs": [],
   "source": [
    "lstm_units = 100  \n",
    "num_classes = 7  \n",
    "batch_size = 64\n",
    "learning_rate = 0.001\n",
    "num_epochs = 10"
   ]
  },
  {
   "cell_type": "markdown",
   "id": "117c4781-f2d4-41d6-b183-d4da67fda0c0",
   "metadata": {},
   "source": [
    "**Device Mode. Cuda if available**"
   ]
  },
  {
   "cell_type": "code",
   "execution_count": 30,
   "id": "f15af907-20c5-4f76-a5ac-feade99ba305",
   "metadata": {
    "execution": {
     "iopub.execute_input": "2024-12-05T06:26:44.605787Z",
     "iopub.status.busy": "2024-12-05T06:26:44.604934Z",
     "iopub.status.idle": "2024-12-05T06:26:44.644069Z",
     "shell.execute_reply": "2024-12-05T06:26:44.643108Z",
     "shell.execute_reply.started": "2024-12-05T06:26:44.605746Z"
    }
   },
   "outputs": [
    {
     "name": "stdout",
     "output_type": "stream",
     "text": [
      "Using device: cuda\n"
     ]
    }
   ],
   "source": [
    "device = torch.device('cuda' if torch.cuda.is_available() else 'cpu')\n",
    "print(f\"Using device: {device}\")"
   ]
  },
  {
   "cell_type": "markdown",
   "id": "38c500bb-7c12-437b-84dd-0148e216df83",
   "metadata": {},
   "source": [
    "**Model Compilation**"
   ]
  },
  {
   "cell_type": "code",
   "execution_count": 31,
   "id": "052659df-7fcc-4e11-ae36-f6fcdad28812",
   "metadata": {
    "execution": {
     "iopub.execute_input": "2024-12-05T06:26:46.081824Z",
     "iopub.status.busy": "2024-12-05T06:26:46.081476Z",
     "iopub.status.idle": "2024-12-05T06:26:46.688208Z",
     "shell.execute_reply": "2024-12-05T06:26:46.687229Z",
     "shell.execute_reply.started": "2024-12-05T06:26:46.081790Z"
    }
   },
   "outputs": [],
   "source": [
    "model = BiLSTMMultiLabelModel(\n",
    "        vocab_size=len(word_index) + 1,\n",
    "        embedding_dim=embedding_dim, \n",
    "        lstm_units=lstm_units, \n",
    "        num_classes=num_classes,\n",
    "        embedding_weights=embedding_matrix_fasttext,\n",
    "        dropout_rate=0.1\n",
    "    ).to(device)"
   ]
  },
  {
   "cell_type": "markdown",
   "id": "6b63608b-b066-4452-b387-f0c73b2ff67b",
   "metadata": {},
   "source": [
    "**Defining optimizer and Loss function**"
   ]
  },
  {
   "cell_type": "code",
   "execution_count": 40,
   "id": "69aaa319-2b64-46d1-a28d-afcc255646ca",
   "metadata": {
    "execution": {
     "iopub.execute_input": "2024-12-05T07:16:04.290927Z",
     "iopub.status.busy": "2024-12-05T07:16:04.290549Z",
     "iopub.status.idle": "2024-12-05T07:16:04.295308Z",
     "shell.execute_reply": "2024-12-05T07:16:04.294269Z",
     "shell.execute_reply.started": "2024-12-05T07:16:04.290887Z"
    }
   },
   "outputs": [],
   "source": [
    "criterion = nn.BCEWithLogitsLoss()\n",
    "optimizer = optim.Adam(model.parameters(), lr=learning_rate)"
   ]
  },
  {
   "cell_type": "markdown",
   "id": "dc721da6-67f7-4d06-964a-2ecccbc6ea2f",
   "metadata": {},
   "source": [
    "**Model Training Starts**"
   ]
  },
  {
   "cell_type": "code",
   "execution_count": 43,
   "id": "1d65bd3b-1f54-4f81-98dd-d05293183b0c",
   "metadata": {
    "execution": {
     "iopub.execute_input": "2024-12-05T07:34:00.281664Z",
     "iopub.status.busy": "2024-12-05T07:34:00.280724Z",
     "iopub.status.idle": "2024-12-05T10:20:59.391462Z",
     "shell.execute_reply": "2024-12-05T10:20:59.390617Z",
     "shell.execute_reply.started": "2024-12-05T07:34:00.281622Z"
    }
   },
   "outputs": [
    {
     "name": "stderr",
     "output_type": "stream",
     "text": [
      "                                                                                                 \r"
     ]
    },
    {
     "name": "stdout",
     "output_type": "stream",
     "text": [
      "Epoch 1: Train Loss: 0.7667, Train Acc: 76.68%, Val Loss: 0.7667, Val Acc: 76.94%\n"
     ]
    },
    {
     "name": "stderr",
     "output_type": "stream",
     "text": [
      "                                                                                                 \r"
     ]
    },
    {
     "name": "stdout",
     "output_type": "stream",
     "text": [
      "Epoch 2: Train Loss: 0.7364, Train Acc: 80.11%, Val Loss: 0.6925, Val Acc: 86.69%\n"
     ]
    },
    {
     "name": "stderr",
     "output_type": "stream",
     "text": [
      "                                                                                                 \r"
     ]
    },
    {
     "name": "stdout",
     "output_type": "stream",
     "text": [
      "Epoch 3: Train Loss: 0.6924, Train Acc: 86.22%, Val Loss: 0.6925, Val Acc: 86.67%\n"
     ]
    },
    {
     "name": "stderr",
     "output_type": "stream",
     "text": [
      "                                                                                                 \r"
     ]
    },
    {
     "name": "stdout",
     "output_type": "stream",
     "text": [
      "Epoch 4: Train Loss: 0.6924, Train Acc: 86.67%, Val Loss: 0.6925, Val Acc: 86.89%\n"
     ]
    },
    {
     "name": "stderr",
     "output_type": "stream",
     "text": [
      "                                                                                                 \r"
     ]
    },
    {
     "name": "stdout",
     "output_type": "stream",
     "text": [
      "Epoch 5: Train Loss: 0.6923, Train Acc: 86.73%, Val Loss: 0.6925, Val Acc: 86.75%\n"
     ]
    },
    {
     "name": "stderr",
     "output_type": "stream",
     "text": [
      "Epoch 6 Train:  70%|███████   | 17800/25382 [11:27<04:53, 25.84it/s, Loss=0.6931, Acc=86.77%]IOPub message rate exceeded.\n",
      "The notebook server will temporarily stop sending output\n",
      "to the client in order to avoid crashing it.\n",
      "To change this limit, set the config variable\n",
      "`--NotebookApp.iopub_msg_rate_limit`.\n",
      "\n",
      "Current values:\n",
      "NotebookApp.iopub_msg_rate_limit=1000.0 (msgs/sec)\n",
      "NotebookApp.rate_limit_window=3.0 (secs)\n",
      "\n",
      "Epoch 6 Train:  90%|█████████ | 22867/25382 [14:43<01:36, 25.97it/s, Loss=0.6932, Acc=86.78%]IOPub message rate exceeded.\n",
      "The notebook server will temporarily stop sending output\n",
      "to the client in order to avoid crashing it.\n",
      "To change this limit, set the config variable\n",
      "`--NotebookApp.iopub_msg_rate_limit`.\n",
      "\n",
      "Current values:\n",
      "NotebookApp.iopub_msg_rate_limit=1000.0 (msgs/sec)\n",
      "NotebookApp.rate_limit_window=3.0 (secs)\n",
      "\n",
      "                                                                                                 \r"
     ]
    },
    {
     "name": "stdout",
     "output_type": "stream",
     "text": [
      "Epoch 6: Train Loss: 0.6923, Train Acc: 86.79%, Val Loss: 0.6925, Val Acc: 86.89%\n"
     ]
    },
    {
     "name": "stderr",
     "output_type": "stream",
     "text": [
      "Epoch 7 Train:   7%|▋         | 1879/25382 [01:12<15:08, 25.87it/s, Loss=0.6908, Acc=86.86%]IOPub message rate exceeded.\n",
      "The notebook server will temporarily stop sending output\n",
      "to the client in order to avoid crashing it.\n",
      "To change this limit, set the config variable\n",
      "`--NotebookApp.iopub_msg_rate_limit`.\n",
      "\n",
      "Current values:\n",
      "NotebookApp.iopub_msg_rate_limit=1000.0 (msgs/sec)\n",
      "NotebookApp.rate_limit_window=3.0 (secs)\n",
      "\n",
      "Epoch 7 Train:  29%|██▉       | 7339/25382 [04:43<11:36, 25.92it/s, Loss=0.6920, Acc=86.78%]IOPub message rate exceeded.\n",
      "The notebook server will temporarily stop sending output\n",
      "to the client in order to avoid crashing it.\n",
      "To change this limit, set the config variable\n",
      "`--NotebookApp.iopub_msg_rate_limit`.\n",
      "\n",
      "Current values:\n",
      "NotebookApp.iopub_msg_rate_limit=1000.0 (msgs/sec)\n",
      "NotebookApp.rate_limit_window=3.0 (secs)\n",
      "\n",
      "Epoch 7 Train:  49%|████▊     | 12331/25382 [07:56<08:23, 25.93it/s, Loss=0.6922, Acc=86.80%]IOPub message rate exceeded.\n",
      "The notebook server will temporarily stop sending output\n",
      "to the client in order to avoid crashing it.\n",
      "To change this limit, set the config variable\n",
      "`--NotebookApp.iopub_msg_rate_limit`.\n",
      "\n",
      "Current values:\n",
      "NotebookApp.iopub_msg_rate_limit=1000.0 (msgs/sec)\n",
      "NotebookApp.rate_limit_window=3.0 (secs)\n",
      "\n",
      "Epoch 7 Train:  70%|███████   | 17875/25382 [11:30<04:48, 25.99it/s, Loss=0.6926, Acc=86.80%]IOPub message rate exceeded.\n",
      "The notebook server will temporarily stop sending output\n",
      "to the client in order to avoid crashing it.\n",
      "To change this limit, set the config variable\n",
      "`--NotebookApp.iopub_msg_rate_limit`.\n",
      "\n",
      "Current values:\n",
      "NotebookApp.iopub_msg_rate_limit=1000.0 (msgs/sec)\n",
      "NotebookApp.rate_limit_window=3.0 (secs)\n",
      "\n",
      "Epoch 7 Train:  93%|█████████▎| 23533/25382 [15:08<01:11, 25.91it/s, Loss=0.6924, Acc=86.80%]IOPub message rate exceeded.\n",
      "The notebook server will temporarily stop sending output\n",
      "to the client in order to avoid crashing it.\n",
      "To change this limit, set the config variable\n",
      "`--NotebookApp.iopub_msg_rate_limit`.\n",
      "\n",
      "Current values:\n",
      "NotebookApp.iopub_msg_rate_limit=1000.0 (msgs/sec)\n",
      "NotebookApp.rate_limit_window=3.0 (secs)\n",
      "\n",
      "Epoch 8 Train:  11%|█▏        | 2911/25382 [01:52<14:26, 25.93it/s, Loss=0.6923, Acc=86.85%]]IOPub message rate exceeded.\n",
      "The notebook server will temporarily stop sending output\n",
      "to the client in order to avoid crashing it.\n",
      "To change this limit, set the config variable\n",
      "`--NotebookApp.iopub_msg_rate_limit`.\n",
      "\n",
      "Current values:\n",
      "NotebookApp.iopub_msg_rate_limit=1000.0 (msgs/sec)\n",
      "NotebookApp.rate_limit_window=3.0 (secs)\n",
      "\n",
      "Epoch 8 Train:  32%|███▏      | 8230/25382 [05:17<11:03, 25.85it/s, Loss=0.6930, Acc=86.84%]IOPub message rate exceeded.\n",
      "The notebook server will temporarily stop sending output\n",
      "to the client in order to avoid crashing it.\n",
      "To change this limit, set the config variable\n",
      "`--NotebookApp.iopub_msg_rate_limit`.\n",
      "\n",
      "Current values:\n",
      "NotebookApp.iopub_msg_rate_limit=1000.0 (msgs/sec)\n",
      "NotebookApp.rate_limit_window=3.0 (secs)\n",
      "\n",
      "Epoch 8 Train:  55%|█████▍    | 13870/25382 [08:55<07:24, 25.89it/s, Loss=0.6940, Acc=86.83%]IOPub message rate exceeded.\n",
      "The notebook server will temporarily stop sending output\n",
      "to the client in order to avoid crashing it.\n",
      "To change this limit, set the config variable\n",
      "`--NotebookApp.iopub_msg_rate_limit`.\n",
      "\n",
      "Current values:\n",
      "NotebookApp.iopub_msg_rate_limit=1000.0 (msgs/sec)\n",
      "NotebookApp.rate_limit_window=3.0 (secs)\n",
      "\n",
      "Epoch 8 Train:  82%|████████▏ | 20740/25382 [13:20<02:58, 25.96it/s, Loss=0.6912, Acc=86.83%]IOPub message rate exceeded.\n",
      "The notebook server will temporarily stop sending output\n",
      "to the client in order to avoid crashing it.\n",
      "To change this limit, set the config variable\n",
      "`--NotebookApp.iopub_msg_rate_limit`.\n",
      "\n",
      "Current values:\n",
      "NotebookApp.iopub_msg_rate_limit=1000.0 (msgs/sec)\n",
      "NotebookApp.rate_limit_window=3.0 (secs)\n",
      "\n",
      "Epoch 9 Train:  11%|█         | 2737/25382 [01:45<14:32, 25.96it/s, Loss=0.6931, Acc=86.85%]]IOPub message rate exceeded.\n",
      "The notebook server will temporarily stop sending output\n",
      "to the client in order to avoid crashing it.\n",
      "To change this limit, set the config variable\n",
      "`--NotebookApp.iopub_msg_rate_limit`.\n",
      "\n",
      "Current values:\n",
      "NotebookApp.iopub_msg_rate_limit=1000.0 (msgs/sec)\n",
      "NotebookApp.rate_limit_window=3.0 (secs)\n",
      "\n",
      "Epoch 9 Train:  34%|███▍      | 8677/25382 [05:35<10:46, 25.85it/s, Loss=0.6926, Acc=86.89%]IOPub message rate exceeded.\n",
      "The notebook server will temporarily stop sending output\n",
      "to the client in order to avoid crashing it.\n",
      "To change this limit, set the config variable\n",
      "`--NotebookApp.iopub_msg_rate_limit`.\n",
      "\n",
      "Current values:\n",
      "NotebookApp.iopub_msg_rate_limit=1000.0 (msgs/sec)\n",
      "NotebookApp.rate_limit_window=3.0 (secs)\n",
      "\n",
      "Epoch 9 Train:  60%|██████    | 15331/25382 [09:52<06:28, 25.86it/s, Loss=0.6926, Acc=86.87%]IOPub message rate exceeded.\n",
      "The notebook server will temporarily stop sending output\n",
      "to the client in order to avoid crashing it.\n",
      "To change this limit, set the config variable\n",
      "`--NotebookApp.iopub_msg_rate_limit`.\n",
      "\n",
      "Current values:\n",
      "NotebookApp.iopub_msg_rate_limit=1000.0 (msgs/sec)\n",
      "NotebookApp.rate_limit_window=3.0 (secs)\n",
      "\n",
      "Epoch 9 Train:  86%|████████▌ | 21769/25382 [14:01<02:21, 25.45it/s, Loss=0.6917, Acc=86.88%]IOPub message rate exceeded.\n",
      "The notebook server will temporarily stop sending output\n",
      "to the client in order to avoid crashing it.\n",
      "To change this limit, set the config variable\n",
      "`--NotebookApp.iopub_msg_rate_limit`.\n",
      "\n",
      "Current values:\n",
      "NotebookApp.iopub_msg_rate_limit=1000.0 (msgs/sec)\n",
      "NotebookApp.rate_limit_window=3.0 (secs)\n",
      "\n",
      "                                                                                                 \r"
     ]
    },
    {
     "name": "stdout",
     "output_type": "stream",
     "text": [
      "Epoch 9: Train Loss: 0.6922, Train Acc: 86.87%, Val Loss: 0.6925, Val Acc: 86.88%\n"
     ]
    },
    {
     "name": "stderr",
     "output_type": "stream",
     "text": [
      "Epoch 10 Train:   0%|          | 112/25382 [00:04<16:35, 25.38it/s, Loss=0.6926, Acc=87.00%]IOPub message rate exceeded.\n",
      "The notebook server will temporarily stop sending output\n",
      "to the client in order to avoid crashing it.\n",
      "To change this limit, set the config variable\n",
      "`--NotebookApp.iopub_msg_rate_limit`.\n",
      "\n",
      "Current values:\n",
      "NotebookApp.iopub_msg_rate_limit=1000.0 (msgs/sec)\n",
      "NotebookApp.rate_limit_window=3.0 (secs)\n",
      "\n",
      "Epoch 10 Train:  29%|██▉       | 7477/25382 [04:52<11:39, 25.60it/s, Loss=0.6904, Acc=86.86%]IOPub message rate exceeded.\n",
      "The notebook server will temporarily stop sending output\n",
      "to the client in order to avoid crashing it.\n",
      "To change this limit, set the config variable\n",
      "`--NotebookApp.iopub_msg_rate_limit`.\n",
      "\n",
      "Current values:\n",
      "NotebookApp.iopub_msg_rate_limit=1000.0 (msgs/sec)\n",
      "NotebookApp.rate_limit_window=3.0 (secs)\n",
      "\n",
      "Epoch 10 Train:  53%|█████▎    | 13492/25382 [08:48<07:46, 25.50it/s, Loss=0.6933, Acc=86.88%]IOPub message rate exceeded.\n",
      "The notebook server will temporarily stop sending output\n",
      "to the client in order to avoid crashing it.\n",
      "To change this limit, set the config variable\n",
      "`--NotebookApp.iopub_msg_rate_limit`.\n",
      "\n",
      "Current values:\n",
      "NotebookApp.iopub_msg_rate_limit=1000.0 (msgs/sec)\n",
      "NotebookApp.rate_limit_window=3.0 (secs)\n",
      "\n",
      "Epoch 10 Train:  77%|███████▋  | 19528/25382 [12:44<03:49, 25.49it/s, Loss=0.6924, Acc=86.87%]IOPub message rate exceeded.\n",
      "The notebook server will temporarily stop sending output\n",
      "to the client in order to avoid crashing it.\n",
      "To change this limit, set the config variable\n",
      "`--NotebookApp.iopub_msg_rate_limit`.\n",
      "\n",
      "Current values:\n",
      "NotebookApp.iopub_msg_rate_limit=1000.0 (msgs/sec)\n",
      "NotebookApp.rate_limit_window=3.0 (secs)\n",
      "\n",
      "Epoch 10 Validation:  36%|███▌      | 1020/2821 [00:07<00:12, 144.54it/s, Loss=0.6924, Acc=86.78%]IOPub message rate exceeded.\n",
      "The notebook server will temporarily stop sending output\n",
      "to the client in order to avoid crashing it.\n",
      "To change this limit, set the config variable\n",
      "`--NotebookApp.iopub_msg_rate_limit`.\n",
      "\n",
      "Current values:\n",
      "NotebookApp.iopub_msg_rate_limit=1000.0 (msgs/sec)\n",
      "NotebookApp.rate_limit_window=3.0 (secs)\n",
      "\n"
     ]
    }
   ],
   "source": [
    "training_metrics = train_model(\n",
    "        model, train_loader, val_loader, \n",
    "        criterion, optimizer, device, \n",
    "        num_epochs=num_epochs\n",
    "    )"
   ]
  },
  {
   "cell_type": "markdown",
   "id": "75e5c111-09a0-4a23-ae2f-3370047d01d5",
   "metadata": {},
   "source": [
    "We see that for both training and validation the accuracy has increased with the epochs. The highest increase we observed till epoch 3, and then it increased with minor updates."
   ]
  },
  {
   "cell_type": "markdown",
   "id": "73ee52dc-4998-4998-9a7d-e24bfcb66dab",
   "metadata": {},
   "source": [
    "**Saving the model**"
   ]
  },
  {
   "cell_type": "code",
   "execution_count": 44,
   "id": "30c44599-76a3-4ccc-b743-2a9c61c55ec5",
   "metadata": {
    "execution": {
     "iopub.execute_input": "2024-12-05T10:26:11.111068Z",
     "iopub.status.busy": "2024-12-05T10:26:11.110176Z",
     "iopub.status.idle": "2024-12-05T10:26:12.336208Z",
     "shell.execute_reply": "2024-12-05T10:26:12.335437Z",
     "shell.execute_reply.started": "2024-12-05T10:26:11.111030Z"
    }
   },
   "outputs": [],
   "source": [
    "torch.save(model, 'model_full.pth')"
   ]
  },
  {
   "cell_type": "markdown",
   "id": "f9ba8b2b-5401-49a9-ae55-1b13595b1171",
   "metadata": {},
   "source": [
    "**Converting Test Dataset to pytorch tensors, Dataset creation and Creating a Data Loader. Preparing Test set for evaluation**"
   ]
  },
  {
   "cell_type": "code",
   "execution_count": 52,
   "id": "5d2ac8ff-53e5-4db7-befb-049875c4cb04",
   "metadata": {
    "execution": {
     "iopub.execute_input": "2024-12-05T10:35:04.544443Z",
     "iopub.status.busy": "2024-12-05T10:35:04.543744Z",
     "iopub.status.idle": "2024-12-05T10:35:04.630641Z",
     "shell.execute_reply": "2024-12-05T10:35:04.629823Z",
     "shell.execute_reply.started": "2024-12-05T10:35:04.544407Z"
    }
   },
   "outputs": [],
   "source": [
    "x_test_tensor = torch.tensor(X_te, dtype=torch.long)\n",
    "test_dataset = TensorDataset(x_test_tensor)\n",
    "test_loader = DataLoader(test_dataset, batch_size=batch_size, shuffle=False)"
   ]
  },
  {
   "cell_type": "markdown",
   "id": "62f5d1ed-b946-4cf4-ae8a-0f9c71c6e354",
   "metadata": {},
   "source": [
    "**Evaluating Trained Model on Test Set**"
   ]
  },
  {
   "cell_type": "code",
   "execution_count": 62,
   "id": "2ada7418-d8bd-4638-ba41-3f7e640acb06",
   "metadata": {
    "execution": {
     "iopub.execute_input": "2024-12-05T10:44:20.219505Z",
     "iopub.status.busy": "2024-12-05T10:44:20.218670Z",
     "iopub.status.idle": "2024-12-05T10:44:28.640313Z",
     "shell.execute_reply": "2024-12-05T10:44:28.639595Z",
     "shell.execute_reply.started": "2024-12-05T10:44:20.219464Z"
    }
   },
   "outputs": [],
   "source": [
    "model.eval()\n",
    "predictions = []\n",
    "probabilities = []\n",
    "with torch.no_grad():\n",
    "    for batch in test_loader:\n",
    "        inputs = batch[0].to(device)\n",
    "        outputs = model(inputs)\n",
    "        preds = torch.argmax(outputs, dim=1)\n",
    "        predictions.extend(preds.tolist())\n",
    "        probabilities.extend(outputs.tolist())"
   ]
  },
  {
   "cell_type": "code",
   "execution_count": 63,
   "id": "59a43aa4-e2d2-499a-a4ff-714ce46f4950",
   "metadata": {
    "execution": {
     "iopub.execute_input": "2024-12-05T10:45:01.790093Z",
     "iopub.status.busy": "2024-12-05T10:45:01.789369Z",
     "iopub.status.idle": "2024-12-05T10:45:01.853404Z",
     "shell.execute_reply": "2024-12-05T10:45:01.852656Z",
     "shell.execute_reply.started": "2024-12-05T10:45:01.790057Z"
    }
   },
   "outputs": [],
   "source": [
    "labels = ['toxicity', 'severe_toxicity', 'obscene', 'threat', 'insult', 'identity_attack', 'sexual_explicit']\n",
    "df = pd.DataFrame(probabilities, columns=labels)"
   ]
  },
  {
   "cell_type": "markdown",
   "id": "e7cb50f5-ab99-4e1a-8a76-7a8ca65f3be6",
   "metadata": {},
   "source": [
    "**converting probabilities to binary labels**"
   ]
  },
  {
   "cell_type": "code",
   "execution_count": 65,
   "id": "c6ca3bc6-f7e3-4200-80e1-4312910598b0",
   "metadata": {
    "execution": {
     "iopub.execute_input": "2024-12-05T10:46:04.655451Z",
     "iopub.status.busy": "2024-12-05T10:46:04.654817Z",
     "iopub.status.idle": "2024-12-05T10:46:04.895312Z",
     "shell.execute_reply": "2024-12-05T10:46:04.894462Z",
     "shell.execute_reply.started": "2024-12-05T10:46:04.655414Z"
    }
   },
   "outputs": [
    {
     "name": "stdout",
     "output_type": "stream",
     "text": [
      "       toxicity  severe_toxicity  obscene  threat  insult  identity_attack  \\\n",
      "0             0                0        0       0       0                0   \n",
      "1             0                0        0       0       0                0   \n",
      "2             0                0        0       0       0                0   \n",
      "3             0                0        0       0       0                0   \n",
      "4             0                0        0       0       0                0   \n",
      "...         ...              ...      ...     ...     ...              ...   \n",
      "97315         0                0        0       0       0                0   \n",
      "97316         0                0        0       0       0                0   \n",
      "97317         0                0        0       0       0                0   \n",
      "97318         0                0        0       0       0                0   \n",
      "97319         0                0        0       0       0                0   \n",
      "\n",
      "       sexual_explicit  \n",
      "0                    0  \n",
      "1                    0  \n",
      "2                    0  \n",
      "3                    0  \n",
      "4                    0  \n",
      "...                ...  \n",
      "97315                0  \n",
      "97316                0  \n",
      "97317                0  \n",
      "97318                0  \n",
      "97319                0  \n",
      "\n",
      "[97320 rows x 7 columns]\n"
     ]
    },
    {
     "name": "stderr",
     "output_type": "stream",
     "text": [
      "/tmp/ipykernel_123/3541504350.py:3: FutureWarning: DataFrame.applymap has been deprecated. Use DataFrame.map instead.\n",
      "  binary_df = df.applymap(lambda x: 1 if x > threshold else 0)\n"
     ]
    }
   ],
   "source": [
    "threshold = 0.5\n",
    "binary_df = df.applymap(lambda x: 1 if x > threshold else 0)\n",
    "\n",
    "print(binary_df)"
   ]
  },
  {
   "cell_type": "code",
   "execution_count": 68,
   "id": "4e1c77c6-5c9a-4f6e-97b4-aef7a4045077",
   "metadata": {
    "execution": {
     "iopub.execute_input": "2024-12-05T10:47:19.360241Z",
     "iopub.status.busy": "2024-12-05T10:47:19.359841Z",
     "iopub.status.idle": "2024-12-05T10:47:20.085541Z",
     "shell.execute_reply": "2024-12-05T10:47:20.084389Z",
     "shell.execute_reply.started": "2024-12-05T10:47:19.360207Z"
    }
   },
   "outputs": [],
   "source": [
    "test=pd.read_csv('/kaggle/input/toxicity-classification/test.csv')"
   ]
  },
  {
   "cell_type": "code",
   "execution_count": 69,
   "id": "9cdcd4f9-75a2-4e71-bc92-c985127c857b",
   "metadata": {
    "execution": {
     "iopub.execute_input": "2024-12-05T10:47:21.314880Z",
     "iopub.status.busy": "2024-12-05T10:47:21.314052Z",
     "iopub.status.idle": "2024-12-05T10:47:21.320142Z",
     "shell.execute_reply": "2024-12-05T10:47:21.319291Z",
     "shell.execute_reply.started": "2024-12-05T10:47:21.314826Z"
    }
   },
   "outputs": [
    {
     "data": {
      "text/plain": [
       "(97320, 2)"
      ]
     },
     "execution_count": 69,
     "metadata": {},
     "output_type": "execute_result"
    }
   ],
   "source": [
    "test.shape"
   ]
  },
  {
   "cell_type": "code",
   "execution_count": 70,
   "id": "b3a432e1-bc87-4a3b-a416-38fe0485ffc5",
   "metadata": {
    "execution": {
     "iopub.execute_input": "2024-12-05T10:47:31.181710Z",
     "iopub.status.busy": "2024-12-05T10:47:31.180491Z",
     "iopub.status.idle": "2024-12-05T10:47:31.189436Z",
     "shell.execute_reply": "2024-12-05T10:47:31.188001Z",
     "shell.execute_reply.started": "2024-12-05T10:47:31.181643Z"
    }
   },
   "outputs": [
    {
     "data": {
      "text/plain": [
       "(97320, 7)"
      ]
     },
     "execution_count": 70,
     "metadata": {},
     "output_type": "execute_result"
    }
   ],
   "source": [
    "binary_df.shape"
   ]
  },
  {
   "cell_type": "code",
   "execution_count": 71,
   "id": "57bd4144-0dd6-4e27-956f-606a3b7fe72d",
   "metadata": {
    "execution": {
     "iopub.execute_input": "2024-12-05T10:48:25.145659Z",
     "iopub.status.busy": "2024-12-05T10:48:25.144713Z",
     "iopub.status.idle": "2024-12-05T10:48:25.159217Z",
     "shell.execute_reply": "2024-12-05T10:48:25.158354Z",
     "shell.execute_reply.started": "2024-12-05T10:48:25.145616Z"
    }
   },
   "outputs": [
    {
     "name": "stdout",
     "output_type": "stream",
     "text": [
      "   id                                               text  toxicity  \\\n",
      "0   0  [ Integrity means that you pay your debts.]\\n\\...         0   \n",
      "1   1  This is malfeasance by the Administrator and t...         0   \n",
      "2   2  @Rmiller101 - Spoken like a true elitist. But ...         0   \n",
      "3   3  Paul: Thank you for your kind words.  I do, in...         0   \n",
      "4   4  Sorry you missed high school. Eisenhower sent ...         0   \n",
      "\n",
      "   severe_toxicity  obscene  threat  insult  identity_attack  sexual_explicit  \n",
      "0                0        0       0       0                0                0  \n",
      "1                0        0       0       0                0                0  \n",
      "2                0        0       0       0                0                0  \n",
      "3                0        0       0       0                0                0  \n",
      "4                0        0       0       0                0                0  \n"
     ]
    }
   ],
   "source": [
    "test.reset_index(drop=True, inplace=True)\n",
    "binary_df.reset_index(drop=True, inplace=True)\n",
    "\n",
    "final_df = pd.concat([test, binary_df], axis=1)\n",
    "\n",
    "print(final_df.head())"
   ]
  },
  {
   "cell_type": "code",
   "execution_count": 72,
   "id": "4792349e-fce2-4328-8155-935fe785cc69",
   "metadata": {
    "execution": {
     "iopub.execute_input": "2024-12-05T10:48:37.912412Z",
     "iopub.status.busy": "2024-12-05T10:48:37.911540Z",
     "iopub.status.idle": "2024-12-05T10:48:37.922105Z",
     "shell.execute_reply": "2024-12-05T10:48:37.921246Z",
     "shell.execute_reply.started": "2024-12-05T10:48:37.912375Z"
    }
   },
   "outputs": [
    {
     "data": {
      "text/html": [
       "<div>\n",
       "<style scoped>\n",
       "    .dataframe tbody tr th:only-of-type {\n",
       "        vertical-align: middle;\n",
       "    }\n",
       "\n",
       "    .dataframe tbody tr th {\n",
       "        vertical-align: top;\n",
       "    }\n",
       "\n",
       "    .dataframe thead th {\n",
       "        text-align: right;\n",
       "    }\n",
       "</style>\n",
       "<table border=\"1\" class=\"dataframe\">\n",
       "  <thead>\n",
       "    <tr style=\"text-align: right;\">\n",
       "      <th></th>\n",
       "      <th>id</th>\n",
       "      <th>text</th>\n",
       "      <th>toxicity</th>\n",
       "      <th>severe_toxicity</th>\n",
       "      <th>obscene</th>\n",
       "      <th>threat</th>\n",
       "      <th>insult</th>\n",
       "      <th>identity_attack</th>\n",
       "      <th>sexual_explicit</th>\n",
       "    </tr>\n",
       "  </thead>\n",
       "  <tbody>\n",
       "    <tr>\n",
       "      <th>0</th>\n",
       "      <td>0</td>\n",
       "      <td>[ Integrity means that you pay your debts.]\\n\\...</td>\n",
       "      <td>0</td>\n",
       "      <td>0</td>\n",
       "      <td>0</td>\n",
       "      <td>0</td>\n",
       "      <td>0</td>\n",
       "      <td>0</td>\n",
       "      <td>0</td>\n",
       "    </tr>\n",
       "    <tr>\n",
       "      <th>1</th>\n",
       "      <td>1</td>\n",
       "      <td>This is malfeasance by the Administrator and t...</td>\n",
       "      <td>0</td>\n",
       "      <td>0</td>\n",
       "      <td>0</td>\n",
       "      <td>0</td>\n",
       "      <td>0</td>\n",
       "      <td>0</td>\n",
       "      <td>0</td>\n",
       "    </tr>\n",
       "    <tr>\n",
       "      <th>2</th>\n",
       "      <td>2</td>\n",
       "      <td>@Rmiller101 - Spoken like a true elitist. But ...</td>\n",
       "      <td>0</td>\n",
       "      <td>0</td>\n",
       "      <td>0</td>\n",
       "      <td>0</td>\n",
       "      <td>0</td>\n",
       "      <td>0</td>\n",
       "      <td>0</td>\n",
       "    </tr>\n",
       "    <tr>\n",
       "      <th>3</th>\n",
       "      <td>3</td>\n",
       "      <td>Paul: Thank you for your kind words.  I do, in...</td>\n",
       "      <td>0</td>\n",
       "      <td>0</td>\n",
       "      <td>0</td>\n",
       "      <td>0</td>\n",
       "      <td>0</td>\n",
       "      <td>0</td>\n",
       "      <td>0</td>\n",
       "    </tr>\n",
       "    <tr>\n",
       "      <th>4</th>\n",
       "      <td>4</td>\n",
       "      <td>Sorry you missed high school. Eisenhower sent ...</td>\n",
       "      <td>0</td>\n",
       "      <td>0</td>\n",
       "      <td>0</td>\n",
       "      <td>0</td>\n",
       "      <td>0</td>\n",
       "      <td>0</td>\n",
       "      <td>0</td>\n",
       "    </tr>\n",
       "  </tbody>\n",
       "</table>\n",
       "</div>"
      ],
      "text/plain": [
       "   id                                               text  toxicity  \\\n",
       "0   0  [ Integrity means that you pay your debts.]\\n\\...         0   \n",
       "1   1  This is malfeasance by the Administrator and t...         0   \n",
       "2   2  @Rmiller101 - Spoken like a true elitist. But ...         0   \n",
       "3   3  Paul: Thank you for your kind words.  I do, in...         0   \n",
       "4   4  Sorry you missed high school. Eisenhower sent ...         0   \n",
       "\n",
       "   severe_toxicity  obscene  threat  insult  identity_attack  sexual_explicit  \n",
       "0                0        0       0       0                0                0  \n",
       "1                0        0       0       0                0                0  \n",
       "2                0        0       0       0                0                0  \n",
       "3                0        0       0       0                0                0  \n",
       "4                0        0       0       0                0                0  "
      ]
     },
     "metadata": {},
     "output_type": "display_data"
    }
   ],
   "source": [
    "display(final_df.head())"
   ]
  },
  {
   "cell_type": "code",
   "execution_count": 73,
   "id": "bcc84c48-469c-4d09-be7a-ca89e8004c39",
   "metadata": {
    "execution": {
     "iopub.execute_input": "2024-12-05T10:49:32.439343Z",
     "iopub.status.busy": "2024-12-05T10:49:32.438485Z",
     "iopub.status.idle": "2024-12-05T10:49:32.452997Z",
     "shell.execute_reply": "2024-12-05T10:49:32.452197Z",
     "shell.execute_reply.started": "2024-12-05T10:49:32.439303Z"
    }
   },
   "outputs": [
    {
     "data": {
      "text/html": [
       "<div>\n",
       "<style scoped>\n",
       "    .dataframe tbody tr th:only-of-type {\n",
       "        vertical-align: middle;\n",
       "    }\n",
       "\n",
       "    .dataframe tbody tr th {\n",
       "        vertical-align: top;\n",
       "    }\n",
       "\n",
       "    .dataframe thead th {\n",
       "        text-align: right;\n",
       "    }\n",
       "</style>\n",
       "<table border=\"1\" class=\"dataframe\">\n",
       "  <thead>\n",
       "    <tr style=\"text-align: right;\">\n",
       "      <th></th>\n",
       "      <th>id</th>\n",
       "      <th>toxicity</th>\n",
       "      <th>severe_toxicity</th>\n",
       "      <th>obscene</th>\n",
       "      <th>threat</th>\n",
       "      <th>insult</th>\n",
       "      <th>identity_attack</th>\n",
       "      <th>sexual_explicit</th>\n",
       "    </tr>\n",
       "  </thead>\n",
       "  <tbody>\n",
       "    <tr>\n",
       "      <th>0</th>\n",
       "      <td>0</td>\n",
       "      <td>0</td>\n",
       "      <td>0</td>\n",
       "      <td>0</td>\n",
       "      <td>0</td>\n",
       "      <td>0</td>\n",
       "      <td>0</td>\n",
       "      <td>0</td>\n",
       "    </tr>\n",
       "    <tr>\n",
       "      <th>1</th>\n",
       "      <td>1</td>\n",
       "      <td>0</td>\n",
       "      <td>0</td>\n",
       "      <td>0</td>\n",
       "      <td>0</td>\n",
       "      <td>0</td>\n",
       "      <td>0</td>\n",
       "      <td>0</td>\n",
       "    </tr>\n",
       "    <tr>\n",
       "      <th>2</th>\n",
       "      <td>2</td>\n",
       "      <td>0</td>\n",
       "      <td>0</td>\n",
       "      <td>0</td>\n",
       "      <td>0</td>\n",
       "      <td>0</td>\n",
       "      <td>0</td>\n",
       "      <td>0</td>\n",
       "    </tr>\n",
       "    <tr>\n",
       "      <th>3</th>\n",
       "      <td>3</td>\n",
       "      <td>0</td>\n",
       "      <td>0</td>\n",
       "      <td>0</td>\n",
       "      <td>0</td>\n",
       "      <td>0</td>\n",
       "      <td>0</td>\n",
       "      <td>0</td>\n",
       "    </tr>\n",
       "    <tr>\n",
       "      <th>4</th>\n",
       "      <td>4</td>\n",
       "      <td>0</td>\n",
       "      <td>0</td>\n",
       "      <td>0</td>\n",
       "      <td>0</td>\n",
       "      <td>0</td>\n",
       "      <td>0</td>\n",
       "      <td>0</td>\n",
       "    </tr>\n",
       "  </tbody>\n",
       "</table>\n",
       "</div>"
      ],
      "text/plain": [
       "   id  toxicity  severe_toxicity  obscene  threat  insult  identity_attack  \\\n",
       "0   0         0                0        0       0       0                0   \n",
       "1   1         0                0        0       0       0                0   \n",
       "2   2         0                0        0       0       0                0   \n",
       "3   3         0                0        0       0       0                0   \n",
       "4   4         0                0        0       0       0                0   \n",
       "\n",
       "   sexual_explicit  \n",
       "0                0  \n",
       "1                0  \n",
       "2                0  \n",
       "3                0  \n",
       "4                0  "
      ]
     },
     "metadata": {},
     "output_type": "display_data"
    }
   ],
   "source": [
    "final_df = final_df.drop(columns='text')\n",
    "display(final_df.head())"
   ]
  },
  {
   "cell_type": "code",
   "execution_count": 74,
   "id": "a13d481b-b1f4-4218-b30c-d8c21752aee6",
   "metadata": {
    "execution": {
     "iopub.execute_input": "2024-12-05T10:49:48.524976Z",
     "iopub.status.busy": "2024-12-05T10:49:48.524266Z",
     "iopub.status.idle": "2024-12-05T10:49:48.696777Z",
     "shell.execute_reply": "2024-12-05T10:49:48.696042Z",
     "shell.execute_reply.started": "2024-12-05T10:49:48.524939Z"
    }
   },
   "outputs": [],
   "source": [
    "final_df.to_csv('predictions_lstm_5.csv')"
   ]
  },
  {
   "cell_type": "markdown",
   "id": "ba4fab2c-7e56-47b3-88f1-ee199960bec0",
   "metadata": {},
   "source": [
    "**With this model training, we recieved 95.73 accuracy on the available dataset on Kaggle public leaderboard.**"
   ]
  },
  {
   "cell_type": "markdown",
   "id": "3b2c4680-b3c5-4175-b6b7-caf6a88531a4",
   "metadata": {},
   "source": [
    "## Thank you"
   ]
  }
 ],
 "metadata": {
  "kaggle": {
   "accelerator": "gpu",
   "dataSources": [
    {
     "datasetId": 14154,
     "sourceId": 19053,
     "sourceType": "datasetVersion"
    },
    {
     "datasetId": 6151804,
     "sourceId": 9995110,
     "sourceType": "datasetVersion"
    },
    {
     "datasetId": 6201625,
     "sourceId": 10063255,
     "sourceType": "datasetVersion"
    }
   ],
   "dockerImageVersionId": 30805,
   "isGpuEnabled": true,
   "isInternetEnabled": true,
   "language": "python",
   "sourceType": "notebook"
  },
  "kernelspec": {
   "display_name": "Python 3 (ipykernel)",
   "language": "python",
   "name": "python3"
  },
  "language_info": {
   "codemirror_mode": {
    "name": "ipython",
    "version": 3
   },
   "file_extension": ".py",
   "mimetype": "text/x-python",
   "name": "python",
   "nbconvert_exporter": "python",
   "pygments_lexer": "ipython3",
   "version": "3.12.3"
  }
 },
 "nbformat": 4,
 "nbformat_minor": 5
}
